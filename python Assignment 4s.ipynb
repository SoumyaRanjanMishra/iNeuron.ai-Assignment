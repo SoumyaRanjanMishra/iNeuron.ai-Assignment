{
 "cells": [
  {
   "cell_type": "code",
   "execution_count": 4,
   "metadata": {},
   "outputs": [
    {
     "name": "stdout",
     "output_type": "stream",
     "text": [
      "a = 5\n",
      "b = 6\n",
      "c = 7\n",
      "Area of triangle is  14.696938456699069\n"
     ]
    }
   ],
   "source": [
    "# 1.1 Write a Python Program(with class concepts) to find the area of the triangle using the below\n",
    "# formula..area = (s*(s-a)*(s-b)*(s-c)) ** 0.5\n",
    "# Function to take the length of the sides of triangle from user should be defined in the parent\n",
    "# class and function to calculate the area should be defined in subclass..............................\n",
    "class sides:\n",
    "    def __init__(self,a,b,c):\n",
    "        self.a=a\n",
    "        self.b=b\n",
    "        self.c=c\n",
    "class areatriangle(sides):\n",
    "    def area(self):\n",
    "        s=(self.a+self.b+self.c)*0.5\n",
    "        return float((s*(s-self.a)*(s-self.b)*(s-self.c))) ** 0.5\n",
    "a,b,c=float(input(\"a = \")),float(input(\"b = \")),float(input(\"c = \"))\n",
    "result=areatriangle(a,b,c)\n",
    "print('Area of triangle is ', result.area()) "
   ]
  },
  {
   "cell_type": "code",
   "execution_count": 5,
   "metadata": {},
   "outputs": [
    {
     "name": "stdout",
     "output_type": "stream",
     "text": [
      "a:=5\n",
      "b:=6\n",
      "c:=7\n",
      "Area of triangle is 14.696938456699069\n"
     ]
    }
   ],
   "source": [
    "class sides:\n",
    "    def __init__(self,a,b,c):\n",
    "        self.a=float(input(\"a:=\"))\n",
    "        self.b=float(input(\"b:=\"))\n",
    "        self.c=float(input(\"c:=\"))\n",
    "class areatrainagle(sides):\n",
    "    def area(self):\n",
    "        s=(self.a+self.b+self.c)*0.5\n",
    "        return float((s*(s-self.a)*(s-self.b)*(s-self.c)))**0.5\n",
    "result=areatrainagle(a,b,c)\n",
    "print('Area of triangle is',result.area())"
   ]
  },
  {
   "cell_type": "code",
   "execution_count": 6,
   "metadata": {},
   "outputs": [
    {
     "name": "stdout",
     "output_type": "stream",
     "text": [
      "Please input the list of words,separeted by space:a aa aaa b bb bbb c cc ccc d dd ddd e ee eee\n",
      "Please input an integer and maximum length of words to keep:3\n",
      "The list of words greater than3 are aaa,bbb,ccc,ddd,eee\n"
     ]
    }
   ],
   "source": [
    "#  v1.2 Write a function filter_long_words() that takes a list of words and an integer n and returns the list of words \n",
    "#  that are longer than n.\n",
    "def filter_long_words(wordlist,length):\n",
    "    return (word for word in wordlist if len(word)>=length)\n",
    "def call():\n",
    "    words = input(\"Please input the list of words,separeted by space:\").split()\n",
    "    length=int(input(\"Please input an integer and maximum length of words to keep:\"))\n",
    "    print(\"The list of words greater than{} are {}\".format(length,','.join(filter_long_words(words,length))))\n",
    "call()"
   ]
  },
  {
   "cell_type": "code",
   "execution_count": 7,
   "metadata": {},
   "outputs": [
    {
     "name": "stdout",
     "output_type": "stream",
     "text": [
      "Please Input The words:-ab,cde,erty\n",
      "Length of words are [2, 3, 4]\n"
     ]
    }
   ],
   "source": [
    "# 2.1 Write a Python program using function concept that maps list of words into a list of integers representing \n",
    "# the lengths of the corresponding words.Hint: If a list [ ab,cde,erty] is passed on to the python function output\n",
    "# should come as [2,3,4] Here 2,3 and 4 are the lengths of the words in the list.\n",
    "def maps_list_of_words(List):\n",
    "    return list(map(len,List))\n",
    "words=list(input(\"Please Input The words:-\").split(\",\"))\n",
    "List=[i.strip() for i in words]\n",
    "length=maps_list_of_words(words)\n",
    "print(\"Length of words are\",length)"
   ]
  },
  {
   "cell_type": "code",
   "execution_count": 8,
   "metadata": {},
   "outputs": [
    {
     "name": "stdout",
     "output_type": "stream",
     "text": [
      "False\n",
      "False\n",
      "True\n",
      "True\n"
     ]
    }
   ],
   "source": [
    "# Write a Python function which takes a character (i.e. a string of length 1) and returns True if it is a vowel, False otherwise\n",
    "def vowel(character):\n",
    "    vowel='aeiou'\n",
    "    return character in vowel\n",
    "print(vowel('c'))\n",
    "print(vowel('h'))\n",
    "print(vowel('e'))\n",
    "print(vowel('u'))"
   ]
  }
 ],
 "metadata": {
  "kernelspec": {
   "display_name": "Python 3",
   "language": "python",
   "name": "python3"
  },
  "language_info": {
   "codemirror_mode": {
    "name": "ipython",
    "version": 3
   },
   "file_extension": ".py",
   "mimetype": "text/x-python",
   "name": "python",
   "nbconvert_exporter": "python",
   "pygments_lexer": "ipython3",
   "version": "3.7.9"
  }
 },
 "nbformat": 4,
 "nbformat_minor": 4
}
