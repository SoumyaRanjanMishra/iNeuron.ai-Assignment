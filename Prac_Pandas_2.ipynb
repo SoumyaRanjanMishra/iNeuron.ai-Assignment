{
 "cells": [
  {
   "cell_type": "code",
   "execution_count": 1,
   "id": "d50743fb",
   "metadata": {},
   "outputs": [
    {
     "name": "stdout",
     "output_type": "stream",
     "text": [
      "Labels: ['a', 'b', 'c']\n",
      "My Data: [10, 20, 30]\n",
      "Dictionary {'a': 10, 'b': 20, 'c': 30}\n"
     ]
    },
    {
     "data": {
      "text/plain": [
       "a    10\n",
       "b    20\n",
       "c    30\n",
       "dtype: int64"
      ]
     },
     "execution_count": 1,
     "metadata": {},
     "output_type": "execute_result"
    }
   ],
   "source": [
    "import pandas as pd\n",
    "import numpy as np\n",
    "labels=['a','b','c']\n",
    "my_data=[10,20,30]\n",
    "ar=np.array(my_data)\n",
    "d={'a':10,'b':20,'c':30}\n",
    "print(\"Labels:\",labels)\n",
    "print(\"My Data:\",my_data)\n",
    "print(\"Dictionary\",d)\n",
    "pd.Series(my_data,index=labels)"
   ]
  },
  {
   "cell_type": "code",
   "execution_count": 2,
   "id": "04dbd0b4",
   "metadata": {},
   "outputs": [
    {
     "name": "stdout",
     "output_type": "stream",
     "text": [
      "\n",
      "Holding numerical data\n",
      "-------------------------\n",
      "10\n",
      "20\n"
     ]
    }
   ],
   "source": [
    "print(\"\\nHolding numerical data\\n\",'-'*25,sep='')\n",
    "print(pd.Series(ar)[0])\n",
    "print(pd.Series(ar)[1])"
   ]
  },
  {
   "cell_type": "code",
   "execution_count": 3,
   "id": "0b488ad0",
   "metadata": {},
   "outputs": [
    {
     "name": "stdout",
     "output_type": "stream",
     "text": [
      "\n",
      "Holding new Text labels\n",
      "\n",
      "0    a\n",
      "1    b\n",
      "2    c\n",
      "dtype: object\n"
     ]
    }
   ],
   "source": [
    "print(\"\\nHolding new Text labels\\n\",)\n",
    "print(pd.Series(labels))"
   ]
  },
  {
   "cell_type": "code",
   "execution_count": 4,
   "id": "214a24f0",
   "metadata": {},
   "outputs": [
    {
     "data": {
      "text/html": [
       "<div>\n",
       "<style scoped>\n",
       "    .dataframe tbody tr th:only-of-type {\n",
       "        vertical-align: middle;\n",
       "    }\n",
       "\n",
       "    .dataframe tbody tr th {\n",
       "        vertical-align: top;\n",
       "    }\n",
       "\n",
       "    .dataframe thead th {\n",
       "        text-align: right;\n",
       "    }\n",
       "</style>\n",
       "<table border=\"1\" class=\"dataframe\">\n",
       "  <thead>\n",
       "    <tr style=\"text-align: right;\">\n",
       "      <th></th>\n",
       "      <th>a</th>\n",
       "      <th>b</th>\n",
       "      <th>c</th>\n",
       "    </tr>\n",
       "  </thead>\n",
       "  <tbody>\n",
       "    <tr>\n",
       "      <th>a</th>\n",
       "      <td>kjhk</td>\n",
       "      <td>20</td>\n",
       "      <td>30</td>\n",
       "    </tr>\n",
       "    <tr>\n",
       "      <th>b</th>\n",
       "      <td>kjhk</td>\n",
       "      <td>20</td>\n",
       "      <td>30</td>\n",
       "    </tr>\n",
       "    <tr>\n",
       "      <th>c</th>\n",
       "      <td>kjhk</td>\n",
       "      <td>20</td>\n",
       "      <td>30</td>\n",
       "    </tr>\n",
       "  </tbody>\n",
       "</table>\n",
       "</div>"
      ],
      "text/plain": [
       "      a   b   c\n",
       "a  kjhk  20  30\n",
       "b  kjhk  20  30\n",
       "c  kjhk  20  30"
      ]
     },
     "execution_count": 4,
     "metadata": {},
     "output_type": "execute_result"
    }
   ],
   "source": [
    "d={'a':\"kjhk\",'b':20,'c':30}\n",
    "d.items\n",
    "pd.DataFrame(d,index=['a','b','c'])"
   ]
  },
  {
   "cell_type": "code",
   "execution_count": 6,
   "id": "d772b203",
   "metadata": {},
   "outputs": [
    {
     "name": "stdout",
     "output_type": "stream",
     "text": [
      "\n",
      "Holding objects from a dictionary\n",
      "----------------------------------------\n",
      "0             <class 'type'>\n",
      "1    <built-in function sum>\n",
      "2    <built-in function max>\n",
      "dtype: object\n"
     ]
    }
   ],
   "source": [
    "print(\"\\nHolding objects from a dictionary\\n\",'-'*40,sep='')\n",
    "print(pd.Series([type,sum,max]))"
   ]
  },
  {
   "cell_type": "code",
   "execution_count": 17,
   "id": "b5e947c4",
   "metadata": {},
   "outputs": [
    {
     "data": {
      "text/plain": [
       "2    1\n",
       "4    2\n",
       "6    3\n",
       "8    4\n",
       "dtype: int64"
      ]
     },
     "execution_count": 17,
     "metadata": {},
     "output_type": "execute_result"
    }
   ],
   "source": [
    "ser1=pd.Series([1,2,3,4],index = [2,4,6,8])\n",
    "ser2=pd.Series([1,2,5,4],['CA','OR','NV','AZ'])    \n",
    "ser1"
   ]
  },
  {
   "cell_type": "code",
   "execution_count": 10,
   "id": "e864aaae",
   "metadata": {},
   "outputs": [
    {
     "data": {
      "text/plain": [
       "2    1\n",
       "6    3\n",
       "dtype: int64"
      ]
     },
     "execution_count": 10,
     "metadata": {},
     "output_type": "execute_result"
    }
   ],
   "source": [
    "ser1[0:3:2]"
   ]
  },
  {
   "cell_type": "code",
   "execution_count": 11,
   "id": "db37fee2",
   "metadata": {},
   "outputs": [
    {
     "name": "stdout",
     "output_type": "stream",
     "text": [
      "\n",
      "Indexing by a range\n",
      "-------------------------\n",
      "value for OR, CO and AZ in ser1:\n",
      "2    1\n",
      "6    3\n",
      "dtype: int64\n"
     ]
    }
   ],
   "source": [
    "print(\"\\nIndexing by a range\\n\",'-'*25,sep='')\n",
    "print(\"value for OR, CO and AZ in ser1:\\n\",ser1[0:3:2],sep='')"
   ]
  },
  {
   "cell_type": "code",
   "execution_count": 12,
   "id": "a6bd4632",
   "metadata": {},
   "outputs": [
    {
     "data": {
      "text/plain": [
       "AZ    NaN\n",
       "CA    2.0\n",
       "CA    5.0\n",
       "CO    NaN\n",
       "NV    NaN\n",
       "OR    6.0\n",
       "dtype: float64"
      ]
     },
     "execution_count": 12,
     "metadata": {},
     "output_type": "execute_result"
    }
   ],
   "source": [
    "ser1=pd.Series([1,2,3,4],['CA','OR','CO','CA'])\n",
    "ser2=pd.Series([1,2,3,4],['CA','NV','AZ','OR'])\n",
    "ser3=ser1+ser2\n",
    "ser3"
   ]
  },
  {
   "cell_type": "code",
   "execution_count": 13,
   "id": "0c5a1da4",
   "metadata": {},
   "outputs": [
    {
     "name": "stdout",
     "output_type": "stream",
     "text": [
      "\n",
      " After adding the two series,the result look like this..\n",
      "-------------------------\n",
      "AZ    NaN\n",
      "CA    2.0\n",
      "CA    5.0\n",
      "CO    NaN\n",
      "NV    NaN\n",
      "OR    6.0\n",
      "dtype: float64\n",
      "\n",
      "python tries to add values where it find commomn index name and put Nan where indices are misssig\n",
      "\n"
     ]
    }
   ],
   "source": [
    "print(\"\\n After adding the two series,the result look like this..\\n\",'-'*25,sep='')\n",
    "print(ser3)\n",
    "print(\"\\npython tries to add values where it find commomn index name and put Nan where indices are misssig\\n\")"
   ]
  },
  {
   "cell_type": "code",
   "execution_count": 14,
   "id": "33e416e3",
   "metadata": {},
   "outputs": [
    {
     "name": "stdout",
     "output_type": "stream",
     "text": [
      "\n",
      " After the adding two series the idea for multiplcation...\n",
      "-------------------------------------------\n"
     ]
    },
    {
     "data": {
      "text/plain": [
       "AZ    NaN\n",
       "CA    1.0\n",
       "CA    4.0\n",
       "CO    NaN\n",
       "NV    NaN\n",
       "OR    8.0\n",
       "dtype: float64"
      ]
     },
     "execution_count": 14,
     "metadata": {},
     "output_type": "execute_result"
    }
   ],
   "source": [
    "print(\"\\n After the adding two series the idea for multiplcation...\\n\",'-'*43,sep='')\n",
    "ser1*ser2"
   ]
  },
  {
   "cell_type": "code",
   "execution_count": 28,
   "id": "44d224d1",
   "metadata": {},
   "outputs": [
    {
     "name": "stdout",
     "output_type": "stream",
     "text": [
      "\n",
      " The data frame looks like\n",
      "---------------------------------------------\n"
     ]
    },
    {
     "data": {
      "text/html": [
       "<div>\n",
       "<style scoped>\n",
       "    .dataframe tbody tr th:only-of-type {\n",
       "        vertical-align: middle;\n",
       "    }\n",
       "\n",
       "    .dataframe tbody tr th {\n",
       "        vertical-align: top;\n",
       "    }\n",
       "\n",
       "    .dataframe thead th {\n",
       "        text-align: right;\n",
       "    }\n",
       "</style>\n",
       "<table border=\"1\" class=\"dataframe\">\n",
       "  <thead>\n",
       "    <tr style=\"text-align: right;\">\n",
       "      <th></th>\n",
       "      <th>w</th>\n",
       "      <th>X</th>\n",
       "      <th>Y</th>\n",
       "      <th>Z</th>\n",
       "    </tr>\n",
       "  </thead>\n",
       "  <tbody>\n",
       "    <tr>\n",
       "      <th>A</th>\n",
       "      <td>0.427341</td>\n",
       "      <td>0.871447</td>\n",
       "      <td>-0.614734</td>\n",
       "      <td>-0.527587</td>\n",
       "    </tr>\n",
       "    <tr>\n",
       "      <th>B</th>\n",
       "      <td>-1.259390</td>\n",
       "      <td>-0.512804</td>\n",
       "      <td>-0.097233</td>\n",
       "      <td>-0.593983</td>\n",
       "    </tr>\n",
       "    <tr>\n",
       "      <th>C</th>\n",
       "      <td>-1.023828</td>\n",
       "      <td>0.627687</td>\n",
       "      <td>0.406804</td>\n",
       "      <td>-0.408431</td>\n",
       "    </tr>\n",
       "    <tr>\n",
       "      <th>D</th>\n",
       "      <td>-2.208594</td>\n",
       "      <td>-3.104526</td>\n",
       "      <td>0.365903</td>\n",
       "      <td>1.354431</td>\n",
       "    </tr>\n",
       "    <tr>\n",
       "      <th>E</th>\n",
       "      <td>-1.394094</td>\n",
       "      <td>-0.592479</td>\n",
       "      <td>0.681552</td>\n",
       "      <td>-0.989820</td>\n",
       "    </tr>\n",
       "  </tbody>\n",
       "</table>\n",
       "</div>"
      ],
      "text/plain": [
       "          w         X         Y         Z\n",
       "A  0.427341  0.871447 -0.614734 -0.527587\n",
       "B -1.259390 -0.512804 -0.097233 -0.593983\n",
       "C -1.023828  0.627687  0.406804 -0.408431\n",
       "D -2.208594 -3.104526  0.365903  1.354431\n",
       "E -1.394094 -0.592479  0.681552 -0.989820"
      ]
     },
     "execution_count": 28,
     "metadata": {},
     "output_type": "execute_result"
    }
   ],
   "source": [
    "from numpy.random import randn as rn\n",
    "matrix_data=rn(5,4)\n",
    "row_labels=['A','B','C','D','E']\n",
    "Column_heading=['w','X','Y','Z']\n",
    "df1=pd.DataFrame(matrix_data,row_labels,Column_heading)\n",
    "print(\"\\n The data frame looks like\\n\",'-'*45,sep='')\n",
    "df1"
   ]
  },
  {
   "cell_type": "code",
   "execution_count": 29,
   "id": "af78b25b",
   "metadata": {},
   "outputs": [
    {
     "data": {
      "text/plain": [
       "w   -1.023828\n",
       "X    0.627687\n",
       "Y    0.406804\n",
       "Z   -0.408431\n",
       "Name: C, dtype: float64"
      ]
     },
     "execution_count": 29,
     "metadata": {},
     "output_type": "execute_result"
    }
   ],
   "source": [
    "df1.iloc[2]"
   ]
  },
  {
   "cell_type": "code",
   "execution_count": 30,
   "id": "6cea2b33",
   "metadata": {},
   "outputs": [
    {
     "data": {
      "text/plain": [
       "w    0.427341\n",
       "X    0.871447\n",
       "Y   -0.614734\n",
       "Z   -0.527587\n",
       "Name: A, dtype: float64"
      ]
     },
     "execution_count": 30,
     "metadata": {},
     "output_type": "execute_result"
    }
   ],
   "source": [
    "df1.iloc[0]"
   ]
  },
  {
   "cell_type": "code",
   "execution_count": 31,
   "id": "e8181b1d",
   "metadata": {},
   "outputs": [
    {
     "data": {
      "text/plain": [
       "w   -2.208594\n",
       "X   -3.104526\n",
       "Y    0.365903\n",
       "Z    1.354431\n",
       "Name: D, dtype: float64"
      ]
     },
     "execution_count": 31,
     "metadata": {},
     "output_type": "execute_result"
    }
   ],
   "source": [
    "df1.iloc[3]"
   ]
  },
  {
   "cell_type": "code",
   "execution_count": 32,
   "id": "173ae253",
   "metadata": {},
   "outputs": [
    {
     "name": "stdout",
     "output_type": "stream",
     "text": [
      "\n",
      "Type of the Pair of columns:<class 'pandas.core.frame.DataFrame'>\n",
      "\n",
      " So,for more than one column,the object turn into a Dataframe\n"
     ]
    }
   ],
   "source": [
    "print(\"\\nType of the Pair of columns:\",type(df[['X','Z']]),sep='')\n",
    "print(\"\\n So,for more than one column,the object turn into a Dataframe\")"
   ]
  },
  {
   "cell_type": "code",
   "execution_count": 33,
   "id": "013c0c5b",
   "metadata": {},
   "outputs": [
    {
     "name": "stdout",
     "output_type": "stream",
     "text": [
      "\n",
      "The 'X' column accessed by DOT method (NoT recommended)\n",
      "-------------------------------------------------------\n",
      "A    0.871447\n",
      "B   -0.512804\n",
      "C    0.627687\n",
      "D   -3.104526\n",
      "E   -0.592479\n",
      "Name: X, dtype: float64\n"
     ]
    }
   ],
   "source": [
    "print(\"\\nThe 'X' column accessed by DOT method (NoT recommended)\\n\",'-'*55,sep='')\n",
    "print(df1['X'])"
   ]
  },
  {
   "cell_type": "code",
   "execution_count": 34,
   "id": "6b7134e6",
   "metadata": {},
   "outputs": [
    {
     "name": "stdout",
     "output_type": "stream",
     "text": [
      "\n",
      "A column is created by assigning it in relation to an existing \n",
      "---------------------------------------------------------------------------\n",
      "          w         X         Y         Z       New  New(sum of x and Z )  \\\n",
      "A -1.207775 -0.856153  0.130744  1.950774 -0.725409              1.094621   \n",
      "B -0.018673  0.106650  0.979788  0.230676  1.086439              0.337326   \n",
      "C -0.038621 -0.595137  0.389014  1.374008 -0.206123              0.778871   \n",
      "D -0.099524 -1.045696  1.054270 -1.896427  0.008574             -2.942122   \n",
      "E -1.551389  1.647379  1.546147  0.679554  3.193525              2.326932   \n",
      "\n",
      "   New(sum of x and Y)  \n",
      "A            -0.725409  \n",
      "B             1.086439  \n",
      "C            -0.206123  \n",
      "D             0.008574  \n",
      "E             3.193525  \n"
     ]
    }
   ],
   "source": [
    "print(\"\\nA column is created by assigning it in relation to an existing \\n\",'-'*75,sep='')\n",
    "df1['New']=df['X']+df['Z']\n",
    "df1['New(sum of x and Z )']=df['X']+df['Z']\n",
    "print(df)"
   ]
  },
  {
   "cell_type": "code",
   "execution_count": 35,
   "id": "e30f978f",
   "metadata": {},
   "outputs": [
    {
     "name": "stdout",
     "output_type": "stream",
     "text": [
      "\n",
      "The dataframe of column is created by assinging it in the realtion to an existing: \n",
      "----------------------------------------------------------------------------------\n",
      "          w         X         Y         Z       New  New(sum of x and Z )  \\\n",
      "A -1.207775 -0.856153  0.130744  1.950774 -0.725409              1.094621   \n",
      "B -0.018673  0.106650  0.979788  0.230676  1.086439              0.337326   \n",
      "C -0.038621 -0.595137  0.389014  1.374008 -0.206123              0.778871   \n",
      "D -0.099524 -1.045696  1.054270 -1.896427  0.008574             -2.942122   \n",
      "E -1.551389  1.647379  1.546147  0.679554  3.193525              2.326932   \n",
      "\n",
      "   New(sum of x and Y)  \n",
      "A            -0.725409  \n",
      "B             1.086439  \n",
      "C            -0.206123  \n",
      "D             0.008574  \n",
      "E             3.193525  \n"
     ]
    }
   ],
   "source": [
    "print(\"\\nThe dataframe of column is created by assinging it in the realtion to an existing: \\n\",'-'*82,sep='')\n",
    "df1[(\"New\")]=df[\"X\"]+df[\"Y\"]\n",
    "df1[\"New(sum of x and Y)\"]=df[\"X\"]+df[\"Y\"]\n",
    "print(df)"
   ]
  },
  {
   "cell_type": "code",
   "execution_count": 36,
   "id": "f0c914ff",
   "metadata": {},
   "outputs": [
    {
     "data": {
      "text/html": [
       "<div>\n",
       "<style scoped>\n",
       "    .dataframe tbody tr th:only-of-type {\n",
       "        vertical-align: middle;\n",
       "    }\n",
       "\n",
       "    .dataframe tbody tr th {\n",
       "        vertical-align: top;\n",
       "    }\n",
       "\n",
       "    .dataframe thead th {\n",
       "        text-align: right;\n",
       "    }\n",
       "</style>\n",
       "<table border=\"1\" class=\"dataframe\">\n",
       "  <thead>\n",
       "    <tr style=\"text-align: right;\">\n",
       "      <th></th>\n",
       "      <th>w</th>\n",
       "      <th>X</th>\n",
       "      <th>Y</th>\n",
       "      <th>Z</th>\n",
       "      <th>New</th>\n",
       "      <th>New(sum of x and Z )</th>\n",
       "      <th>New(sum of x and Y)</th>\n",
       "    </tr>\n",
       "  </thead>\n",
       "  <tbody>\n",
       "    <tr>\n",
       "      <th>A</th>\n",
       "      <td>0.427341</td>\n",
       "      <td>0.871447</td>\n",
       "      <td>-0.614734</td>\n",
       "      <td>-0.527587</td>\n",
       "      <td>-0.725409</td>\n",
       "      <td>1.094621</td>\n",
       "      <td>-0.725409</td>\n",
       "    </tr>\n",
       "    <tr>\n",
       "      <th>B</th>\n",
       "      <td>-1.259390</td>\n",
       "      <td>-0.512804</td>\n",
       "      <td>-0.097233</td>\n",
       "      <td>-0.593983</td>\n",
       "      <td>1.086439</td>\n",
       "      <td>0.337326</td>\n",
       "      <td>1.086439</td>\n",
       "    </tr>\n",
       "    <tr>\n",
       "      <th>C</th>\n",
       "      <td>-1.023828</td>\n",
       "      <td>0.627687</td>\n",
       "      <td>0.406804</td>\n",
       "      <td>-0.408431</td>\n",
       "      <td>-0.206123</td>\n",
       "      <td>0.778871</td>\n",
       "      <td>-0.206123</td>\n",
       "    </tr>\n",
       "    <tr>\n",
       "      <th>D</th>\n",
       "      <td>-2.208594</td>\n",
       "      <td>-3.104526</td>\n",
       "      <td>0.365903</td>\n",
       "      <td>1.354431</td>\n",
       "      <td>0.008574</td>\n",
       "      <td>-2.942122</td>\n",
       "      <td>0.008574</td>\n",
       "    </tr>\n",
       "    <tr>\n",
       "      <th>E</th>\n",
       "      <td>-1.394094</td>\n",
       "      <td>-0.592479</td>\n",
       "      <td>0.681552</td>\n",
       "      <td>-0.989820</td>\n",
       "      <td>3.193525</td>\n",
       "      <td>2.326932</td>\n",
       "      <td>3.193525</td>\n",
       "    </tr>\n",
       "  </tbody>\n",
       "</table>\n",
       "</div>"
      ],
      "text/plain": [
       "          w         X         Y         Z       New  New(sum of x and Z )  \\\n",
       "A  0.427341  0.871447 -0.614734 -0.527587 -0.725409              1.094621   \n",
       "B -1.259390 -0.512804 -0.097233 -0.593983  1.086439              0.337326   \n",
       "C -1.023828  0.627687  0.406804 -0.408431 -0.206123              0.778871   \n",
       "D -2.208594 -3.104526  0.365903  1.354431  0.008574             -2.942122   \n",
       "E -1.394094 -0.592479  0.681552 -0.989820  3.193525              2.326932   \n",
       "\n",
       "   New(sum of x and Y)  \n",
       "A            -0.725409  \n",
       "B             1.086439  \n",
       "C            -0.206123  \n",
       "D             0.008574  \n",
       "E             3.193525  "
      ]
     },
     "execution_count": 36,
     "metadata": {},
     "output_type": "execute_result"
    }
   ],
   "source": [
    "df1"
   ]
  },
  {
   "cell_type": "code",
   "execution_count": 42,
   "id": "8399aa52",
   "metadata": {},
   "outputs": [
    {
     "name": "stdout",
     "output_type": "stream",
     "text": [
      "\n",
      "The row(index)is dropped by using df.drop()method and axis=0\n",
      "----------------------------------------------------------------------\n",
      "          w         X         Y         Z       New  New(sum of x and Z )  \\\n",
      "A -1.207775 -0.856153  0.130744  1.950774 -0.725409              1.094621   \n",
      "C -0.038621 -0.595137  0.389014  1.374008 -0.206123              0.778871   \n",
      "D -0.099524 -1.045696  1.054270 -1.896427  0.008574             -2.942122   \n",
      "E -1.551389  1.647379  1.546147  0.679554  3.193525              2.326932   \n",
      "\n",
      "   New(sum of x and Y)  \n",
      "A            -0.725409  \n",
      "C            -0.206123  \n",
      "D             0.008574  \n",
      "E             3.193525  \n"
     ]
    }
   ],
   "source": [
    "df1=df.drop('B')\n",
    "print(\"\\nThe row(index)is dropped by using df.drop()method and axis=0\\n\",'-'*70,sep='')\n",
    "print(df1)"
   ]
  },
  {
   "cell_type": "code",
   "execution_count": 43,
   "id": "46227a3d",
   "metadata": {},
   "outputs": [
    {
     "name": "stdout",
     "output_type": "stream",
     "text": [
      "\n",
      "A row (index) is dropped by using df.drop() method and axis=0\n",
      "-----------------------------------------------------------------\n",
      "          w         X         Y         Z       New  New(sum of x and Z )  \\\n",
      "B -0.018673  0.106650  0.979788  0.230676  1.086439              0.337326   \n",
      "C -0.038621 -0.595137  0.389014  1.374008 -0.206123              0.778871   \n",
      "D -0.099524 -1.045696  1.054270 -1.896427  0.008574             -2.942122   \n",
      "E -1.551389  1.647379  1.546147  0.679554  3.193525              2.326932   \n",
      "\n",
      "   New(sum of x and Y)  \n",
      "B             1.086439  \n",
      "C            -0.206123  \n",
      "D             0.008574  \n",
      "E             3.193525  \n"
     ]
    }
   ],
   "source": [
    "df1=df.drop('A')\n",
    "print(\"\\nA row (index) is dropped by using df.drop() method and axis=0\\n\",'-'*65, sep='')\n",
    "print(df1)"
   ]
  },
  {
   "cell_type": "code",
   "execution_count": 46,
   "id": "a47c356c",
   "metadata": {},
   "outputs": [
    {
     "data": {
      "text/html": [
       "<div>\n",
       "<style scoped>\n",
       "    .dataframe tbody tr th:only-of-type {\n",
       "        vertical-align: middle;\n",
       "    }\n",
       "\n",
       "    .dataframe tbody tr th {\n",
       "        vertical-align: top;\n",
       "    }\n",
       "\n",
       "    .dataframe thead th {\n",
       "        text-align: right;\n",
       "    }\n",
       "</style>\n",
       "<table border=\"1\" class=\"dataframe\">\n",
       "  <thead>\n",
       "    <tr style=\"text-align: right;\">\n",
       "      <th></th>\n",
       "      <th>w</th>\n",
       "      <th>X</th>\n",
       "      <th>Y</th>\n",
       "      <th>Z</th>\n",
       "      <th>New</th>\n",
       "      <th>New(sum of x and Z )</th>\n",
       "      <th>New(sum of x and Y)</th>\n",
       "    </tr>\n",
       "  </thead>\n",
       "  <tbody>\n",
       "    <tr>\n",
       "      <th>B</th>\n",
       "      <td>-0.018673</td>\n",
       "      <td>0.106650</td>\n",
       "      <td>0.979788</td>\n",
       "      <td>0.230676</td>\n",
       "      <td>1.086439</td>\n",
       "      <td>0.337326</td>\n",
       "      <td>1.086439</td>\n",
       "    </tr>\n",
       "    <tr>\n",
       "      <th>C</th>\n",
       "      <td>-0.038621</td>\n",
       "      <td>-0.595137</td>\n",
       "      <td>0.389014</td>\n",
       "      <td>1.374008</td>\n",
       "      <td>-0.206123</td>\n",
       "      <td>0.778871</td>\n",
       "      <td>-0.206123</td>\n",
       "    </tr>\n",
       "    <tr>\n",
       "      <th>D</th>\n",
       "      <td>-0.099524</td>\n",
       "      <td>-1.045696</td>\n",
       "      <td>1.054270</td>\n",
       "      <td>-1.896427</td>\n",
       "      <td>0.008574</td>\n",
       "      <td>-2.942122</td>\n",
       "      <td>0.008574</td>\n",
       "    </tr>\n",
       "    <tr>\n",
       "      <th>E</th>\n",
       "      <td>-1.551389</td>\n",
       "      <td>1.647379</td>\n",
       "      <td>1.546147</td>\n",
       "      <td>0.679554</td>\n",
       "      <td>3.193525</td>\n",
       "      <td>2.326932</td>\n",
       "      <td>3.193525</td>\n",
       "    </tr>\n",
       "  </tbody>\n",
       "</table>\n",
       "</div>"
      ],
      "text/plain": [
       "          w         X         Y         Z       New  New(sum of x and Z )  \\\n",
       "B -0.018673  0.106650  0.979788  0.230676  1.086439              0.337326   \n",
       "C -0.038621 -0.595137  0.389014  1.374008 -0.206123              0.778871   \n",
       "D -0.099524 -1.045696  1.054270 -1.896427  0.008574             -2.942122   \n",
       "E -1.551389  1.647379  1.546147  0.679554  3.193525              2.326932   \n",
       "\n",
       "   New(sum of x and Y)  \n",
       "B             1.086439  \n",
       "C            -0.206123  \n",
       "D             0.008574  \n",
       "E             3.193525  "
      ]
     },
     "execution_count": 46,
     "metadata": {},
     "output_type": "execute_result"
    }
   ],
   "source": [
    "# Selecting/indexing Rows\n",
    "# label-based 'loc method'\n",
    "# Index(numeric)'iloc'method\n",
    "df1"
   ]
  },
  {
   "cell_type": "code",
   "execution_count": 56,
   "id": "02ffe3f9",
   "metadata": {},
   "outputs": [
    {
     "name": "stdout",
     "output_type": "stream",
     "text": [
      "\n",
      " label-based 'loc'method can be used for selecting rows:\n",
      "--------------------------------------------------------\n",
      "\n",
      "single row\n",
      "\n",
      "w                      -1.551389\n",
      "X                       1.647379\n",
      "Y                       1.546147\n",
      "Z                       0.679554\n",
      "New                     3.193525\n",
      "New(sum of x and Z )    2.326932\n",
      "New(sum of x and Y)     3.193525\n",
      "Name: E, dtype: float64\n"
     ]
    }
   ],
   "source": [
    "print(\"\\n label-based 'loc'method can be used for selecting rows:\\n\",'-'*56,sep='')\n",
    "print(\"\\nsingle row\\n\")\n",
    "print(df1.iloc[3])"
   ]
  },
  {
   "cell_type": "code",
   "execution_count": 59,
   "id": "04c16545",
   "metadata": {},
   "outputs": [
    {
     "name": "stdout",
     "output_type": "stream",
     "text": [
      "\n",
      "Mulitiple rows\n",
      "\n",
      "          w         X         Y         Z       New  New(sum of x and Z )  \\\n",
      "B -0.018673  0.106650  0.979788  0.230676  1.086439              0.337326   \n",
      "C -0.038621 -0.595137  0.389014  1.374008 -0.206123              0.778871   \n",
      "\n",
      "   New(sum of x and Y)  \n",
      "B             1.086439  \n",
      "C            -0.206123  \n"
     ]
    }
   ],
   "source": [
    "print('\\nMulitiple rows\\n')\n",
    "print(df1.loc[['B','C']])"
   ]
  },
  {
   "cell_type": "code",
   "execution_count": 60,
   "id": "1ad31f55",
   "metadata": {},
   "outputs": [
    {
     "name": "stdout",
     "output_type": "stream",
     "text": [
      "w                      -0.038621\n",
      "X                      -0.595137\n",
      "Y                       0.389014\n",
      "Z                       1.374008\n",
      "New                    -0.206123\n",
      "New(sum of x and Z )    0.778871\n",
      "New(sum of x and Y)    -0.206123\n",
      "Name: C, dtype: float64\n"
     ]
    }
   ],
   "source": [
    "print(df1.iloc[1])"
   ]
  },
  {
   "cell_type": "code",
   "execution_count": 61,
   "id": "e2ca4d43",
   "metadata": {},
   "outputs": [
    {
     "name": "stdout",
     "output_type": "stream",
     "text": [
      "w                      -0.099524\n",
      "X                      -1.045696\n",
      "Y                       1.054270\n",
      "Z                      -1.896427\n",
      "New                     0.008574\n",
      "New(sum of x and Z )   -2.942122\n",
      "New(sum of x and Y)     0.008574\n",
      "Name: D, dtype: float64\n"
     ]
    }
   ],
   "source": [
    "print(df1.iloc[2])"
   ]
  },
  {
   "cell_type": "code",
   "execution_count": 62,
   "id": "344af947",
   "metadata": {},
   "outputs": [
    {
     "name": "stdout",
     "output_type": "stream",
     "text": [
      "w                      -1.551389\n",
      "X                       1.647379\n",
      "Y                       1.546147\n",
      "Z                       0.679554\n",
      "New                     3.193525\n",
      "New(sum of x and Z )    2.326932\n",
      "New(sum of x and Y)     3.193525\n",
      "Name: E, dtype: float64\n"
     ]
    }
   ],
   "source": [
    "print(df1.iloc[3])"
   ]
  },
  {
   "cell_type": "code",
   "execution_count": 64,
   "id": "b7b75e5f",
   "metadata": {},
   "outputs": [
    {
     "name": "stdout",
     "output_type": "stream",
     "text": [
      "          w         X         Y         Z       New  New(sum of x and Z )  \\\n",
      "C -0.038621 -0.595137  0.389014  1.374008 -0.206123              0.778871   \n",
      "D -0.099524 -1.045696  1.054270 -1.896427  0.008574             -2.942122   \n",
      "\n",
      "   New(sum of x and Y)  \n",
      "C            -0.206123  \n",
      "D             0.008574  \n"
     ]
    }
   ],
   "source": [
    "print(df1.iloc[[1,2]])"
   ]
  },
  {
   "cell_type": "code",
   "execution_count": 71,
   "id": "d605b5af",
   "metadata": {},
   "outputs": [
    {
     "name": "stdout",
     "output_type": "stream",
     "text": [
      "\n",
      "Multiple Rows Selected:\n",
      "------------------------------------------\n",
      "          w         X         Y         Z       New  New(sum of x and Z )  \\\n",
      "B -0.018673  0.106650  0.979788  0.230676  1.086439              0.337326   \n",
      "C -0.038621 -0.595137  0.389014  1.374008 -0.206123              0.778871   \n",
      "D -0.099524 -1.045696  1.054270 -1.896427  0.008574             -2.942122   \n",
      "E -1.551389  1.647379  1.546147  0.679554  3.193525              2.326932   \n",
      "\n",
      "   New(sum of x and Y)  \n",
      "B             1.086439  \n",
      "C            -0.206123  \n",
      "D             0.008574  \n",
      "E             3.193525  \n"
     ]
    }
   ],
   "source": [
    "#At atime select Multiple Rows:\n",
    "print(\"\\nMultiple Rows Selected:\\n\",'-'*42,sep='')\n",
    "print(df1.iloc[[0,1,2,3]])"
   ]
  },
  {
   "cell_type": "code",
   "execution_count": 76,
   "id": "308f837b",
   "metadata": {},
   "outputs": [
    {
     "name": "stdout",
     "output_type": "stream",
     "text": [
      "\n",
      " The data_frame\n",
      "------------------------------\n",
      "          W         X         Y         Z\n",
      "A -1.725170  0.244623  0.358809  0.639146\n",
      "B  0.177972  1.785949  0.319403 -2.003935\n",
      "C  0.037862 -1.019700  1.342751  0.898230\n",
      "D  0.505421  0.182168 -1.151523 -1.697933\n",
      "E  0.560378 -0.009910  1.097039 -0.083853\n"
     ]
    }
   ],
   "source": [
    "#Subnetting Dataframe :-\n",
    "import pandas as pd\n",
    "import numpy as np\n",
    "Matrix_data=rn(5,4)\n",
    "row_label=['A','B','C','D','E']\n",
    "Column_wise_label=['W','X','Y','Z']\n",
    "print('\\n The data_frame\\n','-'*30,sep='')\n",
    "df2=pd.DataFrame(data=Matrix_data, index=row_label, columns=Column_wise_label)\n",
    "print(df2)"
   ]
  },
  {
   "cell_type": "code",
   "execution_count": 83,
   "id": "bdbcdbed",
   "metadata": {},
   "outputs": [
    {
     "data": {
      "text/plain": [
       "W   -1.725170\n",
       "X    0.244623\n",
       "Y    0.358809\n",
       "Z    0.639146\n",
       "Name: A, dtype: float64"
      ]
     },
     "execution_count": 83,
     "metadata": {},
     "output_type": "execute_result"
    }
   ],
   "source": [
    "df2.iloc[0]"
   ]
  },
  {
   "cell_type": "code",
   "execution_count": 84,
   "id": "f69e866b",
   "metadata": {},
   "outputs": [
    {
     "data": {
      "text/html": [
       "<div>\n",
       "<style scoped>\n",
       "    .dataframe tbody tr th:only-of-type {\n",
       "        vertical-align: middle;\n",
       "    }\n",
       "\n",
       "    .dataframe tbody tr th {\n",
       "        vertical-align: top;\n",
       "    }\n",
       "\n",
       "    .dataframe thead th {\n",
       "        text-align: right;\n",
       "    }\n",
       "</style>\n",
       "<table border=\"1\" class=\"dataframe\">\n",
       "  <thead>\n",
       "    <tr style=\"text-align: right;\">\n",
       "      <th></th>\n",
       "      <th>W</th>\n",
       "      <th>X</th>\n",
       "      <th>Y</th>\n",
       "      <th>Z</th>\n",
       "    </tr>\n",
       "  </thead>\n",
       "  <tbody>\n",
       "    <tr>\n",
       "      <th>A</th>\n",
       "      <td>-1.725170</td>\n",
       "      <td>0.244623</td>\n",
       "      <td>0.358809</td>\n",
       "      <td>0.639146</td>\n",
       "    </tr>\n",
       "    <tr>\n",
       "      <th>B</th>\n",
       "      <td>0.177972</td>\n",
       "      <td>1.785949</td>\n",
       "      <td>0.319403</td>\n",
       "      <td>-2.003935</td>\n",
       "    </tr>\n",
       "  </tbody>\n",
       "</table>\n",
       "</div>"
      ],
      "text/plain": [
       "          W         X         Y         Z\n",
       "A -1.725170  0.244623  0.358809  0.639146\n",
       "B  0.177972  1.785949  0.319403 -2.003935"
      ]
     },
     "execution_count": 84,
     "metadata": {},
     "output_type": "execute_result"
    }
   ],
   "source": [
    "df2.iloc[[0,1]]"
   ]
  },
  {
   "cell_type": "code",
   "execution_count": 86,
   "id": "f3b18dc8",
   "metadata": {},
   "outputs": [
    {
     "name": "stdout",
     "output_type": "stream",
     "text": [
      "          W         X         Y         Z\n",
      "D  0.505421  0.182168 -1.151523 -1.697933\n",
      "E  0.560378 -0.009910  1.097039 -0.083853\n"
     ]
    }
   ],
   "source": [
    "print(df2.loc[['D','E']])"
   ]
  },
  {
   "cell_type": "code",
   "execution_count": 88,
   "id": "fd9fc92e",
   "metadata": {},
   "outputs": [
    {
     "name": "stdout",
     "output_type": "stream",
     "text": [
      "\n",
      " subset comprising of rows B and D and column W and Y,is\n",
      "\n"
     ]
    },
    {
     "data": {
      "text/html": [
       "<div>\n",
       "<style scoped>\n",
       "    .dataframe tbody tr th:only-of-type {\n",
       "        vertical-align: middle;\n",
       "    }\n",
       "\n",
       "    .dataframe tbody tr th {\n",
       "        vertical-align: top;\n",
       "    }\n",
       "\n",
       "    .dataframe thead th {\n",
       "        text-align: right;\n",
       "    }\n",
       "</style>\n",
       "<table border=\"1\" class=\"dataframe\">\n",
       "  <thead>\n",
       "    <tr style=\"text-align: right;\">\n",
       "      <th></th>\n",
       "      <th>w</th>\n",
       "      <th>X</th>\n",
       "    </tr>\n",
       "  </thead>\n",
       "  <tbody>\n",
       "    <tr>\n",
       "      <th>B</th>\n",
       "      <td>-0.018673</td>\n",
       "      <td>0.106650</td>\n",
       "    </tr>\n",
       "    <tr>\n",
       "      <th>C</th>\n",
       "      <td>-0.038621</td>\n",
       "      <td>-0.595137</td>\n",
       "    </tr>\n",
       "    <tr>\n",
       "      <th>D</th>\n",
       "      <td>-0.099524</td>\n",
       "      <td>-1.045696</td>\n",
       "    </tr>\n",
       "  </tbody>\n",
       "</table>\n",
       "</div>"
      ],
      "text/plain": [
       "          w         X\n",
       "B -0.018673  0.106650\n",
       "C -0.038621 -0.595137\n",
       "D -0.099524 -1.045696"
      ]
     },
     "execution_count": 88,
     "metadata": {},
     "output_type": "execute_result"
    }
   ],
   "source": [
    "#Nested Loc-wise_Row_&_Column Index:-\n",
    "print(\"\\n subset comprising of rows B and D and column W and Y,is\\n\")\n",
    "df.iloc[[1,2,3],[0,1]]"
   ]
  },
  {
   "cell_type": "code",
   "execution_count": 89,
   "id": "a1a7fde1",
   "metadata": {},
   "outputs": [
    {
     "name": "stdout",
     "output_type": "stream",
     "text": [
      "\n",
      " Subset Comprosing of rows B and D column W and Y,is \n",
      "\n"
     ]
    },
    {
     "data": {
      "text/html": [
       "<div>\n",
       "<style scoped>\n",
       "    .dataframe tbody tr th:only-of-type {\n",
       "        vertical-align: middle;\n",
       "    }\n",
       "\n",
       "    .dataframe tbody tr th {\n",
       "        vertical-align: top;\n",
       "    }\n",
       "\n",
       "    .dataframe thead th {\n",
       "        text-align: right;\n",
       "    }\n",
       "</style>\n",
       "<table border=\"1\" class=\"dataframe\">\n",
       "  <thead>\n",
       "    <tr style=\"text-align: right;\">\n",
       "      <th></th>\n",
       "      <th>X</th>\n",
       "      <th>Z</th>\n",
       "    </tr>\n",
       "  </thead>\n",
       "  <tbody>\n",
       "    <tr>\n",
       "      <th>B</th>\n",
       "      <td>0.106650</td>\n",
       "      <td>0.230676</td>\n",
       "    </tr>\n",
       "    <tr>\n",
       "      <th>C</th>\n",
       "      <td>-0.595137</td>\n",
       "      <td>1.374008</td>\n",
       "    </tr>\n",
       "    <tr>\n",
       "      <th>D</th>\n",
       "      <td>-1.045696</td>\n",
       "      <td>-1.896427</td>\n",
       "    </tr>\n",
       "  </tbody>\n",
       "</table>\n",
       "</div>"
      ],
      "text/plain": [
       "          X         Z\n",
       "B  0.106650  0.230676\n",
       "C -0.595137  1.374008\n",
       "D -1.045696 -1.896427"
      ]
     },
     "execution_count": 89,
     "metadata": {},
     "output_type": "execute_result"
    }
   ],
   "source": [
    "print(\"\\n Subset Comprosing of rows B and D column W and Y,is \\n\")\n",
    "df.iloc[[1,2,3],[1,3]]"
   ]
  },
  {
   "cell_type": "code",
   "execution_count": 93,
   "id": "6494790d",
   "metadata": {},
   "outputs": [
    {
     "name": "stdout",
     "output_type": "stream",
     "text": [
      "\n",
      " Boolean Dataframe(s)where are  checking if values are greater than 0\n",
      "---------------------------------------------------------------------------\n",
      "       w      X     Y      Z    New  New(sum of x and Z )  New(sum of x and Y)\n",
      "B  False   True  True   True   True                  True                 True\n",
      "C  False  False  True   True  False                  True                False\n",
      "D  False  False  True  False   True                 False                 True\n",
      "E  False   True  True   True   True                  True                 True\n"
     ]
    }
   ],
   "source": [
    "print(\"\\n Boolean Dataframe(s)where are  checking if values are greater than 0\\n\",'-'*75,sep='')\n",
    "print(df1>0)"
   ]
  },
  {
   "cell_type": "code",
   "execution_count": 95,
   "id": "7a99197c",
   "metadata": {},
   "outputs": [
    {
     "name": "stdout",
     "output_type": "stream",
     "text": [
      "\n",
      "\n",
      "       w      X     Y     Z    New  New(sum of x and Z )  New(sum of x and Y)\n",
      "A  False  False  True  True  False                  True                False\n",
      "B  False   True  True  True   True                  True                 True\n",
      "C  False  False  True  True  False                  True                False\n"
     ]
    }
   ],
   "source": [
    "print(\"\\n\")\n",
    "print(df.loc[['A','B','C']]>0)"
   ]
  },
  {
   "cell_type": "code",
   "execution_count": 97,
   "id": "0fb2bcc7",
   "metadata": {},
   "outputs": [
    {
     "name": "stdout",
     "output_type": "stream",
     "text": [
      "\n",
      "\n",
      "       w      X      Y      Z    New  New(sum of x and Z )  \\\n",
      "A  False  False  False   True  False                  True   \n",
      "B  False  False  False  False   True                 False   \n",
      "C  False  False  False   True  False                 False   \n",
      "\n",
      "   New(sum of x and Y)  \n",
      "A                False  \n",
      "B                 True  \n",
      "C                False  \n"
     ]
    }
   ],
   "source": [
    "#Similarly apply for Condn >1,2,3 as per Requirement:\n",
    "print(\"\\n\")\n",
    "print(df.loc[['A','B','C']]>1)"
   ]
  },
  {
   "cell_type": "code",
   "execution_count": 17,
   "id": "07988d86",
   "metadata": {},
   "outputs": [
    {
     "data": {
      "text/plain": [
       "matrix([[ 22,  23,  24],\n",
       "        [ 70,  90, 120],\n",
       "        [ 66,  29,  20],\n",
       "        [ 23,  45,  21],\n",
       "        [ 34,  22,  67]])"
      ]
     },
     "execution_count": 17,
     "metadata": {},
     "output_type": "execute_result"
    }
   ],
   "source": [
    "# matrix_data=rn(5,4)#Previously Random 5*4 Matrix. \n",
    "import pandas as pd \n",
    "import numpy as np\n",
    "matrix_data=np.matrix('22,23,24;70,90,120;66,29,20;23,45,21;34,22,67')\n",
    "row_labels=['A','B','C','D','E']\n",
    "Column_heading=['Age','Height','Weight']\n",
    "matrix_data"
   ]
  },
  {
   "cell_type": "code",
   "execution_count": 23,
   "id": "e456f8ce",
   "metadata": {
    "scrolled": true
   },
   "outputs": [
    {
     "name": "stdout",
     "output_type": "stream",
     "text": [
      "\n",
      " A New data_frame:\n",
      "------------------\n",
      "   Age  Height  Weight\n",
      "A   22      23      24\n",
      "B   70      90     120\n",
      "C   66      29      20\n",
      "D   23      45      21\n",
      "E   34      22      67\n"
     ]
    }
   ],
   "source": [
    "srt=pd.DataFrame(data=matrix_data, index=row_labels,columns=Column_heading)\n",
    "print(\"\\n A New data_frame:\\n\",'-'*18,sep='')\n",
    "print(srt)"
   ]
  },
  {
   "cell_type": "code",
   "execution_count": 34,
   "id": "e5a0fc38",
   "metadata": {},
   "outputs": [
    {
     "name": "stdout",
     "output_type": "stream",
     "text": [
      "\n",
      " Again New Data formation :\n",
      "----------------------------\n",
      "   Age  Height  weight  obese\n",
      "A  210     200     150     34\n",
      "B  150     180     200     20\n",
      "C  100     200     100     26\n"
     ]
    }
   ],
   "source": [
    "#Similarly Create Matrix_data As per requirment\n",
    "import pandas as pd\n",
    "import numpy as np\n",
    "matrix_data=np.matrix('210,200,150,34;150,180,200,20;100,200,100,26')\n",
    "row_labels=['A','B','C']\n",
    "Column_labels=['Age','Height','weight','obese']\n",
    "df=pd.DataFrame(data=matrix_data,index=row_labels,columns=Column_labels)\n",
    "print(\"\\n Again New Data formation :\\n\",'-'*28,sep='')\n",
    "print(df)"
   ]
  },
  {
   "cell_type": "code",
   "execution_count": 36,
   "id": "6c9cb729",
   "metadata": {},
   "outputs": [
    {
     "data": {
      "text/html": [
       "<div>\n",
       "<style scoped>\n",
       "    .dataframe tbody tr th:only-of-type {\n",
       "        vertical-align: middle;\n",
       "    }\n",
       "\n",
       "    .dataframe tbody tr th {\n",
       "        vertical-align: top;\n",
       "    }\n",
       "\n",
       "    .dataframe thead th {\n",
       "        text-align: right;\n",
       "    }\n",
       "</style>\n",
       "<table border=\"1\" class=\"dataframe\">\n",
       "  <thead>\n",
       "    <tr style=\"text-align: right;\">\n",
       "      <th></th>\n",
       "      <th>Age</th>\n",
       "      <th>Height</th>\n",
       "      <th>weight</th>\n",
       "      <th>obese</th>\n",
       "    </tr>\n",
       "  </thead>\n",
       "  <tbody>\n",
       "    <tr>\n",
       "      <th>A</th>\n",
       "      <td>210</td>\n",
       "      <td>200</td>\n",
       "      <td>150</td>\n",
       "      <td>34</td>\n",
       "    </tr>\n",
       "    <tr>\n",
       "      <th>C</th>\n",
       "      <td>100</td>\n",
       "      <td>200</td>\n",
       "      <td>100</td>\n",
       "      <td>26</td>\n",
       "    </tr>\n",
       "  </tbody>\n",
       "</table>\n",
       "</div>"
      ],
      "text/plain": [
       "   Age  Height  weight  obese\n",
       "A  210     200     150     34\n",
       "C  100     200     100     26"
      ]
     },
     "execution_count": 36,
     "metadata": {},
     "output_type": "execute_result"
    }
   ],
   "source": [
    "df[df['Height']>180]"
   ]
  },
  {
   "cell_type": "code",
   "execution_count": 38,
   "id": "17f9bcb8",
   "metadata": {},
   "outputs": [
    {
     "name": "stderr",
     "output_type": "stream",
     "text": [
      "<ipython-input-38-53eed02c719c>:1: UserWarning: Boolean Series key will be reindexed to match DataFrame index.\n",
      "  df[srt['Weight']>60]\n"
     ]
    },
    {
     "data": {
      "text/html": [
       "<div>\n",
       "<style scoped>\n",
       "    .dataframe tbody tr th:only-of-type {\n",
       "        vertical-align: middle;\n",
       "    }\n",
       "\n",
       "    .dataframe tbody tr th {\n",
       "        vertical-align: top;\n",
       "    }\n",
       "\n",
       "    .dataframe thead th {\n",
       "        text-align: right;\n",
       "    }\n",
       "</style>\n",
       "<table border=\"1\" class=\"dataframe\">\n",
       "  <thead>\n",
       "    <tr style=\"text-align: right;\">\n",
       "      <th></th>\n",
       "      <th>Age</th>\n",
       "      <th>Height</th>\n",
       "      <th>weight</th>\n",
       "      <th>obese</th>\n",
       "    </tr>\n",
       "  </thead>\n",
       "  <tbody>\n",
       "    <tr>\n",
       "      <th>B</th>\n",
       "      <td>150</td>\n",
       "      <td>180</td>\n",
       "      <td>200</td>\n",
       "      <td>20</td>\n",
       "    </tr>\n",
       "  </tbody>\n",
       "</table>\n",
       "</div>"
      ],
      "text/plain": [
       "   Age  Height  weight  obese\n",
       "B  150     180     200     20"
      ]
     },
     "execution_count": 38,
     "metadata": {},
     "output_type": "execute_result"
    }
   ],
   "source": [
    "df[srt['Weight']>60]"
   ]
  },
  {
   "cell_type": "code",
   "execution_count": 47,
   "id": "feb373f3",
   "metadata": {},
   "outputs": [
    {
     "name": "stdout",
     "output_type": "stream",
     "text": [
      "\n",
      " Rows with Height >65 inch \n",
      "--------------------------\n",
      "   Age  Height  weight  obese\n",
      "A  210     200     150     34\n"
     ]
    }
   ],
   "source": [
    "print(\"\\n Rows with Height >65 inch \\n\",'-'*26,sep='')\n",
    "print(df[df['Age']>150])"
   ]
  },
  {
   "cell_type": "code",
   "execution_count": 48,
   "id": "b51dedad",
   "metadata": {},
   "outputs": [
    {
     "data": {
      "text/plain": [
       "A    True\n",
       "B    True\n",
       "C    True\n",
       "Name: Height, dtype: bool"
      ]
     },
     "execution_count": 48,
     "metadata": {},
     "output_type": "execute_result"
    }
   ],
   "source": [
    "df['Height']>60"
   ]
  },
  {
   "cell_type": "code",
   "execution_count": 56,
   "id": "4660c70c",
   "metadata": {},
   "outputs": [
    {
     "name": "stdout",
     "output_type": "stream",
     "text": [
      "\n",
      "Rows with Height>65 inch and Weight >145 lbs \n",
      "--------------------------------------------\n",
      "   Age  Height  weight  obese\n",
      "A  210     200     150     34\n",
      "B  150     180     200     20\n"
     ]
    }
   ],
   "source": [
    "booldf1=df['weight']>100\n",
    "booldf2=df['Height']>145\n",
    "print(\"\\nRows with Height>65 inch and Weight >145 lbs \\n\",'-'*44,sep='')\n",
    "print(df[(booldf1)&(booldf2)])"
   ]
  },
  {
   "cell_type": "code",
   "execution_count": 61,
   "id": "9cdc1ac7",
   "metadata": {},
   "outputs": [
    {
     "name": "stdout",
     "output_type": "stream",
     "text": [
      "\n",
      "Dataframe with only age and weight columns whoose Height>65 inch:\n",
      "----------------------------------------------------------------\n",
      "   Age  weight\n",
      "A  210     150\n",
      "B  150     200\n"
     ]
    }
   ],
   "source": [
    "print(\"\\nDataframe with only age and weight columns whoose Height>65 inch:\\n\",'-'*64,sep='')\n",
    "print(df[booldf1][['Age','weight']])"
   ]
  },
  {
   "cell_type": "code",
   "execution_count": 76,
   "id": "b6fe0a34",
   "metadata": {},
   "outputs": [
    {
     "name": "stdout",
     "output_type": "stream",
     "text": [
      "\n",
      "The DataFrame\n",
      "-------------\n",
      "   Age  Height  Weight\n",
      "A   22      66     140\n",
      "B   42      70     148\n",
      "C   30      62     125\n",
      "D   35      68     160\n",
      "E   25      62     152\n"
     ]
    }
   ],
   "source": [
    "matrix_data = np.matrix('22,66,140;42,70,148;30,62,125;35,68,160;25,62,152')\n",
    "row_labels = ['A','B','C','D','E']\n",
    "column_headings = ['Age', 'Height', 'Weight']\n",
    "df = pd.DataFrame(data=matrix_data, index=row_labels, columns=column_headings)\n",
    "print(\"\\nThe DataFrame\\n\",'-'*13, sep='')\n",
    "print(df)"
   ]
  },
  {
   "cell_type": "code",
   "execution_count": 81,
   "id": "01ab4689",
   "metadata": {},
   "outputs": [
    {
     "name": "stdout",
     "output_type": "stream",
     "text": [
      "  index  Age  Height  Weight\n",
      "0     A   22      66     140\n",
      "1     B   42      70     148\n",
      "2     C   30      62     125\n",
      "3     D   35      68     160\n",
      "4     E   25      62     152\n"
     ]
    }
   ],
   "source": [
    "print(df.reset_index())"
   ]
  },
  {
   "cell_type": "code",
   "execution_count": 82,
   "id": "daee1b06",
   "metadata": {},
   "outputs": [
    {
     "name": "stdout",
     "output_type": "stream",
     "text": [
      "\n",
      " Resetting index:\n",
      "-----------------\n",
      "   Age  Height  Weight\n",
      "0   22      66     140\n",
      "1   42      70     148\n",
      "2   30      62     125\n",
      "3   35      68     160\n",
      "4   25      62     152\n"
     ]
    },
    {
     "data": {
      "text/plain": [
       "['Student', 'Teacher', 'Engineer', 'Doctor', 'Nurse']"
      ]
     },
     "execution_count": 82,
     "metadata": {},
     "output_type": "execute_result"
    }
   ],
   "source": [
    "print(\"\\n Resetting index:\\n\",'-'*17,sep='')\n",
    "print(df.reset_index(drop=True))\n",
    "\"Student Teacher Engineer Doctor Nurse\".split()"
   ]
  },
  {
   "cell_type": "code",
   "execution_count": 89,
   "id": "f0452755",
   "metadata": {},
   "outputs": [
    {
     "name": "stdout",
     "output_type": "stream",
     "text": [
      "\n",
      " Add New Column as Profssion: \n",
      "------------------------------\n",
      "   Age  Height  Weight profession\n",
      "A   22      66     140    Student\n",
      "B   42      70     148    Teacher\n",
      "C   30      62     125   Engineer\n",
      "D   35      68     160     Doctor\n",
      "E   25      62     152      Nurse\n"
     ]
    }
   ],
   "source": [
    "#Add New Column as Profession in Data_frame:\n",
    "print(\"\\n Add New Column as Profssion: \\n\",'-'*30,sep='')\n",
    "df['profession']=\"Student Teacher Engineer Doctor Nurse\".split() \n",
    "print(df)"
   ]
  },
  {
   "cell_type": "code",
   "execution_count": 95,
   "id": "acade45b",
   "metadata": {},
   "outputs": [
    {
     "name": "stdout",
     "output_type": "stream",
     "text": [
      "\n",
      " Setting add 'profession' column as index\n",
      "------------------------------------------\n",
      "            Age  Height  Weight\n",
      "profession                     \n",
      "Student      22      66     140\n",
      "Teacher      42      70     148\n",
      "Engineer     30      62     125\n",
      "Doctor       35      68     160\n",
      "Nurse        25      62     152\n"
     ]
    }
   ],
   "source": [
    "print(\"\\n Setting add 'profession' column as index\\n\",'-'*42,sep='')\n",
    "print(df.set_index('profession'))"
   ]
  },
  {
   "cell_type": "code",
   "execution_count": 116,
   "id": "38daaecd",
   "metadata": {},
   "outputs": [
    {
     "data": {
      "text/plain": [
       "matrix([[ 23,  66, 140],\n",
       "        [ 40,  70, 148],\n",
       "        [ 31,  62, 125],\n",
       "        [ 35,  66, 160],\n",
       "        [ 25,  62, 152]])"
      ]
     },
     "execution_count": 116,
     "metadata": {},
     "output_type": "execute_result"
    }
   ],
   "source": [
    "import pandas as pd\n",
    "import numpy as np\n",
    "matrix_data=np.matrix('23,66,140;40,70,148;31,62,125;35,66,160;25,62,152')\n",
    "rowwise_index=['A','B','C','D','E']\n",
    "columnwise_index=['Age','Weight','Height']\n",
    "matrix_data"
   ]
  },
  {
   "cell_type": "code",
   "execution_count": 117,
   "id": "b6b996be",
   "metadata": {},
   "outputs": [
    {
     "name": "stdout",
     "output_type": "stream",
     "text": [
      "\n",
      " Creste and convert into a dataframe structure:\n",
      "-----------------------------------------------\n",
      "   Age  Weight  Height\n",
      "A   23      66     140\n",
      "B   40      70     148\n",
      "C   31      62     125\n",
      "D   35      66     160\n",
      "E   25      62     152\n"
     ]
    }
   ],
   "source": [
    "print(\"\\n Creste and convert into a dataframe structure:\\n\",'-'*47,sep='')\n",
    "df=pd.DataFrame(data=matrix_data,index=rowwise_index,columns=columnwise_index)\n",
    "print(df)"
   ]
  },
  {
   "cell_type": "code",
   "execution_count": 118,
   "id": "bc78477a",
   "metadata": {},
   "outputs": [
    {
     "name": "stdout",
     "output_type": "stream",
     "text": [
      "  index  Age  Weight  Height\n",
      "0     A   23      66     140\n",
      "1     B   40      70     148\n",
      "2     C   31      62     125\n",
      "3     D   35      66     160\n",
      "4     E   25      62     152\n"
     ]
    }
   ],
   "source": [
    "print(df.reset_index())"
   ]
  },
  {
   "cell_type": "code",
   "execution_count": 119,
   "id": "2397a7ec",
   "metadata": {},
   "outputs": [
    {
     "name": "stdout",
     "output_type": "stream",
     "text": [
      "\n",
      " Reset the Data Frame:\n",
      "----------------------\n",
      "   Age  Weight  Height\n",
      "0   23      66     140\n",
      "1   40      70     148\n",
      "2   31      62     125\n",
      "3   35      66     160\n",
      "4   25      62     152\n"
     ]
    },
    {
     "data": {
      "text/plain": [
       "['Lab_Assistant', 'Peon', 'Clerk', 'Teacher', 'Professor']"
      ]
     },
     "execution_count": 119,
     "metadata": {},
     "output_type": "execute_result"
    }
   ],
   "source": [
    "print(\"\\n Reset the Data Frame:\\n\",'-'*22,sep='')\n",
    "print(df.reset_index(drop=True))\n",
    "\"Lab_Assistant Peon Clerk Teacher Professor\".split()"
   ]
  },
  {
   "cell_type": "code",
   "execution_count": 120,
   "id": "e6c5671c",
   "metadata": {},
   "outputs": [
    {
     "name": "stdout",
     "output_type": "stream",
     "text": [
      "\n",
      " Add a new Column into Data_frame profession:\n",
      "---------------------------------------------\n",
      "   Age  Weight  Height     Profession\n",
      "A   23      66     140  Lab_Assistant\n",
      "B   40      70     148           Peon\n",
      "C   31      62     125          Clerk\n",
      "D   35      66     160        Teacher\n",
      "E   25      62     152      Professor\n"
     ]
    }
   ],
   "source": [
    "# Add the column into Datagrame:\n",
    "print(\"\\n Add a new Column into Data_frame profession:\\n\",'-'*45,sep='')\n",
    "df['Profession']=\"Lab_Assistant Peon Clerk Teacher Professor\".split()\n",
    "print(df)"
   ]
  },
  {
   "cell_type": "code",
   "execution_count": 124,
   "id": "cf60344f",
   "metadata": {},
   "outputs": [
    {
     "name": "stdout",
     "output_type": "stream",
     "text": [
      "\n",
      " Add and Setting up a new dataframe column as index:\n",
      "----------------------------------------------------\n",
      "               Age  Weight  Height\n",
      "Profession                        \n",
      "Lab_Assistant   23      66     140\n",
      "Peon            40      70     148\n",
      "Clerk           31      62     125\n",
      "Teacher         35      66     160\n",
      "Professor       25      62     152\n"
     ]
    }
   ],
   "source": [
    "#Setting for new Dataframe:\n",
    "print(\"\\n Add and Setting up a new dataframe column as index:\\n\",'-'*52,sep='')\n",
    "print(df.set_index('Profession'))"
   ]
  },
  {
   "cell_type": "code",
   "execution_count": 128,
   "id": "e5b94b40",
   "metadata": {},
   "outputs": [
    {
     "name": "stdout",
     "output_type": "stream",
     "text": [
      "\n",
      " Tuple pair after The Zip and list command: \n",
      "------------------------------------------\n",
      "[('G1', 1), ('G1', 2), ('G1', 3), ('G2', 1), ('G2', 2), ('G2', 3)]\n"
     ]
    }
   ],
   "source": [
    "#Muiti indexing and Indexing Levels:\n",
    "outside=['G1','G1','G1','G2','G2','G2']\n",
    "inside=[1,2,3,1,2,3]\n",
    "heir_index=list(zip(outside,inside))\n",
    "print(\"\\n Tuple pair after The Zip and list command: \\n\",'-'*42,sep='')\n",
    "print(heir_index)"
   ]
  },
  {
   "cell_type": "code",
   "execution_count": 136,
   "id": "641dad2e",
   "metadata": {},
   "outputs": [
    {
     "name": "stdout",
     "output_type": "stream",
     "text": [
      "\n",
      "Index hierarchy:\n",
      "----------------\n",
      "<class 'pandas.core.indexes.multi.MultiIndex'>\n",
      "MultiIndex([('G1', 1),\n",
      "            ('G1', 2),\n",
      "            ('G1', 3),\n",
      "            ('G2', 1),\n",
      "            ('G2', 2),\n",
      "            ('G2', 3)],\n",
      "           )\n"
     ]
    }
   ],
   "source": [
    "import pandas as pd\n",
    "heir_index=pd.MultiIndex.from_tuples(heir_index)\n",
    "print(\"\\nIndex hierarchy:\\n\",'-'*16,sep='')\n",
    "print(type(heir_index))\n",
    "print(heir_index)"
   ]
  },
  {
   "cell_type": "code",
   "execution_count": 144,
   "id": "1040d7cf",
   "metadata": {},
   "outputs": [
    {
     "name": "stdout",
     "output_type": "stream",
     "text": [
      "        A    B    C\n",
      "G1 1  3.0  1.0  1.0\n",
      "   2  1.0  1.0 -0.0\n",
      "   3 -1.0  1.0 -2.0\n",
      "G2 1  1.0  1.0 -1.0\n",
      "   2  0.0 -1.0 -1.0\n",
      "   3  1.0  0.0  2.0\n"
     ]
    }
   ],
   "source": [
    "import pandas as pd\n",
    "import numpy as np\n",
    "from numpy.random import randn as rn\n",
    "df4=pd.DataFrame(data=np.round(rn(6,3)),index=heir_index,columns=['A','B','C'])\n",
    "print(df4)"
   ]
  },
  {
   "cell_type": "code",
   "execution_count": 146,
   "id": "f960d408",
   "metadata": {},
   "outputs": [
    {
     "name": "stdout",
     "output_type": "stream",
     "text": [
      "\n",
      " Grabbing a cross section from out level\n",
      "----------------------------------------\n",
      "     A    B    C\n",
      "1  3.0  1.0  1.0\n",
      "2  1.0  1.0 -0.0\n",
      "3 -1.0  1.0 -2.0\n"
     ]
    }
   ],
   "source": [
    "#Cross tabulation like Pivot table:\n",
    "print(\"\\n Grabbing a cross section from out level\\n\",'-'*40,sep='')\n",
    "print(df4.xs('G1'))"
   ]
  },
  {
   "cell_type": "code",
   "execution_count": 147,
   "id": "ebcfa2ca",
   "metadata": {},
   "outputs": [
    {
     "name": "stdout",
     "output_type": "stream",
     "text": [
      "\n",
      " Grabbing a cross section from out level\n",
      "----------------------------------------\n",
      "     A    B    C\n",
      "1  1.0  1.0 -1.0\n",
      "2  0.0 -1.0 -1.0\n",
      "3  1.0  0.0  2.0\n"
     ]
    }
   ],
   "source": [
    "print(\"\\n Grabbing a cross section from out level\\n\",'-'*40,sep='')\n",
    "print(df4.xs('G2'))"
   ]
  },
  {
   "cell_type": "code",
   "execution_count": 198,
   "id": "b515d4d4",
   "metadata": {},
   "outputs": [
    {
     "data": {
      "text/html": [
       "<div>\n",
       "<style scoped>\n",
       "    .dataframe tbody tr th:only-of-type {\n",
       "        vertical-align: middle;\n",
       "    }\n",
       "\n",
       "    .dataframe tbody tr th {\n",
       "        vertical-align: top;\n",
       "    }\n",
       "\n",
       "    .dataframe thead th {\n",
       "        text-align: right;\n",
       "    }\n",
       "</style>\n",
       "<table border=\"1\" class=\"dataframe\">\n",
       "  <thead>\n",
       "    <tr style=\"text-align: right;\">\n",
       "      <th></th>\n",
       "      <th>A</th>\n",
       "      <th>B</th>\n",
       "      <th>C</th>\n",
       "    </tr>\n",
       "    <tr>\n",
       "      <th>States</th>\n",
       "      <th></th>\n",
       "      <th></th>\n",
       "      <th></th>\n",
       "    </tr>\n",
       "  </thead>\n",
       "  <tbody>\n",
       "    <tr>\n",
       "      <th>UK</th>\n",
       "      <td>1.0</td>\n",
       "      <td>5.0</td>\n",
       "      <td>1</td>\n",
       "    </tr>\n",
       "    <tr>\n",
       "      <th>India</th>\n",
       "      <td>2.0</td>\n",
       "      <td>NaN</td>\n",
       "      <td>2</td>\n",
       "    </tr>\n",
       "    <tr>\n",
       "      <th>Bang</th>\n",
       "      <td>NaN</td>\n",
       "      <td>NaN</td>\n",
       "      <td>3</td>\n",
       "    </tr>\n",
       "  </tbody>\n",
       "</table>\n",
       "</div>"
      ],
      "text/plain": [
       "          A    B  C\n",
       "States             \n",
       "UK      1.0  5.0  1\n",
       "India   2.0  NaN  2\n",
       "Bang    NaN  NaN  3"
      ]
     },
     "execution_count": 198,
     "metadata": {},
     "output_type": "execute_result"
    }
   ],
   "source": [
    "df3=pd.DataFrame({'A':[1,2,np.nan],'B':[5,np.nan,np.nan],'C':[1,2,3]})\n",
    "df3['States']=\"UK India Bang\".split()\n",
    "df3.set_index('States',inplace=True)\n",
    "df3"
   ]
  },
  {
   "cell_type": "code",
   "execution_count": 192,
   "id": "826b14b0",
   "metadata": {},
   "outputs": [
    {
     "data": {
      "text/html": [
       "<div>\n",
       "<style scoped>\n",
       "    .dataframe tbody tr th:only-of-type {\n",
       "        vertical-align: middle;\n",
       "    }\n",
       "\n",
       "    .dataframe tbody tr th {\n",
       "        vertical-align: top;\n",
       "    }\n",
       "\n",
       "    .dataframe thead th {\n",
       "        text-align: right;\n",
       "    }\n",
       "</style>\n",
       "<table border=\"1\" class=\"dataframe\">\n",
       "  <thead>\n",
       "    <tr style=\"text-align: right;\">\n",
       "      <th></th>\n",
       "      <th>A</th>\n",
       "      <th>B</th>\n",
       "      <th>C</th>\n",
       "    </tr>\n",
       "    <tr>\n",
       "      <th>States</th>\n",
       "      <th></th>\n",
       "      <th></th>\n",
       "      <th></th>\n",
       "    </tr>\n",
       "  </thead>\n",
       "  <tbody>\n",
       "    <tr>\n",
       "      <th>UK</th>\n",
       "      <td>False</td>\n",
       "      <td>False</td>\n",
       "      <td>False</td>\n",
       "    </tr>\n",
       "    <tr>\n",
       "      <th>India</th>\n",
       "      <td>False</td>\n",
       "      <td>True</td>\n",
       "      <td>False</td>\n",
       "    </tr>\n",
       "    <tr>\n",
       "      <th>Bang</th>\n",
       "      <td>True</td>\n",
       "      <td>True</td>\n",
       "      <td>False</td>\n",
       "    </tr>\n",
       "  </tbody>\n",
       "</table>\n",
       "</div>"
      ],
      "text/plain": [
       "            A      B      C\n",
       "States                     \n",
       "UK      False  False  False\n",
       "India   False   True  False\n",
       "Bang     True   True  False"
      ]
     },
     "execution_count": 192,
     "metadata": {},
     "output_type": "execute_result"
    }
   ],
   "source": [
    "df3.isnull()"
   ]
  },
  {
   "cell_type": "code",
   "execution_count": 199,
   "id": "c999f777",
   "metadata": {},
   "outputs": [
    {
     "data": {
      "text/html": [
       "<div>\n",
       "<style scoped>\n",
       "    .dataframe tbody tr th:only-of-type {\n",
       "        vertical-align: middle;\n",
       "    }\n",
       "\n",
       "    .dataframe tbody tr th {\n",
       "        vertical-align: top;\n",
       "    }\n",
       "\n",
       "    .dataframe thead th {\n",
       "        text-align: right;\n",
       "    }\n",
       "</style>\n",
       "<table border=\"1\" class=\"dataframe\">\n",
       "  <thead>\n",
       "    <tr style=\"text-align: right;\">\n",
       "      <th></th>\n",
       "      <th>A</th>\n",
       "      <th>B</th>\n",
       "      <th>C</th>\n",
       "    </tr>\n",
       "    <tr>\n",
       "      <th>States</th>\n",
       "      <th></th>\n",
       "      <th></th>\n",
       "      <th></th>\n",
       "    </tr>\n",
       "  </thead>\n",
       "  <tbody>\n",
       "    <tr>\n",
       "      <th>UK</th>\n",
       "      <td>1.0</td>\n",
       "      <td>5.0</td>\n",
       "      <td>1</td>\n",
       "    </tr>\n",
       "    <tr>\n",
       "      <th>India</th>\n",
       "      <td>2.0</td>\n",
       "      <td>3.0</td>\n",
       "      <td>2</td>\n",
       "    </tr>\n",
       "    <tr>\n",
       "      <th>Bang</th>\n",
       "      <td>3.0</td>\n",
       "      <td>3.0</td>\n",
       "      <td>3</td>\n",
       "    </tr>\n",
       "  </tbody>\n",
       "</table>\n",
       "</div>"
      ],
      "text/plain": [
       "          A    B  C\n",
       "States             \n",
       "UK      1.0  5.0  1\n",
       "India   2.0  3.0  2\n",
       "Bang    3.0  3.0  3"
      ]
     },
     "execution_count": 199,
     "metadata": {},
     "output_type": "execute_result"
    }
   ],
   "source": [
    "#Fill the value wit NAN value:\n",
    "df3.fillna(3)"
   ]
  },
  {
   "cell_type": "code",
   "execution_count": 185,
   "id": "bc3390ec",
   "metadata": {},
   "outputs": [
    {
     "name": "stdout",
     "output_type": "stream",
     "text": [
      "\n",
      " Dropping any rows with a NAN values:\n",
      "------------------------------------\n",
      "        C\n",
      "States   \n",
      "UK      1\n",
      "India   2\n",
      "Bang    3\n"
     ]
    }
   ],
   "source": [
    "#Require that drop many non-na values:\n",
    "#thresh: thresh takes integer value which tells minimum amount of na values to drop.\n",
    "#axis0 represent rows : axis 1 represent column.\n",
    "df3.dropna(thresh=3,axis=1,inplace=True)\n",
    "print(\"\\n Dropping any rows with a NAN values:\\n\",'-'*36,sep='')\n",
    "print(df3.dropna(axis=0))"
   ]
  },
  {
   "cell_type": "code",
   "execution_count": 200,
   "id": "1d876f54",
   "metadata": {},
   "outputs": [
    {
     "data": {
      "text/html": [
       "<div>\n",
       "<style scoped>\n",
       "    .dataframe tbody tr th:only-of-type {\n",
       "        vertical-align: middle;\n",
       "    }\n",
       "\n",
       "    .dataframe tbody tr th {\n",
       "        vertical-align: top;\n",
       "    }\n",
       "\n",
       "    .dataframe thead th {\n",
       "        text-align: right;\n",
       "    }\n",
       "</style>\n",
       "<table border=\"1\" class=\"dataframe\">\n",
       "  <thead>\n",
       "    <tr style=\"text-align: right;\">\n",
       "      <th></th>\n",
       "      <th>A</th>\n",
       "      <th>B</th>\n",
       "      <th>C</th>\n",
       "    </tr>\n",
       "    <tr>\n",
       "      <th>States</th>\n",
       "      <th></th>\n",
       "      <th></th>\n",
       "      <th></th>\n",
       "    </tr>\n",
       "  </thead>\n",
       "  <tbody>\n",
       "    <tr>\n",
       "      <th>UK</th>\n",
       "      <td>1.0</td>\n",
       "      <td>5.0</td>\n",
       "      <td>1</td>\n",
       "    </tr>\n",
       "    <tr>\n",
       "      <th>India</th>\n",
       "      <td>2.0</td>\n",
       "      <td>NaN</td>\n",
       "      <td>2</td>\n",
       "    </tr>\n",
       "    <tr>\n",
       "      <th>Bang</th>\n",
       "      <td>NaN</td>\n",
       "      <td>NaN</td>\n",
       "      <td>3</td>\n",
       "    </tr>\n",
       "  </tbody>\n",
       "</table>\n",
       "</div>"
      ],
      "text/plain": [
       "          A    B  C\n",
       "States             \n",
       "UK      1.0  5.0  1\n",
       "India   2.0  NaN  2\n",
       "Bang    NaN  NaN  3"
      ]
     },
     "execution_count": 200,
     "metadata": {},
     "output_type": "execute_result"
    }
   ],
   "source": [
    "df6=pd.DataFrame({'A':[1,2,np.nan],'B':[5,np.nan,np.nan],'C':[1,2,3]})\n",
    "df6['States']=\"UK India Bang\".split()\n",
    "df6.set_index('States',inplace=True)\n",
    "df6"
   ]
  },
  {
   "cell_type": "code",
   "execution_count": 201,
   "id": "680b18fc",
   "metadata": {},
   "outputs": [
    {
     "name": "stdout",
     "output_type": "stream",
     "text": [
      "\n",
      " Filling values with Default values \n",
      "----------------------------------\n",
      "                  A            B  C\n",
      "States                             \n",
      "UK                1            5  1\n",
      "India             2  FILL VALUES  2\n",
      "Bang    FILL VALUES  FILL VALUES  3\n"
     ]
    }
   ],
   "source": [
    "print(\"\\n Filling values with Default values \\n\",'-'*34,sep='')\n",
    "print(df6.fillna(value='FILL VALUES'))"
   ]
  },
  {
   "cell_type": "code",
   "execution_count": 203,
   "id": "d0e97474",
   "metadata": {},
   "outputs": [
    {
     "data": {
      "text/html": [
       "<div>\n",
       "<style scoped>\n",
       "    .dataframe tbody tr th:only-of-type {\n",
       "        vertical-align: middle;\n",
       "    }\n",
       "\n",
       "    .dataframe tbody tr th {\n",
       "        vertical-align: top;\n",
       "    }\n",
       "\n",
       "    .dataframe thead th {\n",
       "        text-align: right;\n",
       "    }\n",
       "</style>\n",
       "<table border=\"1\" class=\"dataframe\">\n",
       "  <thead>\n",
       "    <tr style=\"text-align: right;\">\n",
       "      <th></th>\n",
       "      <th>A</th>\n",
       "      <th>B</th>\n",
       "      <th>C</th>\n",
       "    </tr>\n",
       "    <tr>\n",
       "      <th>States</th>\n",
       "      <th></th>\n",
       "      <th></th>\n",
       "      <th></th>\n",
       "    </tr>\n",
       "  </thead>\n",
       "  <tbody>\n",
       "    <tr>\n",
       "      <th>UK</th>\n",
       "      <td>1.0</td>\n",
       "      <td>5.0</td>\n",
       "      <td>1</td>\n",
       "    </tr>\n",
       "    <tr>\n",
       "      <th>India</th>\n",
       "      <td>2.0</td>\n",
       "      <td>NaN</td>\n",
       "      <td>2</td>\n",
       "    </tr>\n",
       "    <tr>\n",
       "      <th>Bang</th>\n",
       "      <td>NaN</td>\n",
       "      <td>NaN</td>\n",
       "      <td>3</td>\n",
       "    </tr>\n",
       "  </tbody>\n",
       "</table>\n",
       "</div>"
      ],
      "text/plain": [
       "          A    B  C\n",
       "States             \n",
       "UK      1.0  5.0  1\n",
       "India   2.0  NaN  2\n",
       "Bang    NaN  NaN  3"
      ]
     },
     "execution_count": 203,
     "metadata": {},
     "output_type": "execute_result"
    }
   ],
   "source": [
    "df7=pd.DataFrame({'A':[1,2,np.nan],'B':[5,np.nan,np.nan],'C':[1,2,3]})\n",
    "df7['States']=\"UK India Bang\".split()\n",
    "df7.set_index('States',inplace=True)\n",
    "df7"
   ]
  },
  {
   "cell_type": "code",
   "execution_count": 207,
   "id": "6cdcaa06",
   "metadata": {},
   "outputs": [
    {
     "data": {
      "text/html": [
       "<div>\n",
       "<style scoped>\n",
       "    .dataframe tbody tr th:only-of-type {\n",
       "        vertical-align: middle;\n",
       "    }\n",
       "\n",
       "    .dataframe tbody tr th {\n",
       "        vertical-align: top;\n",
       "    }\n",
       "\n",
       "    .dataframe thead th {\n",
       "        text-align: right;\n",
       "    }\n",
       "</style>\n",
       "<table border=\"1\" class=\"dataframe\">\n",
       "  <thead>\n",
       "    <tr style=\"text-align: right;\">\n",
       "      <th></th>\n",
       "      <th>A</th>\n",
       "      <th>B</th>\n",
       "      <th>C</th>\n",
       "    </tr>\n",
       "    <tr>\n",
       "      <th>States</th>\n",
       "      <th></th>\n",
       "      <th></th>\n",
       "      <th></th>\n",
       "    </tr>\n",
       "  </thead>\n",
       "  <tbody>\n",
       "    <tr>\n",
       "      <th>UK</th>\n",
       "      <td>1.0</td>\n",
       "      <td>5.0</td>\n",
       "      <td>1</td>\n",
       "    </tr>\n",
       "    <tr>\n",
       "      <th>India</th>\n",
       "      <td>2.0</td>\n",
       "      <td>2.0</td>\n",
       "      <td>2</td>\n",
       "    </tr>\n",
       "    <tr>\n",
       "      <th>Bang</th>\n",
       "      <td>2.0</td>\n",
       "      <td>2.0</td>\n",
       "      <td>3</td>\n",
       "    </tr>\n",
       "  </tbody>\n",
       "</table>\n",
       "</div>"
      ],
      "text/plain": [
       "          A    B  C\n",
       "States             \n",
       "UK      1.0  5.0  1\n",
       "India   2.0  2.0  2\n",
       "Bang    2.0  2.0  3"
      ]
     },
     "execution_count": 207,
     "metadata": {},
     "output_type": "execute_result"
    }
   ],
   "source": [
    "df7.fillna (value=df7['C'].mean())"
   ]
  },
  {
   "cell_type": "code",
   "execution_count": 228,
   "id": "6533ec72",
   "metadata": {
    "scrolled": true
   },
   "outputs": [
    {
     "data": {
      "text/html": [
       "<div>\n",
       "<style scoped>\n",
       "    .dataframe tbody tr th:only-of-type {\n",
       "        vertical-align: middle;\n",
       "    }\n",
       "\n",
       "    .dataframe tbody tr th {\n",
       "        vertical-align: top;\n",
       "    }\n",
       "\n",
       "    .dataframe thead th {\n",
       "        text-align: right;\n",
       "    }\n",
       "</style>\n",
       "<table border=\"1\" class=\"dataframe\">\n",
       "  <thead>\n",
       "    <tr style=\"text-align: right;\">\n",
       "      <th></th>\n",
       "      <th>Company</th>\n",
       "      <th>Person</th>\n",
       "      <th>Sales</th>\n",
       "    </tr>\n",
       "  </thead>\n",
       "  <tbody>\n",
       "    <tr>\n",
       "      <th>0</th>\n",
       "      <td>Google</td>\n",
       "      <td>Sam</td>\n",
       "      <td>2200</td>\n",
       "    </tr>\n",
       "    <tr>\n",
       "      <th>1</th>\n",
       "      <td>MSFT</td>\n",
       "      <td>Charlie</td>\n",
       "      <td>2500</td>\n",
       "    </tr>\n",
       "    <tr>\n",
       "      <th>2</th>\n",
       "      <td>Infosys</td>\n",
       "      <td>Hari</td>\n",
       "      <td>1200</td>\n",
       "    </tr>\n",
       "    <tr>\n",
       "      <th>3</th>\n",
       "      <td>FB</td>\n",
       "      <td>Carl</td>\n",
       "      <td>1800</td>\n",
       "    </tr>\n",
       "    <tr>\n",
       "      <th>4</th>\n",
       "      <td>TMahindra</td>\n",
       "      <td>Ravi</td>\n",
       "      <td>900</td>\n",
       "    </tr>\n",
       "    <tr>\n",
       "      <th>5</th>\n",
       "      <td>MSFT</td>\n",
       "      <td>Jaya</td>\n",
       "      <td>2456</td>\n",
       "    </tr>\n",
       "    <tr>\n",
       "      <th>6</th>\n",
       "      <td>Infosys</td>\n",
       "      <td>Haraihara</td>\n",
       "      <td>3421</td>\n",
       "    </tr>\n",
       "  </tbody>\n",
       "</table>\n",
       "</div>"
      ],
      "text/plain": [
       "     Company     Person  Sales\n",
       "0     Google        Sam   2200\n",
       "1       MSFT    Charlie   2500\n",
       "2    Infosys       Hari   1200\n",
       "3         FB       Carl   1800\n",
       "4  TMahindra       Ravi    900\n",
       "5       MSFT       Jaya   2456\n",
       "6    Infosys  Haraihara   3421"
      ]
     },
     "execution_count": 228,
     "metadata": {},
     "output_type": "execute_result"
    }
   ],
   "source": [
    "#Create a dataframe dict/json_key:value pair_format:\n",
    "data={'Company':['Google','MSFT','Infosys','FB','TMahindra','MSFT','Infosys'],\n",
    "      'Person':['Sam','Charlie','Hari','Carl','Ravi','Jaya','Haraihara'],\n",
    "      'Sales':[2200,2500,1200,1800,900,2456,3421]}\n",
    "df8=pd.DataFrame(data)\n",
    "df8"
   ]
  },
  {
   "cell_type": "code",
   "execution_count": 229,
   "id": "9d3a0978",
   "metadata": {},
   "outputs": [
    {
     "data": {
      "text/plain": [
       "<pandas.core.groupby.generic.DataFrameGroupBy object at 0x000000259BDEB790>"
      ]
     },
     "execution_count": 229,
     "metadata": {},
     "output_type": "execute_result"
    }
   ],
   "source": [
    "g=df8.groupby('Company')\n",
    "g"
   ]
  },
  {
   "cell_type": "code",
   "execution_count": 230,
   "id": "c12eb1eb",
   "metadata": {},
   "outputs": [
    {
     "name": "stdout",
     "output_type": "stream",
     "text": [
      "\n",
      " Grouping By company column and listening mean of sales \n",
      "-------------------------------------------------------\n",
      "            Sales\n",
      "Company          \n",
      "FB         1800.0\n",
      "Google     2200.0\n",
      "Infosys    2310.5\n",
      "MSFT       2478.0\n",
      "TMahindra   900.0\n"
     ]
    }
   ],
   "source": [
    "by_comp=df8.groupby('Company')\n",
    "print(\"\\n Grouping By company column and listening mean of sales \\n\",'-'*55,sep='')\n",
    "print(by_comp.mean())"
   ]
  },
  {
   "cell_type": "code",
   "execution_count": 231,
   "id": "8da2565e",
   "metadata": {},
   "outputs": [
    {
     "name": "stdout",
     "output_type": "stream",
     "text": [
      "           Sales\n",
      "Company         \n",
      "FB          1800\n",
      "Google      2200\n",
      "Infosys     4621\n",
      "MSFT        4956\n",
      "TMahindra    900\n"
     ]
    }
   ],
   "source": [
    "print(by_comp.sum())"
   ]
  },
  {
   "cell_type": "code",
   "execution_count": 237,
   "id": "dd704c47",
   "metadata": {},
   "outputs": [
    {
     "name": "stdout",
     "output_type": "stream",
     "text": [
      "\n",
      " All in one line of command (sates for FB)\n",
      "------------------------------------------\n",
      "     Sales                                                           \n",
      "     count    mean        std     min     25%     50%     75%     max\n",
      "MSFT   2.0  2478.0  31.112698  2456.0  2467.0  2478.0  2489.0  2500.0\n"
     ]
    }
   ],
   "source": [
    "print(\"\\n All in one line of command (sates for FB)\\n\",'-'*42,sep='')\n",
    "print(pd.DataFrame(df8.groupby('Company').describe().loc['MSFT']).transpose())"
   ]
  },
  {
   "cell_type": "code",
   "execution_count": 238,
   "id": "37ea5aa2",
   "metadata": {},
   "outputs": [
    {
     "name": "stdout",
     "output_type": "stream",
     "text": [
      "\n",
      " All in one line of command (sates for FB)\n",
      "------------------------------------------\n",
      "   Sales                                                    \n",
      "   count    mean std     min     25%     50%     75%     max\n",
      "FB   1.0  1800.0 NaN  1800.0  1800.0  1800.0  1800.0  1800.0\n"
     ]
    }
   ],
   "source": [
    "print(\"\\n All in one line of command (sates for FB)\\n\",'-'*42,sep='')\n",
    "print(pd.DataFrame(df8.groupby('Company').describe().loc['FB']).transpose())"
   ]
  },
  {
   "cell_type": "code",
   "execution_count": 254,
   "id": "8ec49c66",
   "metadata": {},
   "outputs": [
    {
     "data": {
      "text/html": [
       "<div>\n",
       "<style scoped>\n",
       "    .dataframe tbody tr th:only-of-type {\n",
       "        vertical-align: middle;\n",
       "    }\n",
       "\n",
       "    .dataframe tbody tr th {\n",
       "        vertical-align: top;\n",
       "    }\n",
       "\n",
       "    .dataframe thead tr th {\n",
       "        text-align: left;\n",
       "    }\n",
       "\n",
       "    .dataframe thead tr:last-of-type th {\n",
       "        text-align: right;\n",
       "    }\n",
       "</style>\n",
       "<table border=\"1\" class=\"dataframe\">\n",
       "  <thead>\n",
       "    <tr>\n",
       "      <th></th>\n",
       "      <th colspan=\"8\" halign=\"left\">Sales</th>\n",
       "    </tr>\n",
       "    <tr>\n",
       "      <th></th>\n",
       "      <th>count</th>\n",
       "      <th>mean</th>\n",
       "      <th>std</th>\n",
       "      <th>min</th>\n",
       "      <th>25%</th>\n",
       "      <th>50%</th>\n",
       "      <th>75%</th>\n",
       "      <th>max</th>\n",
       "    </tr>\n",
       "    <tr>\n",
       "      <th>Company</th>\n",
       "      <th></th>\n",
       "      <th></th>\n",
       "      <th></th>\n",
       "      <th></th>\n",
       "      <th></th>\n",
       "      <th></th>\n",
       "      <th></th>\n",
       "      <th></th>\n",
       "    </tr>\n",
       "  </thead>\n",
       "  <tbody>\n",
       "    <tr>\n",
       "      <th>FB</th>\n",
       "      <td>1.0</td>\n",
       "      <td>1800.0</td>\n",
       "      <td>NaN</td>\n",
       "      <td>1800.0</td>\n",
       "      <td>1800.00</td>\n",
       "      <td>1800.0</td>\n",
       "      <td>1800.00</td>\n",
       "      <td>1800.0</td>\n",
       "    </tr>\n",
       "    <tr>\n",
       "      <th>Google</th>\n",
       "      <td>1.0</td>\n",
       "      <td>2200.0</td>\n",
       "      <td>NaN</td>\n",
       "      <td>2200.0</td>\n",
       "      <td>2200.00</td>\n",
       "      <td>2200.0</td>\n",
       "      <td>2200.00</td>\n",
       "      <td>2200.0</td>\n",
       "    </tr>\n",
       "    <tr>\n",
       "      <th>Infosys</th>\n",
       "      <td>2.0</td>\n",
       "      <td>2310.5</td>\n",
       "      <td>1570.484161</td>\n",
       "      <td>1200.0</td>\n",
       "      <td>1755.25</td>\n",
       "      <td>2310.5</td>\n",
       "      <td>2865.75</td>\n",
       "      <td>3421.0</td>\n",
       "    </tr>\n",
       "    <tr>\n",
       "      <th>MSFT</th>\n",
       "      <td>2.0</td>\n",
       "      <td>2478.0</td>\n",
       "      <td>31.112698</td>\n",
       "      <td>2456.0</td>\n",
       "      <td>2467.00</td>\n",
       "      <td>2478.0</td>\n",
       "      <td>2489.00</td>\n",
       "      <td>2500.0</td>\n",
       "    </tr>\n",
       "    <tr>\n",
       "      <th>TMahindra</th>\n",
       "      <td>1.0</td>\n",
       "      <td>900.0</td>\n",
       "      <td>NaN</td>\n",
       "      <td>900.0</td>\n",
       "      <td>900.00</td>\n",
       "      <td>900.0</td>\n",
       "      <td>900.00</td>\n",
       "      <td>900.0</td>\n",
       "    </tr>\n",
       "  </tbody>\n",
       "</table>\n",
       "</div>"
      ],
      "text/plain": [
       "          Sales                                                               \n",
       "          count    mean          std     min      25%     50%      75%     max\n",
       "Company                                                                       \n",
       "FB          1.0  1800.0          NaN  1800.0  1800.00  1800.0  1800.00  1800.0\n",
       "Google      1.0  2200.0          NaN  2200.0  2200.00  2200.0  2200.00  2200.0\n",
       "Infosys     2.0  2310.5  1570.484161  1200.0  1755.25  2310.5  2865.75  3421.0\n",
       "MSFT        2.0  2478.0    31.112698  2456.0  2467.00  2478.0  2489.00  2500.0\n",
       "TMahindra   1.0   900.0          NaN   900.0   900.00   900.0   900.00   900.0"
      ]
     },
     "execution_count": 254,
     "metadata": {},
     "output_type": "execute_result"
    }
   ],
   "source": [
    "df8.groupby('Company').describe()"
   ]
  },
  {
   "cell_type": "code",
   "execution_count": 265,
   "id": "81c130da",
   "metadata": {},
   "outputs": [
    {
     "data": {
      "text/html": [
       "<div>\n",
       "<style scoped>\n",
       "    .dataframe tbody tr th:only-of-type {\n",
       "        vertical-align: middle;\n",
       "    }\n",
       "\n",
       "    .dataframe tbody tr th {\n",
       "        vertical-align: top;\n",
       "    }\n",
       "\n",
       "    .dataframe thead tr th {\n",
       "        text-align: left;\n",
       "    }\n",
       "\n",
       "    .dataframe thead tr:last-of-type th {\n",
       "        text-align: right;\n",
       "    }\n",
       "</style>\n",
       "<table border=\"1\" class=\"dataframe\">\n",
       "  <thead>\n",
       "    <tr>\n",
       "      <th></th>\n",
       "      <th colspan=\"2\" halign=\"left\">Sales</th>\n",
       "    </tr>\n",
       "    <tr>\n",
       "      <th></th>\n",
       "      <th>mean</th>\n",
       "      <th>std</th>\n",
       "    </tr>\n",
       "    <tr>\n",
       "      <th>Company</th>\n",
       "      <th></th>\n",
       "      <th></th>\n",
       "    </tr>\n",
       "  </thead>\n",
       "  <tbody>\n",
       "    <tr>\n",
       "      <th>Google</th>\n",
       "      <td>2200.0</td>\n",
       "      <td>NaN</td>\n",
       "    </tr>\n",
       "    <tr>\n",
       "      <th>Infosys</th>\n",
       "      <td>2310.5</td>\n",
       "      <td>1570.484161</td>\n",
       "    </tr>\n",
       "    <tr>\n",
       "      <th>MSFT</th>\n",
       "      <td>2478.0</td>\n",
       "      <td>31.112698</td>\n",
       "    </tr>\n",
       "  </tbody>\n",
       "</table>\n",
       "</div>"
      ],
      "text/plain": [
       "          Sales             \n",
       "           mean          std\n",
       "Company                     \n",
       "Google   2200.0          NaN\n",
       "Infosys  2310.5  1570.484161\n",
       "MSFT     2478.0    31.112698"
      ]
     },
     "execution_count": 265,
     "metadata": {},
     "output_type": "execute_result"
    }
   ],
   "source": [
    "df8.groupby('Company').describe().iloc[1:4,1:3]"
   ]
  },
  {
   "cell_type": "code",
   "execution_count": 272,
   "id": "a96a4abb",
   "metadata": {},
   "outputs": [
    {
     "data": {
      "text/html": [
       "<div>\n",
       "<style scoped>\n",
       "    .dataframe tbody tr th:only-of-type {\n",
       "        vertical-align: middle;\n",
       "    }\n",
       "\n",
       "    .dataframe tbody tr th {\n",
       "        vertical-align: top;\n",
       "    }\n",
       "\n",
       "    .dataframe thead th {\n",
       "        text-align: right;\n",
       "    }\n",
       "</style>\n",
       "<table border=\"1\" class=\"dataframe\">\n",
       "  <thead>\n",
       "    <tr style=\"text-align: right;\">\n",
       "      <th></th>\n",
       "      <th>mean</th>\n",
       "      <th>std</th>\n",
       "    </tr>\n",
       "    <tr>\n",
       "      <th>Company</th>\n",
       "      <th></th>\n",
       "      <th></th>\n",
       "    </tr>\n",
       "  </thead>\n",
       "  <tbody>\n",
       "    <tr>\n",
       "      <th>MSFT</th>\n",
       "      <td>2478.0</td>\n",
       "      <td>31.112698</td>\n",
       "    </tr>\n",
       "    <tr>\n",
       "      <th>Infosys</th>\n",
       "      <td>2310.5</td>\n",
       "      <td>1570.484161</td>\n",
       "    </tr>\n",
       "  </tbody>\n",
       "</table>\n",
       "</div>"
      ],
      "text/plain": [
       "           mean          std\n",
       "Company                     \n",
       "MSFT     2478.0    31.112698\n",
       "Infosys  2310.5  1570.484161"
      ]
     },
     "execution_count": 272,
     "metadata": {},
     "output_type": "execute_result"
    }
   ],
   "source": [
    "df8.groupby('Company').describe()['Sales'].loc[['MSFT','Infosys'],['mean','std']]"
   ]
  },
  {
   "cell_type": "code",
   "execution_count": 277,
   "id": "965e901b",
   "metadata": {},
   "outputs": [
    {
     "data": {
      "text/html": [
       "<div>\n",
       "<style scoped>\n",
       "    .dataframe tbody tr th:only-of-type {\n",
       "        vertical-align: middle;\n",
       "    }\n",
       "\n",
       "    .dataframe tbody tr th {\n",
       "        vertical-align: top;\n",
       "    }\n",
       "\n",
       "    .dataframe thead th {\n",
       "        text-align: right;\n",
       "    }\n",
       "</style>\n",
       "<table border=\"1\" class=\"dataframe\">\n",
       "  <thead>\n",
       "    <tr style=\"text-align: right;\">\n",
       "      <th></th>\n",
       "      <th>Company</th>\n",
       "      <th>FB</th>\n",
       "      <th>Google</th>\n",
       "      <th>Infosys</th>\n",
       "      <th>MSFT</th>\n",
       "      <th>TMahindra</th>\n",
       "    </tr>\n",
       "  </thead>\n",
       "  <tbody>\n",
       "    <tr>\n",
       "      <th rowspan=\"8\" valign=\"top\">Sales</th>\n",
       "      <th>count</th>\n",
       "      <td>1.0</td>\n",
       "      <td>1.0</td>\n",
       "      <td>2.000000</td>\n",
       "      <td>2.000000</td>\n",
       "      <td>1.0</td>\n",
       "    </tr>\n",
       "    <tr>\n",
       "      <th>mean</th>\n",
       "      <td>1800.0</td>\n",
       "      <td>2200.0</td>\n",
       "      <td>2310.500000</td>\n",
       "      <td>2478.000000</td>\n",
       "      <td>900.0</td>\n",
       "    </tr>\n",
       "    <tr>\n",
       "      <th>std</th>\n",
       "      <td>NaN</td>\n",
       "      <td>NaN</td>\n",
       "      <td>1570.484161</td>\n",
       "      <td>31.112698</td>\n",
       "      <td>NaN</td>\n",
       "    </tr>\n",
       "    <tr>\n",
       "      <th>min</th>\n",
       "      <td>1800.0</td>\n",
       "      <td>2200.0</td>\n",
       "      <td>1200.000000</td>\n",
       "      <td>2456.000000</td>\n",
       "      <td>900.0</td>\n",
       "    </tr>\n",
       "    <tr>\n",
       "      <th>25%</th>\n",
       "      <td>1800.0</td>\n",
       "      <td>2200.0</td>\n",
       "      <td>1755.250000</td>\n",
       "      <td>2467.000000</td>\n",
       "      <td>900.0</td>\n",
       "    </tr>\n",
       "    <tr>\n",
       "      <th>50%</th>\n",
       "      <td>1800.0</td>\n",
       "      <td>2200.0</td>\n",
       "      <td>2310.500000</td>\n",
       "      <td>2478.000000</td>\n",
       "      <td>900.0</td>\n",
       "    </tr>\n",
       "    <tr>\n",
       "      <th>75%</th>\n",
       "      <td>1800.0</td>\n",
       "      <td>2200.0</td>\n",
       "      <td>2865.750000</td>\n",
       "      <td>2489.000000</td>\n",
       "      <td>900.0</td>\n",
       "    </tr>\n",
       "    <tr>\n",
       "      <th>max</th>\n",
       "      <td>1800.0</td>\n",
       "      <td>2200.0</td>\n",
       "      <td>3421.000000</td>\n",
       "      <td>2500.000000</td>\n",
       "      <td>900.0</td>\n",
       "    </tr>\n",
       "  </tbody>\n",
       "</table>\n",
       "</div>"
      ],
      "text/plain": [
       "Company          FB  Google      Infosys         MSFT  TMahindra\n",
       "Sales count     1.0     1.0     2.000000     2.000000        1.0\n",
       "      mean   1800.0  2200.0  2310.500000  2478.000000      900.0\n",
       "      std       NaN     NaN  1570.484161    31.112698        NaN\n",
       "      min    1800.0  2200.0  1200.000000  2456.000000      900.0\n",
       "      25%    1800.0  2200.0  1755.250000  2467.000000      900.0\n",
       "      50%    1800.0  2200.0  2310.500000  2478.000000      900.0\n",
       "      75%    1800.0  2200.0  2865.750000  2489.000000      900.0\n",
       "      max    1800.0  2200.0  3421.000000  2500.000000      900.0"
      ]
     },
     "execution_count": 277,
     "metadata": {},
     "output_type": "execute_result"
    }
   ],
   "source": [
    "#.T transpose the Data_Frame:\n",
    "data_t=df8.groupby('Company').describe()\n",
    "df9=data_t.T\n",
    "df9"
   ]
  },
  {
   "cell_type": "code",
   "execution_count": 281,
   "id": "036fb800",
   "metadata": {},
   "outputs": [
    {
     "data": {
      "text/plain": [
       "Company\n",
       "FB           1800.0\n",
       "Google       2200.0\n",
       "Infosys      2310.5\n",
       "MSFT         2478.0\n",
       "TMahindra     900.0\n",
       "Name: mean, dtype: float64"
      ]
     },
     "execution_count": 281,
     "metadata": {},
     "output_type": "execute_result"
    }
   ],
   "source": [
    "df9.loc['Sales'].loc['mean']"
   ]
  },
  {
   "cell_type": "code",
   "execution_count": 286,
   "id": "286ba3bb",
   "metadata": {},
   "outputs": [
    {
     "data": {
      "text/html": [
       "<div>\n",
       "<style scoped>\n",
       "    .dataframe tbody tr th:only-of-type {\n",
       "        vertical-align: middle;\n",
       "    }\n",
       "\n",
       "    .dataframe tbody tr th {\n",
       "        vertical-align: top;\n",
       "    }\n",
       "\n",
       "    .dataframe thead th {\n",
       "        text-align: right;\n",
       "    }\n",
       "</style>\n",
       "<table border=\"1\" class=\"dataframe\">\n",
       "  <thead>\n",
       "    <tr style=\"text-align: right;\">\n",
       "      <th></th>\n",
       "      <th>A</th>\n",
       "      <th>B</th>\n",
       "      <th>C</th>\n",
       "      <th>D</th>\n",
       "    </tr>\n",
       "  </thead>\n",
       "  <tbody>\n",
       "    <tr>\n",
       "      <th>0</th>\n",
       "      <td>A0</td>\n",
       "      <td>B0</td>\n",
       "      <td>C0</td>\n",
       "      <td>D0</td>\n",
       "    </tr>\n",
       "    <tr>\n",
       "      <th>1</th>\n",
       "      <td>A1</td>\n",
       "      <td>B1</td>\n",
       "      <td>C1</td>\n",
       "      <td>D1</td>\n",
       "    </tr>\n",
       "    <tr>\n",
       "      <th>2</th>\n",
       "      <td>A2</td>\n",
       "      <td>B2</td>\n",
       "      <td>C2</td>\n",
       "      <td>D2</td>\n",
       "    </tr>\n",
       "    <tr>\n",
       "      <th>3</th>\n",
       "      <td>A3</td>\n",
       "      <td>B3</td>\n",
       "      <td>C3</td>\n",
       "      <td>D3</td>\n",
       "    </tr>\n",
       "  </tbody>\n",
       "</table>\n",
       "</div>"
      ],
      "text/plain": [
       "    A   B   C   D\n",
       "0  A0  B0  C0  D0\n",
       "1  A1  B1  C1  D1\n",
       "2  A2  B2  C2  D2\n",
       "3  A3  B3  C3  D3"
      ]
     },
     "execution_count": 286,
     "metadata": {},
     "output_type": "execute_result"
    }
   ],
   "source": [
    "# Merging two data frames.\n",
    "# Creating_data frames.\n",
    "df10 = pd.DataFrame({'A': ['A0', 'A1', 'A2', 'A3'],\n",
    "                     'B': ['B0', 'B1', 'B2', 'B3'],\n",
    "                     'C': ['C0', 'C1', 'C2', 'C3'],\n",
    "                     'D': ['D0', 'D1', 'D2', 'D3']},\n",
    "                     index=[0, 1, 2, 3])\n",
    "df10"
   ]
  },
  {
   "cell_type": "code",
   "execution_count": 290,
   "id": "f058ec20",
   "metadata": {},
   "outputs": [
    {
     "data": {
      "text/html": [
       "<div>\n",
       "<style scoped>\n",
       "    .dataframe tbody tr th:only-of-type {\n",
       "        vertical-align: middle;\n",
       "    }\n",
       "\n",
       "    .dataframe tbody tr th {\n",
       "        vertical-align: top;\n",
       "    }\n",
       "\n",
       "    .dataframe thead th {\n",
       "        text-align: right;\n",
       "    }\n",
       "</style>\n",
       "<table border=\"1\" class=\"dataframe\">\n",
       "  <thead>\n",
       "    <tr style=\"text-align: right;\">\n",
       "      <th></th>\n",
       "      <th>A</th>\n",
       "      <th>B</th>\n",
       "      <th>C</th>\n",
       "      <th>D</th>\n",
       "    </tr>\n",
       "  </thead>\n",
       "  <tbody>\n",
       "    <tr>\n",
       "      <th>0</th>\n",
       "      <td>A0</td>\n",
       "      <td>B0</td>\n",
       "      <td>C0</td>\n",
       "      <td>D0</td>\n",
       "    </tr>\n",
       "    <tr>\n",
       "      <th>1</th>\n",
       "      <td>A1</td>\n",
       "      <td>B1</td>\n",
       "      <td>C1</td>\n",
       "      <td>D1</td>\n",
       "    </tr>\n",
       "    <tr>\n",
       "      <th>2</th>\n",
       "      <td>A2</td>\n",
       "      <td>B2</td>\n",
       "      <td>C2</td>\n",
       "      <td>D2</td>\n",
       "    </tr>\n",
       "    <tr>\n",
       "      <th>3</th>\n",
       "      <td>A3</td>\n",
       "      <td>B3</td>\n",
       "      <td>C3</td>\n",
       "      <td>D3</td>\n",
       "    </tr>\n",
       "  </tbody>\n",
       "</table>\n",
       "</div>"
      ],
      "text/plain": [
       "    A   B   C   D\n",
       "0  A0  B0  C0  D0\n",
       "1  A1  B1  C1  D1\n",
       "2  A2  B2  C2  D2\n",
       "3  A3  B3  C3  D3"
      ]
     },
     "execution_count": 290,
     "metadata": {},
     "output_type": "execute_result"
    }
   ],
   "source": [
    "df11=pd.DataFrame({'A':['A0','A1','A2','A3'],\n",
    "                    'B':['B0','B1','B2','B3'],\n",
    "                    'C':['C0','C1','C2','C3'],\n",
    "                    'D':['D0','D1','D2','D3']},\n",
    "                     index=[0,1,2,3])\n",
    "df11"
   ]
  },
  {
   "cell_type": "code",
   "execution_count": 297,
   "id": "e65d6442",
   "metadata": {},
   "outputs": [
    {
     "name": "stdout",
     "output_type": "stream",
     "text": [
      "\n",
      " The dataFrame number 1:\n",
      "-----------------------\n",
      "    A   B   C   D\n",
      "0  A0  B0  C0  D0\n",
      "1  A1  B1  C1  D1\n",
      "2  A2  B2  C2  D2\n",
      "3  A3  B3  C3  D3\n"
     ]
    }
   ],
   "source": [
    "print(\"\\n The dataFrame number 1:\\n\",'-'*23,sep='')\n",
    "print(df11)"
   ]
  },
  {
   "cell_type": "code",
   "execution_count": 301,
   "id": "760bc28f",
   "metadata": {},
   "outputs": [
    {
     "name": "stdout",
     "output_type": "stream",
     "text": [
      "\n",
      "After concatenation along row:\n",
      "------------------------------\n"
     ]
    },
    {
     "data": {
      "text/html": [
       "<div>\n",
       "<style scoped>\n",
       "    .dataframe tbody tr th:only-of-type {\n",
       "        vertical-align: middle;\n",
       "    }\n",
       "\n",
       "    .dataframe tbody tr th {\n",
       "        vertical-align: top;\n",
       "    }\n",
       "\n",
       "    .dataframe thead th {\n",
       "        text-align: right;\n",
       "    }\n",
       "</style>\n",
       "<table border=\"1\" class=\"dataframe\">\n",
       "  <thead>\n",
       "    <tr style=\"text-align: right;\">\n",
       "      <th></th>\n",
       "      <th>A</th>\n",
       "      <th>B</th>\n",
       "      <th>C</th>\n",
       "      <th>D</th>\n",
       "      <th>A</th>\n",
       "      <th>B</th>\n",
       "      <th>C</th>\n",
       "      <th>D</th>\n",
       "    </tr>\n",
       "  </thead>\n",
       "  <tbody>\n",
       "    <tr>\n",
       "      <th>0</th>\n",
       "      <td>A0</td>\n",
       "      <td>B0</td>\n",
       "      <td>C0</td>\n",
       "      <td>D0</td>\n",
       "      <td>A0</td>\n",
       "      <td>B0</td>\n",
       "      <td>C0</td>\n",
       "      <td>D0</td>\n",
       "    </tr>\n",
       "    <tr>\n",
       "      <th>1</th>\n",
       "      <td>A1</td>\n",
       "      <td>B1</td>\n",
       "      <td>C1</td>\n",
       "      <td>D1</td>\n",
       "      <td>A1</td>\n",
       "      <td>B1</td>\n",
       "      <td>C1</td>\n",
       "      <td>D1</td>\n",
       "    </tr>\n",
       "    <tr>\n",
       "      <th>2</th>\n",
       "      <td>A2</td>\n",
       "      <td>B2</td>\n",
       "      <td>C2</td>\n",
       "      <td>D2</td>\n",
       "      <td>A2</td>\n",
       "      <td>B2</td>\n",
       "      <td>C2</td>\n",
       "      <td>D2</td>\n",
       "    </tr>\n",
       "    <tr>\n",
       "      <th>3</th>\n",
       "      <td>A3</td>\n",
       "      <td>B3</td>\n",
       "      <td>C3</td>\n",
       "      <td>D3</td>\n",
       "      <td>A3</td>\n",
       "      <td>B3</td>\n",
       "      <td>C3</td>\n",
       "      <td>D3</td>\n",
       "    </tr>\n",
       "  </tbody>\n",
       "</table>\n",
       "</div>"
      ],
      "text/plain": [
       "    A   B   C   D   A   B   C   D\n",
       "0  A0  B0  C0  D0  A0  B0  C0  D0\n",
       "1  A1  B1  C1  D1  A1  B1  C1  D1\n",
       "2  A2  B2  C2  D2  A2  B2  C2  D2\n",
       "3  A3  B3  C3  D3  A3  B3  C3  D3"
      ]
     },
     "execution_count": 301,
     "metadata": {},
     "output_type": "execute_result"
    }
   ],
   "source": [
    "#_Now_Concatenation_Two Dataframe:\n",
    "df_cat1=pd.concat([df10,df11],axis=1)\n",
    "print(\"\\nAfter concatenation along row:\\n\",'-'*30,sep='')\n",
    "df_cat1"
   ]
  },
  {
   "cell_type": "code",
   "execution_count": 302,
   "id": "5646ac85",
   "metadata": {},
   "outputs": [
    {
     "data": {
      "text/plain": [
       "A    A3\n",
       "B    B3\n",
       "C    C3\n",
       "D    D3\n",
       "A    A3\n",
       "B    B3\n",
       "C    C3\n",
       "D    D3\n",
       "Name: 3, dtype: object"
      ]
     },
     "execution_count": 302,
     "metadata": {},
     "output_type": "execute_result"
    }
   ],
   "source": [
    "df_cat1.iloc[3]"
   ]
  },
  {
   "cell_type": "code",
   "execution_count": 10,
   "id": "3d5f79c8",
   "metadata": {},
   "outputs": [],
   "source": [
    "#_Merging of a_common key:\n",
    "df13=pd.DataFrame({'Key_1':['K0','K8','K2','K3'],\n",
    "                  'A':['A0','A1','A2','A3'],\n",
    "                  'C':['A0','A1','A2','A3'],\n",
    "                  'B':['B0','B1','B2','B3']})\n",
    "df14=pd.DataFrame({'Key_2':['K0','K1','K2','K3'],\n",
    "                'C':['C0','C1','C2','C3'],\n",
    "                'D':['D0','D1','D2','D3']})"
   ]
  },
  {
   "cell_type": "code",
   "execution_count": 304,
   "id": "a72d2f10",
   "metadata": {},
   "outputs": [
    {
     "data": {
      "text/html": [
       "<div>\n",
       "<style scoped>\n",
       "    .dataframe tbody tr th:only-of-type {\n",
       "        vertical-align: middle;\n",
       "    }\n",
       "\n",
       "    .dataframe tbody tr th {\n",
       "        vertical-align: top;\n",
       "    }\n",
       "\n",
       "    .dataframe thead th {\n",
       "        text-align: right;\n",
       "    }\n",
       "</style>\n",
       "<table border=\"1\" class=\"dataframe\">\n",
       "  <thead>\n",
       "    <tr style=\"text-align: right;\">\n",
       "      <th></th>\n",
       "      <th>Key_1</th>\n",
       "      <th>A</th>\n",
       "      <th>C</th>\n",
       "      <th>B</th>\n",
       "    </tr>\n",
       "  </thead>\n",
       "  <tbody>\n",
       "    <tr>\n",
       "      <th>0</th>\n",
       "      <td>K0</td>\n",
       "      <td>A0</td>\n",
       "      <td>A0</td>\n",
       "      <td>B0</td>\n",
       "    </tr>\n",
       "    <tr>\n",
       "      <th>1</th>\n",
       "      <td>K8</td>\n",
       "      <td>A1</td>\n",
       "      <td>A1</td>\n",
       "      <td>B1</td>\n",
       "    </tr>\n",
       "    <tr>\n",
       "      <th>2</th>\n",
       "      <td>K2</td>\n",
       "      <td>A2</td>\n",
       "      <td>A2</td>\n",
       "      <td>B2</td>\n",
       "    </tr>\n",
       "    <tr>\n",
       "      <th>3</th>\n",
       "      <td>K3</td>\n",
       "      <td>A3</td>\n",
       "      <td>A3</td>\n",
       "      <td>B3</td>\n",
       "    </tr>\n",
       "  </tbody>\n",
       "</table>\n",
       "</div>"
      ],
      "text/plain": [
       "  Key_1   A   C   B\n",
       "0    K0  A0  A0  B0\n",
       "1    K8  A1  A1  B1\n",
       "2    K2  A2  A2  B2\n",
       "3    K3  A3  A3  B3"
      ]
     },
     "execution_count": 304,
     "metadata": {},
     "output_type": "execute_result"
    }
   ],
   "source": [
    "df13"
   ]
  },
  {
   "cell_type": "code",
   "execution_count": 305,
   "id": "123d39d8",
   "metadata": {},
   "outputs": [
    {
     "data": {
      "text/html": [
       "<div>\n",
       "<style scoped>\n",
       "    .dataframe tbody tr th:only-of-type {\n",
       "        vertical-align: middle;\n",
       "    }\n",
       "\n",
       "    .dataframe tbody tr th {\n",
       "        vertical-align: top;\n",
       "    }\n",
       "\n",
       "    .dataframe thead th {\n",
       "        text-align: right;\n",
       "    }\n",
       "</style>\n",
       "<table border=\"1\" class=\"dataframe\">\n",
       "  <thead>\n",
       "    <tr style=\"text-align: right;\">\n",
       "      <th></th>\n",
       "      <th>Key_2</th>\n",
       "      <th>C</th>\n",
       "      <th>D</th>\n",
       "    </tr>\n",
       "  </thead>\n",
       "  <tbody>\n",
       "    <tr>\n",
       "      <th>0</th>\n",
       "      <td>K0</td>\n",
       "      <td>C0</td>\n",
       "      <td>D0</td>\n",
       "    </tr>\n",
       "    <tr>\n",
       "      <th>1</th>\n",
       "      <td>K1</td>\n",
       "      <td>C1</td>\n",
       "      <td>D1</td>\n",
       "    </tr>\n",
       "    <tr>\n",
       "      <th>2</th>\n",
       "      <td>K2</td>\n",
       "      <td>C2</td>\n",
       "      <td>D2</td>\n",
       "    </tr>\n",
       "    <tr>\n",
       "      <th>3</th>\n",
       "      <td>K3</td>\n",
       "      <td>C3</td>\n",
       "      <td>D3</td>\n",
       "    </tr>\n",
       "  </tbody>\n",
       "</table>\n",
       "</div>"
      ],
      "text/plain": [
       "  Key_2   C   D\n",
       "0    K0  C0  D0\n",
       "1    K1  C1  D1\n",
       "2    K2  C2  D2\n",
       "3    K3  C3  D3"
      ]
     },
     "execution_count": 305,
     "metadata": {},
     "output_type": "execute_result"
    }
   ],
   "source": [
    "df14"
   ]
  },
  {
   "cell_type": "code",
   "execution_count": 307,
   "id": "3170e8db",
   "metadata": {},
   "outputs": [
    {
     "data": {
      "text/html": [
       "<div>\n",
       "<style scoped>\n",
       "    .dataframe tbody tr th:only-of-type {\n",
       "        vertical-align: middle;\n",
       "    }\n",
       "\n",
       "    .dataframe tbody tr th {\n",
       "        vertical-align: top;\n",
       "    }\n",
       "\n",
       "    .dataframe thead th {\n",
       "        text-align: right;\n",
       "    }\n",
       "</style>\n",
       "<table border=\"1\" class=\"dataframe\">\n",
       "  <thead>\n",
       "    <tr style=\"text-align: right;\">\n",
       "      <th></th>\n",
       "      <th>Key_1</th>\n",
       "      <th>A</th>\n",
       "      <th>C_x</th>\n",
       "      <th>B</th>\n",
       "      <th>Key_2</th>\n",
       "      <th>C_y</th>\n",
       "      <th>D</th>\n",
       "    </tr>\n",
       "  </thead>\n",
       "  <tbody>\n",
       "    <tr>\n",
       "      <th>0</th>\n",
       "      <td>K0</td>\n",
       "      <td>A0</td>\n",
       "      <td>A0</td>\n",
       "      <td>B0</td>\n",
       "      <td>K0</td>\n",
       "      <td>C0</td>\n",
       "      <td>D0</td>\n",
       "    </tr>\n",
       "    <tr>\n",
       "      <th>1</th>\n",
       "      <td>K8</td>\n",
       "      <td>A1</td>\n",
       "      <td>A1</td>\n",
       "      <td>B1</td>\n",
       "      <td>NaN</td>\n",
       "      <td>NaN</td>\n",
       "      <td>NaN</td>\n",
       "    </tr>\n",
       "    <tr>\n",
       "      <th>2</th>\n",
       "      <td>K2</td>\n",
       "      <td>A2</td>\n",
       "      <td>A2</td>\n",
       "      <td>B2</td>\n",
       "      <td>K2</td>\n",
       "      <td>C2</td>\n",
       "      <td>D2</td>\n",
       "    </tr>\n",
       "    <tr>\n",
       "      <th>3</th>\n",
       "      <td>K3</td>\n",
       "      <td>A3</td>\n",
       "      <td>A3</td>\n",
       "      <td>B3</td>\n",
       "      <td>K3</td>\n",
       "      <td>C3</td>\n",
       "      <td>D3</td>\n",
       "    </tr>\n",
       "  </tbody>\n",
       "</table>\n",
       "</div>"
      ],
      "text/plain": [
       "  Key_1   A C_x   B Key_2  C_y    D\n",
       "0    K0  A0  A0  B0    K0   C0   D0\n",
       "1    K8  A1  A1  B1   NaN  NaN  NaN\n",
       "2    K2  A2  A2  B2    K2   C2   D2\n",
       "3    K3  A3  A3  B3    K3   C3   D3"
      ]
     },
     "execution_count": 307,
     "metadata": {},
     "output_type": "execute_result"
    }
   ],
   "source": [
    "pd.merge(df13,df14,how='left',left_on='Key_1',right_on='Key_2')"
   ]
  },
  {
   "cell_type": "code",
   "execution_count": 308,
   "id": "6a1d4c57",
   "metadata": {},
   "outputs": [
    {
     "data": {
      "text/html": [
       "<div>\n",
       "<style scoped>\n",
       "    .dataframe tbody tr th:only-of-type {\n",
       "        vertical-align: middle;\n",
       "    }\n",
       "\n",
       "    .dataframe tbody tr th {\n",
       "        vertical-align: top;\n",
       "    }\n",
       "\n",
       "    .dataframe thead th {\n",
       "        text-align: right;\n",
       "    }\n",
       "</style>\n",
       "<table border=\"1\" class=\"dataframe\">\n",
       "  <thead>\n",
       "    <tr style=\"text-align: right;\">\n",
       "      <th></th>\n",
       "      <th>Key_1</th>\n",
       "      <th>A</th>\n",
       "      <th>C_x</th>\n",
       "      <th>B</th>\n",
       "      <th>Key_2</th>\n",
       "      <th>C_y</th>\n",
       "      <th>D</th>\n",
       "    </tr>\n",
       "  </thead>\n",
       "  <tbody>\n",
       "    <tr>\n",
       "      <th>0</th>\n",
       "      <td>K0</td>\n",
       "      <td>A0</td>\n",
       "      <td>A0</td>\n",
       "      <td>B0</td>\n",
       "      <td>K0</td>\n",
       "      <td>C0</td>\n",
       "      <td>D0</td>\n",
       "    </tr>\n",
       "    <tr>\n",
       "      <th>1</th>\n",
       "      <td>K2</td>\n",
       "      <td>A2</td>\n",
       "      <td>A2</td>\n",
       "      <td>B2</td>\n",
       "      <td>K2</td>\n",
       "      <td>C2</td>\n",
       "      <td>D2</td>\n",
       "    </tr>\n",
       "    <tr>\n",
       "      <th>2</th>\n",
       "      <td>K3</td>\n",
       "      <td>A3</td>\n",
       "      <td>A3</td>\n",
       "      <td>B3</td>\n",
       "      <td>K3</td>\n",
       "      <td>C3</td>\n",
       "      <td>D3</td>\n",
       "    </tr>\n",
       "    <tr>\n",
       "      <th>3</th>\n",
       "      <td>NaN</td>\n",
       "      <td>NaN</td>\n",
       "      <td>NaN</td>\n",
       "      <td>NaN</td>\n",
       "      <td>K1</td>\n",
       "      <td>C1</td>\n",
       "      <td>D1</td>\n",
       "    </tr>\n",
       "  </tbody>\n",
       "</table>\n",
       "</div>"
      ],
      "text/plain": [
       "  Key_1    A  C_x    B Key_2 C_y   D\n",
       "0    K0   A0   A0   B0    K0  C0  D0\n",
       "1    K2   A2   A2   B2    K2  C2  D2\n",
       "2    K3   A3   A3   B3    K3  C3  D3\n",
       "3   NaN  NaN  NaN  NaN    K1  C1  D1"
      ]
     },
     "execution_count": 308,
     "metadata": {},
     "output_type": "execute_result"
    }
   ],
   "source": [
    "pd.merge(df13,df14,how='right',left_on='Key_1',right_on='Key_2')"
   ]
  },
  {
   "cell_type": "code",
   "execution_count": 331,
   "id": "bba0bbc0",
   "metadata": {},
   "outputs": [],
   "source": [
    "left=pd.DataFrame({'key1':['K0','K0','k1','K2'],\n",
    "                   'key2':['K0','K1','K0','K1'],\n",
    "                   'A':['A0','A1','A2','A3'],\n",
    "                   'B':['BO','B1','B2','B3']})\n",
    "right=pd.DataFrame({'Key1':['K0','K1','K1','K2'],\n",
    "                        'key2':['KO','K0','KO','KO'],\n",
    "                         'C':['C0','C1','C2','C3'],\n",
    "                          'D':['D0','D1','D2','D3']})"
   ]
  },
  {
   "cell_type": "code",
   "execution_count": 332,
   "id": "d53ddce0",
   "metadata": {},
   "outputs": [
    {
     "data": {
      "text/html": [
       "<div>\n",
       "<style scoped>\n",
       "    .dataframe tbody tr th:only-of-type {\n",
       "        vertical-align: middle;\n",
       "    }\n",
       "\n",
       "    .dataframe tbody tr th {\n",
       "        vertical-align: top;\n",
       "    }\n",
       "\n",
       "    .dataframe thead th {\n",
       "        text-align: right;\n",
       "    }\n",
       "</style>\n",
       "<table border=\"1\" class=\"dataframe\">\n",
       "  <thead>\n",
       "    <tr style=\"text-align: right;\">\n",
       "      <th></th>\n",
       "      <th>key1</th>\n",
       "      <th>key2</th>\n",
       "      <th>A</th>\n",
       "      <th>B</th>\n",
       "    </tr>\n",
       "  </thead>\n",
       "  <tbody>\n",
       "    <tr>\n",
       "      <th>0</th>\n",
       "      <td>K0</td>\n",
       "      <td>K0</td>\n",
       "      <td>A0</td>\n",
       "      <td>BO</td>\n",
       "    </tr>\n",
       "    <tr>\n",
       "      <th>1</th>\n",
       "      <td>K0</td>\n",
       "      <td>K1</td>\n",
       "      <td>A1</td>\n",
       "      <td>B1</td>\n",
       "    </tr>\n",
       "    <tr>\n",
       "      <th>2</th>\n",
       "      <td>k1</td>\n",
       "      <td>K0</td>\n",
       "      <td>A2</td>\n",
       "      <td>B2</td>\n",
       "    </tr>\n",
       "    <tr>\n",
       "      <th>3</th>\n",
       "      <td>K2</td>\n",
       "      <td>K1</td>\n",
       "      <td>A3</td>\n",
       "      <td>B3</td>\n",
       "    </tr>\n",
       "  </tbody>\n",
       "</table>\n",
       "</div>"
      ],
      "text/plain": [
       "  key1 key2   A   B\n",
       "0   K0   K0  A0  BO\n",
       "1   K0   K1  A1  B1\n",
       "2   k1   K0  A2  B2\n",
       "3   K2   K1  A3  B3"
      ]
     },
     "execution_count": 332,
     "metadata": {},
     "output_type": "execute_result"
    }
   ],
   "source": [
    "left"
   ]
  },
  {
   "cell_type": "code",
   "execution_count": 336,
   "id": "4d0effe0",
   "metadata": {},
   "outputs": [
    {
     "data": {
      "text/html": [
       "<div>\n",
       "<style scoped>\n",
       "    .dataframe tbody tr th:only-of-type {\n",
       "        vertical-align: middle;\n",
       "    }\n",
       "\n",
       "    .dataframe tbody tr th {\n",
       "        vertical-align: top;\n",
       "    }\n",
       "\n",
       "    .dataframe thead th {\n",
       "        text-align: right;\n",
       "    }\n",
       "</style>\n",
       "<table border=\"1\" class=\"dataframe\">\n",
       "  <thead>\n",
       "    <tr style=\"text-align: right;\">\n",
       "      <th></th>\n",
       "      <th>Key1</th>\n",
       "      <th>key2</th>\n",
       "      <th>C</th>\n",
       "      <th>D</th>\n",
       "    </tr>\n",
       "  </thead>\n",
       "  <tbody>\n",
       "    <tr>\n",
       "      <th>0</th>\n",
       "      <td>K0</td>\n",
       "      <td>KO</td>\n",
       "      <td>C0</td>\n",
       "      <td>D0</td>\n",
       "    </tr>\n",
       "    <tr>\n",
       "      <th>1</th>\n",
       "      <td>K1</td>\n",
       "      <td>K0</td>\n",
       "      <td>C1</td>\n",
       "      <td>D1</td>\n",
       "    </tr>\n",
       "    <tr>\n",
       "      <th>2</th>\n",
       "      <td>K1</td>\n",
       "      <td>KO</td>\n",
       "      <td>C2</td>\n",
       "      <td>D2</td>\n",
       "    </tr>\n",
       "    <tr>\n",
       "      <th>3</th>\n",
       "      <td>K2</td>\n",
       "      <td>KO</td>\n",
       "      <td>C3</td>\n",
       "      <td>D3</td>\n",
       "    </tr>\n",
       "  </tbody>\n",
       "</table>\n",
       "</div>"
      ],
      "text/plain": [
       "  Key1 key2   C   D\n",
       "0   K0   KO  C0  D0\n",
       "1   K1   K0  C1  D1\n",
       "2   K1   KO  C2  D2\n",
       "3   K2   KO  C3  D3"
      ]
     },
     "execution_count": 336,
     "metadata": {},
     "output_type": "execute_result"
    }
   ],
   "source": [
    "right"
   ]
  },
  {
   "cell_type": "code",
   "execution_count": 341,
   "id": "72e92173",
   "metadata": {},
   "outputs": [],
   "source": [
    "#join operation:-\n",
    "left1 = pd.DataFrame({'A': ['A0', 'A1', 'A2'],\n",
    "                     'B': ['B0', 'B1', 'B2']},\n",
    "                      index=['K0', 'K1', 'K2']) \n",
    "\n",
    "right1 = pd.DataFrame({'C': ['C0', 'C2', 'C3'],\n",
    "                    'D': ['D0', 'D2', 'D3']},\n",
    "                      index=['K0', 'K2', 'K3'])"
   ]
  },
  {
   "cell_type": "code",
   "execution_count": 342,
   "id": "d37ecab1",
   "metadata": {},
   "outputs": [
    {
     "data": {
      "text/html": [
       "<div>\n",
       "<style scoped>\n",
       "    .dataframe tbody tr th:only-of-type {\n",
       "        vertical-align: middle;\n",
       "    }\n",
       "\n",
       "    .dataframe tbody tr th {\n",
       "        vertical-align: top;\n",
       "    }\n",
       "\n",
       "    .dataframe thead th {\n",
       "        text-align: right;\n",
       "    }\n",
       "</style>\n",
       "<table border=\"1\" class=\"dataframe\">\n",
       "  <thead>\n",
       "    <tr style=\"text-align: right;\">\n",
       "      <th></th>\n",
       "      <th>A</th>\n",
       "      <th>B</th>\n",
       "    </tr>\n",
       "  </thead>\n",
       "  <tbody>\n",
       "    <tr>\n",
       "      <th>K0</th>\n",
       "      <td>A0</td>\n",
       "      <td>B0</td>\n",
       "    </tr>\n",
       "    <tr>\n",
       "      <th>K1</th>\n",
       "      <td>A1</td>\n",
       "      <td>B1</td>\n",
       "    </tr>\n",
       "    <tr>\n",
       "      <th>K2</th>\n",
       "      <td>A2</td>\n",
       "      <td>B2</td>\n",
       "    </tr>\n",
       "  </tbody>\n",
       "</table>\n",
       "</div>"
      ],
      "text/plain": [
       "     A   B\n",
       "K0  A0  B0\n",
       "K1  A1  B1\n",
       "K2  A2  B2"
      ]
     },
     "execution_count": 342,
     "metadata": {},
     "output_type": "execute_result"
    }
   ],
   "source": [
    "left1"
   ]
  },
  {
   "cell_type": "code",
   "execution_count": 343,
   "id": "6477f21b",
   "metadata": {},
   "outputs": [
    {
     "data": {
      "text/html": [
       "<div>\n",
       "<style scoped>\n",
       "    .dataframe tbody tr th:only-of-type {\n",
       "        vertical-align: middle;\n",
       "    }\n",
       "\n",
       "    .dataframe tbody tr th {\n",
       "        vertical-align: top;\n",
       "    }\n",
       "\n",
       "    .dataframe thead th {\n",
       "        text-align: right;\n",
       "    }\n",
       "</style>\n",
       "<table border=\"1\" class=\"dataframe\">\n",
       "  <thead>\n",
       "    <tr style=\"text-align: right;\">\n",
       "      <th></th>\n",
       "      <th>C</th>\n",
       "      <th>D</th>\n",
       "    </tr>\n",
       "  </thead>\n",
       "  <tbody>\n",
       "    <tr>\n",
       "      <th>K0</th>\n",
       "      <td>C0</td>\n",
       "      <td>D0</td>\n",
       "    </tr>\n",
       "    <tr>\n",
       "      <th>K2</th>\n",
       "      <td>C2</td>\n",
       "      <td>D2</td>\n",
       "    </tr>\n",
       "    <tr>\n",
       "      <th>K3</th>\n",
       "      <td>C3</td>\n",
       "      <td>D3</td>\n",
       "    </tr>\n",
       "  </tbody>\n",
       "</table>\n",
       "</div>"
      ],
      "text/plain": [
       "     C   D\n",
       "K0  C0  D0\n",
       "K2  C2  D2\n",
       "K3  C3  D3"
      ]
     },
     "execution_count": 343,
     "metadata": {},
     "output_type": "execute_result"
    }
   ],
   "source": [
    "right1"
   ]
  },
  {
   "cell_type": "code",
   "execution_count": 345,
   "id": "e6596d5e",
   "metadata": {},
   "outputs": [
    {
     "data": {
      "text/html": [
       "<div>\n",
       "<style scoped>\n",
       "    .dataframe tbody tr th:only-of-type {\n",
       "        vertical-align: middle;\n",
       "    }\n",
       "\n",
       "    .dataframe tbody tr th {\n",
       "        vertical-align: top;\n",
       "    }\n",
       "\n",
       "    .dataframe thead th {\n",
       "        text-align: right;\n",
       "    }\n",
       "</style>\n",
       "<table border=\"1\" class=\"dataframe\">\n",
       "  <thead>\n",
       "    <tr style=\"text-align: right;\">\n",
       "      <th></th>\n",
       "      <th>A</th>\n",
       "      <th>B</th>\n",
       "      <th>C</th>\n",
       "      <th>D</th>\n",
       "    </tr>\n",
       "  </thead>\n",
       "  <tbody>\n",
       "    <tr>\n",
       "      <th>K0</th>\n",
       "      <td>A0</td>\n",
       "      <td>B0</td>\n",
       "      <td>C0</td>\n",
       "      <td>D0</td>\n",
       "    </tr>\n",
       "    <tr>\n",
       "      <th>K1</th>\n",
       "      <td>A1</td>\n",
       "      <td>B1</td>\n",
       "      <td>NaN</td>\n",
       "      <td>NaN</td>\n",
       "    </tr>\n",
       "    <tr>\n",
       "      <th>K2</th>\n",
       "      <td>A2</td>\n",
       "      <td>B2</td>\n",
       "      <td>C2</td>\n",
       "      <td>D2</td>\n",
       "    </tr>\n",
       "  </tbody>\n",
       "</table>\n",
       "</div>"
      ],
      "text/plain": [
       "     A   B    C    D\n",
       "K0  A0  B0   C0   D0\n",
       "K1  A1  B1  NaN  NaN\n",
       "K2  A2  B2   C2   D2"
      ]
     },
     "execution_count": 345,
     "metadata": {},
     "output_type": "execute_result"
    }
   ],
   "source": [
    "left1.join(right1)"
   ]
  },
  {
   "cell_type": "code",
   "execution_count": 349,
   "id": "2f474ff7",
   "metadata": {},
   "outputs": [
    {
     "data": {
      "text/html": [
       "<div>\n",
       "<style scoped>\n",
       "    .dataframe tbody tr th:only-of-type {\n",
       "        vertical-align: middle;\n",
       "    }\n",
       "\n",
       "    .dataframe tbody tr th {\n",
       "        vertical-align: top;\n",
       "    }\n",
       "\n",
       "    .dataframe thead th {\n",
       "        text-align: right;\n",
       "    }\n",
       "</style>\n",
       "<table border=\"1\" class=\"dataframe\">\n",
       "  <thead>\n",
       "    <tr style=\"text-align: right;\">\n",
       "      <th></th>\n",
       "      <th>A</th>\n",
       "      <th>B</th>\n",
       "      <th>C</th>\n",
       "      <th>D</th>\n",
       "    </tr>\n",
       "  </thead>\n",
       "  <tbody>\n",
       "    <tr>\n",
       "      <th>K0</th>\n",
       "      <td>A0</td>\n",
       "      <td>B0</td>\n",
       "      <td>C0</td>\n",
       "      <td>D0</td>\n",
       "    </tr>\n",
       "    <tr>\n",
       "      <th>K1</th>\n",
       "      <td>A1</td>\n",
       "      <td>B1</td>\n",
       "      <td>NaN</td>\n",
       "      <td>NaN</td>\n",
       "    </tr>\n",
       "    <tr>\n",
       "      <th>K2</th>\n",
       "      <td>A2</td>\n",
       "      <td>B2</td>\n",
       "      <td>C2</td>\n",
       "      <td>D2</td>\n",
       "    </tr>\n",
       "    <tr>\n",
       "      <th>K3</th>\n",
       "      <td>NaN</td>\n",
       "      <td>NaN</td>\n",
       "      <td>C3</td>\n",
       "      <td>D3</td>\n",
       "    </tr>\n",
       "  </tbody>\n",
       "</table>\n",
       "</div>"
      ],
      "text/plain": [
       "      A    B    C    D\n",
       "K0   A0   B0   C0   D0\n",
       "K1   A1   B1  NaN  NaN\n",
       "K2   A2   B2   C2   D2\n",
       "K3  NaN  NaN   C3   D3"
      ]
     },
     "execution_count": 349,
     "metadata": {},
     "output_type": "execute_result"
    }
   ],
   "source": [
    "left1.join(right1,how='outer')"
   ]
  },
  {
   "cell_type": "code",
   "execution_count": 354,
   "id": "718fece1",
   "metadata": {},
   "outputs": [],
   "source": [
    "p1=pd.DataFrame({'key1':['K0','K1','K2','K3'],\n",
    "                 'A':['A0','A1','A2','A3'],\n",
    "                 'B':['B0','B1','B2','B3']})\n",
    "p2=pd.DataFrame({'Key2':['KO','K1','K2','K3'],\n",
    "                  'C':['C0','C1','C2','C3'],\n",
    "                  'D':['D0','D1','D2','D3']})\n",
    "p3=pd.DataFrame({'key3':['KO','K1','K2','K3'],\n",
    "                  'A':['A0','A1','A2','A3'],\n",
    "                  'B':['B0','B1','B2','B3']})                    "
   ]
  },
  {
   "cell_type": "code",
   "execution_count": 356,
   "id": "531e9854",
   "metadata": {},
   "outputs": [
    {
     "name": "stdout",
     "output_type": "stream",
     "text": [
      "     A    B    C    D Key2 key1 key3\n",
      "0   A0   B0  NaN  NaN  NaN   K0  NaN\n",
      "1   A1   B1  NaN  NaN  NaN   K1  NaN\n",
      "2   A2   B2  NaN  NaN  NaN   K2  NaN\n",
      "3   A3   B3  NaN  NaN  NaN   K3  NaN\n",
      "0  NaN  NaN   C0   D0   KO  NaN  NaN\n",
      "1  NaN  NaN   C1   D1   K1  NaN  NaN\n",
      "2  NaN  NaN   C2   D2   K2  NaN  NaN\n",
      "3  NaN  NaN   C3   D3   K3  NaN  NaN\n",
      "0   A0   B0  NaN  NaN  NaN  NaN   KO\n",
      "1   A1   B1  NaN  NaN  NaN  NaN   K1\n",
      "2   A2   B2  NaN  NaN  NaN  NaN   K2\n",
      "3   A3   B3  NaN  NaN  NaN  NaN   K3\n"
     ]
    },
    {
     "name": "stderr",
     "output_type": "stream",
     "text": [
      "<ipython-input-356-1828979c38d7>:2: FutureWarning: Sorting because non-concatenation axis is not aligned. A future version\n",
      "of pandas will change to not sort by default.\n",
      "\n",
      "To accept the future behavior, pass 'sort=False'.\n",
      "\n",
      "To retain the current behavior and silence the warning, pass 'sort=True'.\n",
      "\n",
      "  df_cat3=pd.concat([p1,p2,p3])\n"
     ]
    }
   ],
   "source": [
    "df_cat3=pd.concat([p1,p2,p3],axis=1) \n",
    "df_cat3=pd.concat([p1,p2,p3]) \n",
    "print(df_cat3)"
   ]
  },
  {
   "cell_type": "code",
   "execution_count": 369,
   "id": "bb0388e8",
   "metadata": {},
   "outputs": [],
   "source": [
    "#use of apply functions:\n",
    "import numpy as np\n",
    "def testfunc(x):\n",
    "    if (x>500):\n",
    "        return(10*np.log10(x))\n",
    "    else:\n",
    "        return(x/10)"
   ]
  },
  {
   "cell_type": "code",
   "execution_count": 370,
   "id": "973ae485",
   "metadata": {},
   "outputs": [
    {
     "data": {
      "text/plain": [
       "Index(['col1', 'col2', 'col3'], dtype='object')"
      ]
     },
     "execution_count": 370,
     "metadata": {},
     "output_type": "execute_result"
    }
   ],
   "source": [
    "rf=pd.DataFrame({'col1':[1,2,3,4,5,6,7,8,9,10],\n",
    "                 'col2':[444,555,666,444,333,222,666,777,666,555],\n",
    "                 'col3':'aaa bb c dd eeee fff gg h i j'.split()})\n",
    "rf.columns              "
   ]
  },
  {
   "cell_type": "code",
   "execution_count": 371,
   "id": "a601fd15",
   "metadata": {},
   "outputs": [
    {
     "data": {
      "text/html": [
       "<div>\n",
       "<style scoped>\n",
       "    .dataframe tbody tr th:only-of-type {\n",
       "        vertical-align: middle;\n",
       "    }\n",
       "\n",
       "    .dataframe tbody tr th {\n",
       "        vertical-align: top;\n",
       "    }\n",
       "\n",
       "    .dataframe thead th {\n",
       "        text-align: right;\n",
       "    }\n",
       "</style>\n",
       "<table border=\"1\" class=\"dataframe\">\n",
       "  <thead>\n",
       "    <tr style=\"text-align: right;\">\n",
       "      <th></th>\n",
       "      <th>col1</th>\n",
       "      <th>col2</th>\n",
       "      <th>col3</th>\n",
       "      <th>col20</th>\n",
       "    </tr>\n",
       "  </thead>\n",
       "  <tbody>\n",
       "    <tr>\n",
       "      <th>0</th>\n",
       "      <td>1</td>\n",
       "      <td>444</td>\n",
       "      <td>aaa</td>\n",
       "      <td>44.400000</td>\n",
       "    </tr>\n",
       "    <tr>\n",
       "      <th>1</th>\n",
       "      <td>2</td>\n",
       "      <td>555</td>\n",
       "      <td>bb</td>\n",
       "      <td>27.442930</td>\n",
       "    </tr>\n",
       "    <tr>\n",
       "      <th>2</th>\n",
       "      <td>3</td>\n",
       "      <td>666</td>\n",
       "      <td>c</td>\n",
       "      <td>28.234742</td>\n",
       "    </tr>\n",
       "    <tr>\n",
       "      <th>3</th>\n",
       "      <td>4</td>\n",
       "      <td>444</td>\n",
       "      <td>dd</td>\n",
       "      <td>44.400000</td>\n",
       "    </tr>\n",
       "    <tr>\n",
       "      <th>4</th>\n",
       "      <td>5</td>\n",
       "      <td>333</td>\n",
       "      <td>eeee</td>\n",
       "      <td>33.300000</td>\n",
       "    </tr>\n",
       "    <tr>\n",
       "      <th>5</th>\n",
       "      <td>6</td>\n",
       "      <td>222</td>\n",
       "      <td>fff</td>\n",
       "      <td>22.200000</td>\n",
       "    </tr>\n",
       "    <tr>\n",
       "      <th>6</th>\n",
       "      <td>7</td>\n",
       "      <td>666</td>\n",
       "      <td>gg</td>\n",
       "      <td>28.234742</td>\n",
       "    </tr>\n",
       "    <tr>\n",
       "      <th>7</th>\n",
       "      <td>8</td>\n",
       "      <td>777</td>\n",
       "      <td>h</td>\n",
       "      <td>28.904210</td>\n",
       "    </tr>\n",
       "    <tr>\n",
       "      <th>8</th>\n",
       "      <td>9</td>\n",
       "      <td>666</td>\n",
       "      <td>i</td>\n",
       "      <td>28.234742</td>\n",
       "    </tr>\n",
       "    <tr>\n",
       "      <th>9</th>\n",
       "      <td>10</td>\n",
       "      <td>555</td>\n",
       "      <td>j</td>\n",
       "      <td>27.442930</td>\n",
       "    </tr>\n",
       "  </tbody>\n",
       "</table>\n",
       "</div>"
      ],
      "text/plain": [
       "   col1  col2  col3      col20\n",
       "0     1   444   aaa  44.400000\n",
       "1     2   555    bb  27.442930\n",
       "2     3   666     c  28.234742\n",
       "3     4   444    dd  44.400000\n",
       "4     5   333  eeee  33.300000\n",
       "5     6   222   fff  22.200000\n",
       "6     7   666    gg  28.234742\n",
       "7     8   777     h  28.904210\n",
       "8     9   666     i  28.234742\n",
       "9    10   555     j  27.442930"
      ]
     },
     "execution_count": 371,
     "metadata": {},
     "output_type": "execute_result"
    }
   ],
   "source": [
    "rf['col20']=rf['col2'].apply(testfunc)\n",
    "rf"
   ]
  },
  {
   "cell_type": "code",
   "execution_count": 373,
   "id": "6c2e264a",
   "metadata": {},
   "outputs": [
    {
     "data": {
      "text/html": [
       "<div>\n",
       "<style scoped>\n",
       "    .dataframe tbody tr th:only-of-type {\n",
       "        vertical-align: middle;\n",
       "    }\n",
       "\n",
       "    .dataframe tbody tr th {\n",
       "        vertical-align: top;\n",
       "    }\n",
       "\n",
       "    .dataframe thead th {\n",
       "        text-align: right;\n",
       "    }\n",
       "</style>\n",
       "<table border=\"1\" class=\"dataframe\">\n",
       "  <thead>\n",
       "    <tr style=\"text-align: right;\">\n",
       "      <th></th>\n",
       "      <th>col1</th>\n",
       "      <th>col2</th>\n",
       "      <th>col3</th>\n",
       "      <th>col20</th>\n",
       "      <th>Func_Applied</th>\n",
       "    </tr>\n",
       "  </thead>\n",
       "  <tbody>\n",
       "    <tr>\n",
       "      <th>0</th>\n",
       "      <td>1</td>\n",
       "      <td>444</td>\n",
       "      <td>aaa</td>\n",
       "      <td>44.400000</td>\n",
       "      <td>6.095825</td>\n",
       "    </tr>\n",
       "    <tr>\n",
       "      <th>1</th>\n",
       "      <td>2</td>\n",
       "      <td>555</td>\n",
       "      <td>bb</td>\n",
       "      <td>27.442930</td>\n",
       "      <td>6.318968</td>\n",
       "    </tr>\n",
       "    <tr>\n",
       "      <th>2</th>\n",
       "      <td>3</td>\n",
       "      <td>666</td>\n",
       "      <td>c</td>\n",
       "      <td>28.234742</td>\n",
       "      <td>6.501290</td>\n",
       "    </tr>\n",
       "    <tr>\n",
       "      <th>3</th>\n",
       "      <td>4</td>\n",
       "      <td>444</td>\n",
       "      <td>dd</td>\n",
       "      <td>44.400000</td>\n",
       "      <td>6.095825</td>\n",
       "    </tr>\n",
       "    <tr>\n",
       "      <th>4</th>\n",
       "      <td>5</td>\n",
       "      <td>333</td>\n",
       "      <td>eeee</td>\n",
       "      <td>33.300000</td>\n",
       "      <td>5.808142</td>\n",
       "    </tr>\n",
       "    <tr>\n",
       "      <th>5</th>\n",
       "      <td>6</td>\n",
       "      <td>222</td>\n",
       "      <td>fff</td>\n",
       "      <td>22.200000</td>\n",
       "      <td>5.402677</td>\n",
       "    </tr>\n",
       "    <tr>\n",
       "      <th>6</th>\n",
       "      <td>7</td>\n",
       "      <td>666</td>\n",
       "      <td>gg</td>\n",
       "      <td>28.234742</td>\n",
       "      <td>6.501290</td>\n",
       "    </tr>\n",
       "    <tr>\n",
       "      <th>7</th>\n",
       "      <td>8</td>\n",
       "      <td>777</td>\n",
       "      <td>h</td>\n",
       "      <td>28.904210</td>\n",
       "      <td>6.655440</td>\n",
       "    </tr>\n",
       "    <tr>\n",
       "      <th>8</th>\n",
       "      <td>9</td>\n",
       "      <td>666</td>\n",
       "      <td>i</td>\n",
       "      <td>28.234742</td>\n",
       "      <td>6.501290</td>\n",
       "    </tr>\n",
       "    <tr>\n",
       "      <th>9</th>\n",
       "      <td>10</td>\n",
       "      <td>555</td>\n",
       "      <td>j</td>\n",
       "      <td>27.442930</td>\n",
       "      <td>6.318968</td>\n",
       "    </tr>\n",
       "  </tbody>\n",
       "</table>\n",
       "</div>"
      ],
      "text/plain": [
       "   col1  col2  col3      col20  Func_Applied\n",
       "0     1   444   aaa  44.400000      6.095825\n",
       "1     2   555    bb  27.442930      6.318968\n",
       "2     3   666     c  28.234742      6.501290\n",
       "3     4   444    dd  44.400000      6.095825\n",
       "4     5   333  eeee  33.300000      5.808142\n",
       "5     6   222   fff  22.200000      5.402677\n",
       "6     7   666    gg  28.234742      6.501290\n",
       "7     8   777     h  28.904210      6.655440\n",
       "8     9   666     i  28.234742      6.501290\n",
       "9    10   555     j  27.442930      6.318968"
      ]
     },
     "execution_count": 373,
     "metadata": {},
     "output_type": "execute_result"
    }
   ],
   "source": [
    "rf['Func_Applied']=rf['col2'].apply(lambda x:np.log(x))\n",
    "rf"
   ]
  },
  {
   "cell_type": "code",
   "execution_count": 374,
   "id": "c01b18dd",
   "metadata": {},
   "outputs": [
    {
     "name": "stdout",
     "output_type": "stream",
     "text": [
      "   col1  col2  col3      col20  Func_Applied  col3length\n",
      "0     1   444   aaa  44.400000      6.095825           3\n",
      "1     2   555    bb  27.442930      6.318968           2\n",
      "2     3   666     c  28.234742      6.501290           1\n",
      "3     4   444    dd  44.400000      6.095825           2\n",
      "4     5   333  eeee  33.300000      5.808142           4\n",
      "5     6   222   fff  22.200000      5.402677           3\n",
      "6     7   666    gg  28.234742      6.501290           2\n",
      "7     8   777     h  28.904210      6.655440           1\n",
      "8     9   666     i  28.234742      6.501290           1\n",
      "9    10   555     j  27.442930      6.318968           1\n"
     ]
    }
   ],
   "source": [
    "rf['col3length']=rf['col3'].apply(len)\n",
    "print(rf)"
   ]
  },
  {
   "cell_type": "code",
   "execution_count": 376,
   "id": "a6620c1c",
   "metadata": {},
   "outputs": [
    {
     "data": {
      "text/html": [
       "<div>\n",
       "<style scoped>\n",
       "    .dataframe tbody tr th:only-of-type {\n",
       "        vertical-align: middle;\n",
       "    }\n",
       "\n",
       "    .dataframe tbody tr th {\n",
       "        vertical-align: top;\n",
       "    }\n",
       "\n",
       "    .dataframe thead th {\n",
       "        text-align: right;\n",
       "    }\n",
       "</style>\n",
       "<table border=\"1\" class=\"dataframe\">\n",
       "  <thead>\n",
       "    <tr style=\"text-align: right;\">\n",
       "      <th></th>\n",
       "      <th>col1</th>\n",
       "      <th>col2</th>\n",
       "      <th>col3</th>\n",
       "      <th>col20</th>\n",
       "      <th>Func_Applied</th>\n",
       "      <th>col3length</th>\n",
       "      <th>test</th>\n",
       "    </tr>\n",
       "  </thead>\n",
       "  <tbody>\n",
       "    <tr>\n",
       "      <th>0</th>\n",
       "      <td>1</td>\n",
       "      <td>444</td>\n",
       "      <td>aaa</td>\n",
       "      <td>44.400000</td>\n",
       "      <td>6.095825</td>\n",
       "      <td>3</td>\n",
       "      <td>21.071308</td>\n",
       "    </tr>\n",
       "    <tr>\n",
       "      <th>1</th>\n",
       "      <td>2</td>\n",
       "      <td>555</td>\n",
       "      <td>bb</td>\n",
       "      <td>27.442930</td>\n",
       "      <td>6.318968</td>\n",
       "      <td>2</td>\n",
       "      <td>23.558438</td>\n",
       "    </tr>\n",
       "    <tr>\n",
       "      <th>2</th>\n",
       "      <td>3</td>\n",
       "      <td>666</td>\n",
       "      <td>c</td>\n",
       "      <td>28.234742</td>\n",
       "      <td>6.501290</td>\n",
       "      <td>1</td>\n",
       "      <td>25.806976</td>\n",
       "    </tr>\n",
       "    <tr>\n",
       "      <th>3</th>\n",
       "      <td>4</td>\n",
       "      <td>444</td>\n",
       "      <td>dd</td>\n",
       "      <td>44.400000</td>\n",
       "      <td>6.095825</td>\n",
       "      <td>2</td>\n",
       "      <td>21.071308</td>\n",
       "    </tr>\n",
       "    <tr>\n",
       "      <th>4</th>\n",
       "      <td>5</td>\n",
       "      <td>333</td>\n",
       "      <td>eeee</td>\n",
       "      <td>33.300000</td>\n",
       "      <td>5.808142</td>\n",
       "      <td>4</td>\n",
       "      <td>18.248288</td>\n",
       "    </tr>\n",
       "    <tr>\n",
       "      <th>5</th>\n",
       "      <td>6</td>\n",
       "      <td>222</td>\n",
       "      <td>fff</td>\n",
       "      <td>22.200000</td>\n",
       "      <td>5.402677</td>\n",
       "      <td>3</td>\n",
       "      <td>14.899664</td>\n",
       "    </tr>\n",
       "    <tr>\n",
       "      <th>6</th>\n",
       "      <td>7</td>\n",
       "      <td>666</td>\n",
       "      <td>gg</td>\n",
       "      <td>28.234742</td>\n",
       "      <td>6.501290</td>\n",
       "      <td>2</td>\n",
       "      <td>25.806976</td>\n",
       "    </tr>\n",
       "    <tr>\n",
       "      <th>7</th>\n",
       "      <td>8</td>\n",
       "      <td>777</td>\n",
       "      <td>h</td>\n",
       "      <td>28.904210</td>\n",
       "      <td>6.655440</td>\n",
       "      <td>1</td>\n",
       "      <td>27.874720</td>\n",
       "    </tr>\n",
       "    <tr>\n",
       "      <th>8</th>\n",
       "      <td>9</td>\n",
       "      <td>666</td>\n",
       "      <td>i</td>\n",
       "      <td>28.234742</td>\n",
       "      <td>6.501290</td>\n",
       "      <td>1</td>\n",
       "      <td>25.806976</td>\n",
       "    </tr>\n",
       "    <tr>\n",
       "      <th>9</th>\n",
       "      <td>10</td>\n",
       "      <td>555</td>\n",
       "      <td>j</td>\n",
       "      <td>27.442930</td>\n",
       "      <td>6.318968</td>\n",
       "      <td>1</td>\n",
       "      <td>23.558438</td>\n",
       "    </tr>\n",
       "  </tbody>\n",
       "</table>\n",
       "</div>"
      ],
      "text/plain": [
       "   col1  col2  col3      col20  Func_Applied  col3length       test\n",
       "0     1   444   aaa  44.400000      6.095825           3  21.071308\n",
       "1     2   555    bb  27.442930      6.318968           2  23.558438\n",
       "2     3   666     c  28.234742      6.501290           1  25.806976\n",
       "3     4   444    dd  44.400000      6.095825           2  21.071308\n",
       "4     5   333  eeee  33.300000      5.808142           4  18.248288\n",
       "5     6   222   fff  22.200000      5.402677           3  14.899664\n",
       "6     7   666    gg  28.234742      6.501290           2  25.806976\n",
       "7     8   777     h  28.904210      6.655440           1  27.874720\n",
       "8     9   666     i  28.234742      6.501290           1  25.806976\n",
       "9    10   555     j  27.442930      6.318968           1  23.558438"
      ]
     },
     "execution_count": 376,
     "metadata": {},
     "output_type": "execute_result"
    }
   ],
   "source": [
    "rf['test']=rf['col2'].apply(lambda x:np.sqrt(x))\n",
    "rf"
   ]
  },
  {
   "cell_type": "code",
   "execution_count": 377,
   "id": "d6b9b51d",
   "metadata": {},
   "outputs": [
    {
     "name": "stdout",
     "output_type": "stream",
     "text": [
      "\n",
      " sum of the column 'func applied is: 62.19971458619886\n"
     ]
    }
   ],
   "source": [
    "print(\"\\n sum of the column 'func applied is:\",rf['Func_Applied'].sum())"
   ]
  },
  {
   "cell_type": "code",
   "execution_count": 381,
   "id": "7c3375db",
   "metadata": {},
   "outputs": [
    {
     "name": "stdout",
     "output_type": "stream",
     "text": [
      "\n",
      " Mean of the column 'func applied is: 6.219971458619886\n"
     ]
    }
   ],
   "source": [
    "print(\"\\n Mean of the column 'func applied is:\",rf['Func_Applied'].mean())"
   ]
  },
  {
   "cell_type": "code",
   "execution_count": 382,
   "id": "68f5a900",
   "metadata": {},
   "outputs": [
    {
     "name": "stdout",
     "output_type": "stream",
     "text": [
      "\n",
      " std of the column'Func_Applied is 0.3822522801574853\n"
     ]
    }
   ],
   "source": [
    "print(\"\\n std of the column'Func_Applied is\",rf['Func_Applied'].std())"
   ]
  },
  {
   "cell_type": "code",
   "execution_count": 384,
   "id": "a5a2c7e6",
   "metadata": {},
   "outputs": [
    {
     "name": "stdout",
     "output_type": "stream",
     "text": [
      "\n",
      " MIN and MAX of the Column 'Func_Applied'are: 5.402677381872279 and 6.655440350367647\n"
     ]
    }
   ],
   "source": [
    "print(\"\\n MIN and MAX of the Column 'Func_Applied'are:\",rf['Func_Applied'].min(),\"and\",rf['Func_Applied'].max())"
   ]
  },
  {
   "cell_type": "code",
   "execution_count": 386,
   "id": "948e850d",
   "metadata": {},
   "outputs": [
    {
     "name": "stdout",
     "output_type": "stream",
     "text": [
      "\n",
      " Name of columns \n",
      "--------------------\n",
      "Index(['col1', 'col2', 'col3', 'col20', 'Func_Applied', 'col3length', 'test'], dtype='object')\n"
     ]
    }
   ],
   "source": [
    "### Deletion, sorting, list of column and row names\n",
    "print(\"\\n Name of columns \\n\",'-'*20,sep='')\n",
    "print(rf.columns)"
   ]
  },
  {
   "cell_type": "code",
   "execution_count": 389,
   "id": "3d24a37d",
   "metadata": {},
   "outputs": [
    {
     "name": "stdout",
     "output_type": "stream",
     "text": [
      "\n",
      " Columns names in alist of strings for manipualtion: ['col1', 'col2', 'col3', 'col20', 'Func_Applied', 'col3length', 'test']\n"
     ]
    }
   ],
   "source": [
    "l=list(rf.columns)\n",
    "print(\"\\n Columns names in alist of strings for manipualtion:\",l)"
   ]
  },
  {
   "cell_type": "code",
   "execution_count": 390,
   "id": "c3009ec2",
   "metadata": {},
   "outputs": [
    {
     "data": {
      "text/html": [
       "<div>\n",
       "<style scoped>\n",
       "    .dataframe tbody tr th:only-of-type {\n",
       "        vertical-align: middle;\n",
       "    }\n",
       "\n",
       "    .dataframe tbody tr th {\n",
       "        vertical-align: top;\n",
       "    }\n",
       "\n",
       "    .dataframe thead th {\n",
       "        text-align: right;\n",
       "    }\n",
       "</style>\n",
       "<table border=\"1\" class=\"dataframe\">\n",
       "  <thead>\n",
       "    <tr style=\"text-align: right;\">\n",
       "      <th></th>\n",
       "      <th>col1</th>\n",
       "      <th>col2</th>\n",
       "      <th>col3</th>\n",
       "      <th>col20</th>\n",
       "      <th>Func_Applied</th>\n",
       "      <th>col3length</th>\n",
       "      <th>test</th>\n",
       "    </tr>\n",
       "  </thead>\n",
       "  <tbody>\n",
       "    <tr>\n",
       "      <th>5</th>\n",
       "      <td>6</td>\n",
       "      <td>222</td>\n",
       "      <td>fff</td>\n",
       "      <td>22.200000</td>\n",
       "      <td>5.402677</td>\n",
       "      <td>3</td>\n",
       "      <td>14.899664</td>\n",
       "    </tr>\n",
       "    <tr>\n",
       "      <th>4</th>\n",
       "      <td>5</td>\n",
       "      <td>333</td>\n",
       "      <td>eeee</td>\n",
       "      <td>33.300000</td>\n",
       "      <td>5.808142</td>\n",
       "      <td>4</td>\n",
       "      <td>18.248288</td>\n",
       "    </tr>\n",
       "    <tr>\n",
       "      <th>0</th>\n",
       "      <td>1</td>\n",
       "      <td>444</td>\n",
       "      <td>aaa</td>\n",
       "      <td>44.400000</td>\n",
       "      <td>6.095825</td>\n",
       "      <td>3</td>\n",
       "      <td>21.071308</td>\n",
       "    </tr>\n",
       "    <tr>\n",
       "      <th>3</th>\n",
       "      <td>4</td>\n",
       "      <td>444</td>\n",
       "      <td>dd</td>\n",
       "      <td>44.400000</td>\n",
       "      <td>6.095825</td>\n",
       "      <td>2</td>\n",
       "      <td>21.071308</td>\n",
       "    </tr>\n",
       "    <tr>\n",
       "      <th>1</th>\n",
       "      <td>2</td>\n",
       "      <td>555</td>\n",
       "      <td>bb</td>\n",
       "      <td>27.442930</td>\n",
       "      <td>6.318968</td>\n",
       "      <td>2</td>\n",
       "      <td>23.558438</td>\n",
       "    </tr>\n",
       "    <tr>\n",
       "      <th>9</th>\n",
       "      <td>10</td>\n",
       "      <td>555</td>\n",
       "      <td>j</td>\n",
       "      <td>27.442930</td>\n",
       "      <td>6.318968</td>\n",
       "      <td>1</td>\n",
       "      <td>23.558438</td>\n",
       "    </tr>\n",
       "    <tr>\n",
       "      <th>2</th>\n",
       "      <td>3</td>\n",
       "      <td>666</td>\n",
       "      <td>c</td>\n",
       "      <td>28.234742</td>\n",
       "      <td>6.501290</td>\n",
       "      <td>1</td>\n",
       "      <td>25.806976</td>\n",
       "    </tr>\n",
       "    <tr>\n",
       "      <th>6</th>\n",
       "      <td>7</td>\n",
       "      <td>666</td>\n",
       "      <td>gg</td>\n",
       "      <td>28.234742</td>\n",
       "      <td>6.501290</td>\n",
       "      <td>2</td>\n",
       "      <td>25.806976</td>\n",
       "    </tr>\n",
       "    <tr>\n",
       "      <th>8</th>\n",
       "      <td>9</td>\n",
       "      <td>666</td>\n",
       "      <td>i</td>\n",
       "      <td>28.234742</td>\n",
       "      <td>6.501290</td>\n",
       "      <td>1</td>\n",
       "      <td>25.806976</td>\n",
       "    </tr>\n",
       "    <tr>\n",
       "      <th>7</th>\n",
       "      <td>8</td>\n",
       "      <td>777</td>\n",
       "      <td>h</td>\n",
       "      <td>28.904210</td>\n",
       "      <td>6.655440</td>\n",
       "      <td>1</td>\n",
       "      <td>27.874720</td>\n",
       "    </tr>\n",
       "  </tbody>\n",
       "</table>\n",
       "</div>"
      ],
      "text/plain": [
       "   col1  col2  col3      col20  Func_Applied  col3length       test\n",
       "5     6   222   fff  22.200000      5.402677           3  14.899664\n",
       "4     5   333  eeee  33.300000      5.808142           4  18.248288\n",
       "0     1   444   aaa  44.400000      6.095825           3  21.071308\n",
       "3     4   444    dd  44.400000      6.095825           2  21.071308\n",
       "1     2   555    bb  27.442930      6.318968           2  23.558438\n",
       "9    10   555     j  27.442930      6.318968           1  23.558438\n",
       "2     3   666     c  28.234742      6.501290           1  25.806976\n",
       "6     7   666    gg  28.234742      6.501290           2  25.806976\n",
       "8     9   666     i  28.234742      6.501290           1  25.806976\n",
       "7     8   777     h  28.904210      6.655440           1  27.874720"
      ]
     },
     "execution_count": 390,
     "metadata": {},
     "output_type": "execute_result"
    }
   ],
   "source": [
    "#inplace false by default\n",
    "rf.sort_values(by='col2')"
   ]
  },
  {
   "cell_type": "code",
   "execution_count": 393,
   "id": "a0750e5f",
   "metadata": {},
   "outputs": [
    {
     "data": {
      "text/html": [
       "<div>\n",
       "<style scoped>\n",
       "    .dataframe tbody tr th:only-of-type {\n",
       "        vertical-align: middle;\n",
       "    }\n",
       "\n",
       "    .dataframe tbody tr th {\n",
       "        vertical-align: top;\n",
       "    }\n",
       "\n",
       "    .dataframe thead th {\n",
       "        text-align: right;\n",
       "    }\n",
       "</style>\n",
       "<table border=\"1\" class=\"dataframe\">\n",
       "  <thead>\n",
       "    <tr style=\"text-align: right;\">\n",
       "      <th></th>\n",
       "      <th>col1</th>\n",
       "      <th>col2</th>\n",
       "      <th>col3</th>\n",
       "      <th>col20</th>\n",
       "      <th>Func_Applied</th>\n",
       "    </tr>\n",
       "  </thead>\n",
       "  <tbody>\n",
       "    <tr>\n",
       "      <th>0</th>\n",
       "      <td>1</td>\n",
       "      <td>444</td>\n",
       "      <td>aaa</td>\n",
       "      <td>44.400000</td>\n",
       "      <td>6.095825</td>\n",
       "    </tr>\n",
       "    <tr>\n",
       "      <th>1</th>\n",
       "      <td>2</td>\n",
       "      <td>555</td>\n",
       "      <td>bb</td>\n",
       "      <td>27.442930</td>\n",
       "      <td>6.318968</td>\n",
       "    </tr>\n",
       "    <tr>\n",
       "      <th>2</th>\n",
       "      <td>3</td>\n",
       "      <td>666</td>\n",
       "      <td>c</td>\n",
       "      <td>28.234742</td>\n",
       "      <td>6.501290</td>\n",
       "    </tr>\n",
       "    <tr>\n",
       "      <th>3</th>\n",
       "      <td>4</td>\n",
       "      <td>444</td>\n",
       "      <td>dd</td>\n",
       "      <td>44.400000</td>\n",
       "      <td>6.095825</td>\n",
       "    </tr>\n",
       "    <tr>\n",
       "      <th>4</th>\n",
       "      <td>5</td>\n",
       "      <td>333</td>\n",
       "      <td>eeee</td>\n",
       "      <td>33.300000</td>\n",
       "      <td>5.808142</td>\n",
       "    </tr>\n",
       "    <tr>\n",
       "      <th>5</th>\n",
       "      <td>6</td>\n",
       "      <td>222</td>\n",
       "      <td>fff</td>\n",
       "      <td>22.200000</td>\n",
       "      <td>5.402677</td>\n",
       "    </tr>\n",
       "    <tr>\n",
       "      <th>6</th>\n",
       "      <td>7</td>\n",
       "      <td>666</td>\n",
       "      <td>gg</td>\n",
       "      <td>28.234742</td>\n",
       "      <td>6.501290</td>\n",
       "    </tr>\n",
       "    <tr>\n",
       "      <th>7</th>\n",
       "      <td>8</td>\n",
       "      <td>777</td>\n",
       "      <td>h</td>\n",
       "      <td>28.904210</td>\n",
       "      <td>6.655440</td>\n",
       "    </tr>\n",
       "    <tr>\n",
       "      <th>8</th>\n",
       "      <td>9</td>\n",
       "      <td>666</td>\n",
       "      <td>i</td>\n",
       "      <td>28.234742</td>\n",
       "      <td>6.501290</td>\n",
       "    </tr>\n",
       "    <tr>\n",
       "      <th>9</th>\n",
       "      <td>10</td>\n",
       "      <td>555</td>\n",
       "      <td>j</td>\n",
       "      <td>27.442930</td>\n",
       "      <td>6.318968</td>\n",
       "    </tr>\n",
       "  </tbody>\n",
       "</table>\n",
       "</div>"
      ],
      "text/plain": [
       "   col1  col2  col3      col20  Func_Applied\n",
       "0     1   444   aaa  44.400000      6.095825\n",
       "1     2   555    bb  27.442930      6.318968\n",
       "2     3   666     c  28.234742      6.501290\n",
       "3     4   444    dd  44.400000      6.095825\n",
       "4     5   333  eeee  33.300000      5.808142\n",
       "5     6   222   fff  22.200000      5.402677\n",
       "6     7   666    gg  28.234742      6.501290\n",
       "7     8   777     h  28.904210      6.655440\n",
       "8     9   666     i  28.234742      6.501290\n",
       "9    10   555     j  27.442930      6.318968"
      ]
     },
     "execution_count": 393,
     "metadata": {},
     "output_type": "execute_result"
    }
   ],
   "source": [
    "del rf['test']\n",
    "rf"
   ]
  },
  {
   "cell_type": "code",
   "execution_count": 396,
   "id": "799f5efd",
   "metadata": {},
   "outputs": [
    {
     "data": {
      "text/html": [
       "<div>\n",
       "<style scoped>\n",
       "    .dataframe tbody tr th:only-of-type {\n",
       "        vertical-align: middle;\n",
       "    }\n",
       "\n",
       "    .dataframe tbody tr th {\n",
       "        vertical-align: top;\n",
       "    }\n",
       "\n",
       "    .dataframe thead th {\n",
       "        text-align: right;\n",
       "    }\n",
       "</style>\n",
       "<table border=\"1\" class=\"dataframe\">\n",
       "  <thead>\n",
       "    <tr style=\"text-align: right;\">\n",
       "      <th></th>\n",
       "      <th>col1</th>\n",
       "      <th>col2</th>\n",
       "      <th>col3</th>\n",
       "      <th>col20</th>\n",
       "      <th>Func_Applied</th>\n",
       "    </tr>\n",
       "  </thead>\n",
       "  <tbody>\n",
       "    <tr>\n",
       "      <th>7</th>\n",
       "      <td>8</td>\n",
       "      <td>777</td>\n",
       "      <td>h</td>\n",
       "      <td>28.904210</td>\n",
       "      <td>6.655440</td>\n",
       "    </tr>\n",
       "    <tr>\n",
       "      <th>2</th>\n",
       "      <td>3</td>\n",
       "      <td>666</td>\n",
       "      <td>c</td>\n",
       "      <td>28.234742</td>\n",
       "      <td>6.501290</td>\n",
       "    </tr>\n",
       "    <tr>\n",
       "      <th>6</th>\n",
       "      <td>7</td>\n",
       "      <td>666</td>\n",
       "      <td>gg</td>\n",
       "      <td>28.234742</td>\n",
       "      <td>6.501290</td>\n",
       "    </tr>\n",
       "    <tr>\n",
       "      <th>8</th>\n",
       "      <td>9</td>\n",
       "      <td>666</td>\n",
       "      <td>i</td>\n",
       "      <td>28.234742</td>\n",
       "      <td>6.501290</td>\n",
       "    </tr>\n",
       "    <tr>\n",
       "      <th>1</th>\n",
       "      <td>2</td>\n",
       "      <td>555</td>\n",
       "      <td>bb</td>\n",
       "      <td>27.442930</td>\n",
       "      <td>6.318968</td>\n",
       "    </tr>\n",
       "    <tr>\n",
       "      <th>9</th>\n",
       "      <td>10</td>\n",
       "      <td>555</td>\n",
       "      <td>j</td>\n",
       "      <td>27.442930</td>\n",
       "      <td>6.318968</td>\n",
       "    </tr>\n",
       "    <tr>\n",
       "      <th>0</th>\n",
       "      <td>1</td>\n",
       "      <td>444</td>\n",
       "      <td>aaa</td>\n",
       "      <td>44.400000</td>\n",
       "      <td>6.095825</td>\n",
       "    </tr>\n",
       "    <tr>\n",
       "      <th>3</th>\n",
       "      <td>4</td>\n",
       "      <td>444</td>\n",
       "      <td>dd</td>\n",
       "      <td>44.400000</td>\n",
       "      <td>6.095825</td>\n",
       "    </tr>\n",
       "    <tr>\n",
       "      <th>4</th>\n",
       "      <td>5</td>\n",
       "      <td>333</td>\n",
       "      <td>eeee</td>\n",
       "      <td>33.300000</td>\n",
       "      <td>5.808142</td>\n",
       "    </tr>\n",
       "    <tr>\n",
       "      <th>5</th>\n",
       "      <td>6</td>\n",
       "      <td>222</td>\n",
       "      <td>fff</td>\n",
       "      <td>22.200000</td>\n",
       "      <td>5.402677</td>\n",
       "    </tr>\n",
       "  </tbody>\n",
       "</table>\n",
       "</div>"
      ],
      "text/plain": [
       "   col1  col2  col3      col20  Func_Applied\n",
       "7     8   777     h  28.904210      6.655440\n",
       "2     3   666     c  28.234742      6.501290\n",
       "6     7   666    gg  28.234742      6.501290\n",
       "8     9   666     i  28.234742      6.501290\n",
       "1     2   555    bb  27.442930      6.318968\n",
       "9    10   555     j  27.442930      6.318968\n",
       "0     1   444   aaa  44.400000      6.095825\n",
       "3     4   444    dd  44.400000      6.095825\n",
       "4     5   333  eeee  33.300000      5.808142\n",
       "5     6   222   fff  22.200000      5.402677"
      ]
     },
     "execution_count": 396,
     "metadata": {},
     "output_type": "execute_result"
    }
   ],
   "source": [
    "rf.sort_values(by='Func_Applied',ascending=False)"
   ]
  },
  {
   "cell_type": "code",
   "execution_count": 1,
   "id": "1ae44553",
   "metadata": {},
   "outputs": [
    {
     "data": {
      "text/html": [
       "<div>\n",
       "<style scoped>\n",
       "    .dataframe tbody tr th:only-of-type {\n",
       "        vertical-align: middle;\n",
       "    }\n",
       "\n",
       "    .dataframe tbody tr th {\n",
       "        vertical-align: top;\n",
       "    }\n",
       "\n",
       "    .dataframe thead th {\n",
       "        text-align: right;\n",
       "    }\n",
       "</style>\n",
       "<table border=\"1\" class=\"dataframe\">\n",
       "  <thead>\n",
       "    <tr style=\"text-align: right;\">\n",
       "      <th></th>\n",
       "      <th>order_id</th>\n",
       "      <th>quantity</th>\n",
       "      <th>item_name</th>\n",
       "      <th>choice_description</th>\n",
       "      <th>item_price</th>\n",
       "    </tr>\n",
       "  </thead>\n",
       "  <tbody>\n",
       "    <tr>\n",
       "      <th>0</th>\n",
       "      <td>1</td>\n",
       "      <td>1</td>\n",
       "      <td>Chips and Fresh Tomato Salsa</td>\n",
       "      <td>NaN</td>\n",
       "      <td>$2.39</td>\n",
       "    </tr>\n",
       "    <tr>\n",
       "      <th>1</th>\n",
       "      <td>1</td>\n",
       "      <td>1</td>\n",
       "      <td>Izze</td>\n",
       "      <td>[Clementine]</td>\n",
       "      <td>$3.39</td>\n",
       "    </tr>\n",
       "    <tr>\n",
       "      <th>2</th>\n",
       "      <td>1</td>\n",
       "      <td>1</td>\n",
       "      <td>Nantucket Nectar</td>\n",
       "      <td>[Apple]</td>\n",
       "      <td>$3.39</td>\n",
       "    </tr>\n",
       "    <tr>\n",
       "      <th>3</th>\n",
       "      <td>1</td>\n",
       "      <td>1</td>\n",
       "      <td>Chips and Tomatillo-Green Chili Salsa</td>\n",
       "      <td>NaN</td>\n",
       "      <td>$2.39</td>\n",
       "    </tr>\n",
       "    <tr>\n",
       "      <th>4</th>\n",
       "      <td>2</td>\n",
       "      <td>2</td>\n",
       "      <td>Chicken Bowl</td>\n",
       "      <td>[Tomatillo-Red Chili Salsa (Hot), [Black Beans...</td>\n",
       "      <td>$16.98</td>\n",
       "    </tr>\n",
       "    <tr>\n",
       "      <th>...</th>\n",
       "      <td>...</td>\n",
       "      <td>...</td>\n",
       "      <td>...</td>\n",
       "      <td>...</td>\n",
       "      <td>...</td>\n",
       "    </tr>\n",
       "    <tr>\n",
       "      <th>4617</th>\n",
       "      <td>1833</td>\n",
       "      <td>1</td>\n",
       "      <td>Steak Burrito</td>\n",
       "      <td>[Fresh Tomato Salsa, [Rice, Black Beans, Sour ...</td>\n",
       "      <td>$11.75</td>\n",
       "    </tr>\n",
       "    <tr>\n",
       "      <th>4618</th>\n",
       "      <td>1833</td>\n",
       "      <td>1</td>\n",
       "      <td>Steak Burrito</td>\n",
       "      <td>[Fresh Tomato Salsa, [Rice, Sour Cream, Cheese...</td>\n",
       "      <td>$11.75</td>\n",
       "    </tr>\n",
       "    <tr>\n",
       "      <th>4619</th>\n",
       "      <td>1834</td>\n",
       "      <td>1</td>\n",
       "      <td>Chicken Salad Bowl</td>\n",
       "      <td>[Fresh Tomato Salsa, [Fajita Vegetables, Pinto...</td>\n",
       "      <td>$11.25</td>\n",
       "    </tr>\n",
       "    <tr>\n",
       "      <th>4620</th>\n",
       "      <td>1834</td>\n",
       "      <td>1</td>\n",
       "      <td>Chicken Salad Bowl</td>\n",
       "      <td>[Fresh Tomato Salsa, [Fajita Vegetables, Lettu...</td>\n",
       "      <td>$8.75</td>\n",
       "    </tr>\n",
       "    <tr>\n",
       "      <th>4621</th>\n",
       "      <td>1834</td>\n",
       "      <td>1</td>\n",
       "      <td>Chicken Salad Bowl</td>\n",
       "      <td>[Fresh Tomato Salsa, [Fajita Vegetables, Pinto...</td>\n",
       "      <td>$8.75</td>\n",
       "    </tr>\n",
       "  </tbody>\n",
       "</table>\n",
       "<p>4622 rows × 5 columns</p>\n",
       "</div>"
      ],
      "text/plain": [
       "      order_id  quantity                              item_name  \\\n",
       "0            1         1           Chips and Fresh Tomato Salsa   \n",
       "1            1         1                                   Izze   \n",
       "2            1         1                       Nantucket Nectar   \n",
       "3            1         1  Chips and Tomatillo-Green Chili Salsa   \n",
       "4            2         2                           Chicken Bowl   \n",
       "...        ...       ...                                    ...   \n",
       "4617      1833         1                          Steak Burrito   \n",
       "4618      1833         1                          Steak Burrito   \n",
       "4619      1834         1                     Chicken Salad Bowl   \n",
       "4620      1834         1                     Chicken Salad Bowl   \n",
       "4621      1834         1                     Chicken Salad Bowl   \n",
       "\n",
       "                                     choice_description item_price  \n",
       "0                                                   NaN     $2.39   \n",
       "1                                          [Clementine]     $3.39   \n",
       "2                                               [Apple]     $3.39   \n",
       "3                                                   NaN     $2.39   \n",
       "4     [Tomatillo-Red Chili Salsa (Hot), [Black Beans...    $16.98   \n",
       "...                                                 ...        ...  \n",
       "4617  [Fresh Tomato Salsa, [Rice, Black Beans, Sour ...    $11.75   \n",
       "4618  [Fresh Tomato Salsa, [Rice, Sour Cream, Cheese...    $11.75   \n",
       "4619  [Fresh Tomato Salsa, [Fajita Vegetables, Pinto...    $11.25   \n",
       "4620  [Fresh Tomato Salsa, [Fajita Vegetables, Lettu...     $8.75   \n",
       "4621  [Fresh Tomato Salsa, [Fajita Vegetables, Pinto...     $8.75   \n",
       "\n",
       "[4622 rows x 5 columns]"
      ]
     },
     "execution_count": 1,
     "metadata": {},
     "output_type": "execute_result"
    }
   ],
   "source": [
    "import pandas as pd \n",
    "url='https://raw.githubusercontent.com/justmarkham/DAT8/master/data/chipotle.tsv'\n",
    "fr1=pd.read_csv(url,sep='\\t')\n",
    "fr1"
   ]
  },
  {
   "cell_type": "code",
   "execution_count": 2,
   "id": "aab7af05",
   "metadata": {},
   "outputs": [
    {
     "data": {
      "text/html": [
       "<div>\n",
       "<style scoped>\n",
       "    .dataframe tbody tr th:only-of-type {\n",
       "        vertical-align: middle;\n",
       "    }\n",
       "\n",
       "    .dataframe tbody tr th {\n",
       "        vertical-align: top;\n",
       "    }\n",
       "\n",
       "    .dataframe thead th {\n",
       "        text-align: right;\n",
       "    }\n",
       "</style>\n",
       "<table border=\"1\" class=\"dataframe\">\n",
       "  <thead>\n",
       "    <tr style=\"text-align: right;\">\n",
       "      <th></th>\n",
       "      <th>order_id</th>\n",
       "      <th>quantity</th>\n",
       "      <th>item_name</th>\n",
       "      <th>choice_description</th>\n",
       "      <th>item_price</th>\n",
       "    </tr>\n",
       "  </thead>\n",
       "  <tbody>\n",
       "    <tr>\n",
       "      <th>0</th>\n",
       "      <td>1</td>\n",
       "      <td>1</td>\n",
       "      <td>Chips and Fresh Tomato Salsa</td>\n",
       "      <td>NaN</td>\n",
       "      <td>$2.39</td>\n",
       "    </tr>\n",
       "    <tr>\n",
       "      <th>1</th>\n",
       "      <td>1</td>\n",
       "      <td>1</td>\n",
       "      <td>Izze</td>\n",
       "      <td>[Clementine]</td>\n",
       "      <td>$3.39</td>\n",
       "    </tr>\n",
       "    <tr>\n",
       "      <th>2</th>\n",
       "      <td>1</td>\n",
       "      <td>1</td>\n",
       "      <td>Nantucket Nectar</td>\n",
       "      <td>[Apple]</td>\n",
       "      <td>$3.39</td>\n",
       "    </tr>\n",
       "    <tr>\n",
       "      <th>3</th>\n",
       "      <td>1</td>\n",
       "      <td>1</td>\n",
       "      <td>Chips and Tomatillo-Green Chili Salsa</td>\n",
       "      <td>NaN</td>\n",
       "      <td>$2.39</td>\n",
       "    </tr>\n",
       "    <tr>\n",
       "      <th>4</th>\n",
       "      <td>2</td>\n",
       "      <td>2</td>\n",
       "      <td>Chicken Bowl</td>\n",
       "      <td>[Tomatillo-Red Chili Salsa (Hot), [Black Beans...</td>\n",
       "      <td>$16.98</td>\n",
       "    </tr>\n",
       "  </tbody>\n",
       "</table>\n",
       "</div>"
      ],
      "text/plain": [
       "   order_id  quantity                              item_name  \\\n",
       "0         1         1           Chips and Fresh Tomato Salsa   \n",
       "1         1         1                                   Izze   \n",
       "2         1         1                       Nantucket Nectar   \n",
       "3         1         1  Chips and Tomatillo-Green Chili Salsa   \n",
       "4         2         2                           Chicken Bowl   \n",
       "\n",
       "                                  choice_description item_price  \n",
       "0                                                NaN     $2.39   \n",
       "1                                       [Clementine]     $3.39   \n",
       "2                                            [Apple]     $3.39   \n",
       "3                                                NaN     $2.39   \n",
       "4  [Tomatillo-Red Chili Salsa (Hot), [Black Beans...    $16.98   "
      ]
     },
     "execution_count": 2,
     "metadata": {},
     "output_type": "execute_result"
    }
   ],
   "source": [
    "fr1.head(5)"
   ]
  },
  {
   "cell_type": "code",
   "execution_count": 4,
   "id": "fbfb67ac",
   "metadata": {},
   "outputs": [
    {
     "data": {
      "text/html": [
       "<div>\n",
       "<style scoped>\n",
       "    .dataframe tbody tr th:only-of-type {\n",
       "        vertical-align: middle;\n",
       "    }\n",
       "\n",
       "    .dataframe tbody tr th {\n",
       "        vertical-align: top;\n",
       "    }\n",
       "\n",
       "    .dataframe thead th {\n",
       "        text-align: right;\n",
       "    }\n",
       "</style>\n",
       "<table border=\"1\" class=\"dataframe\">\n",
       "  <thead>\n",
       "    <tr style=\"text-align: right;\">\n",
       "      <th></th>\n",
       "      <th>order_id</th>\n",
       "      <th>quantity</th>\n",
       "      <th>item_name</th>\n",
       "      <th>choice_description</th>\n",
       "      <th>item_price</th>\n",
       "    </tr>\n",
       "  </thead>\n",
       "  <tbody>\n",
       "    <tr>\n",
       "      <th>4617</th>\n",
       "      <td>1833</td>\n",
       "      <td>1</td>\n",
       "      <td>Steak Burrito</td>\n",
       "      <td>[Fresh Tomato Salsa, [Rice, Black Beans, Sour ...</td>\n",
       "      <td>$11.75</td>\n",
       "    </tr>\n",
       "    <tr>\n",
       "      <th>4618</th>\n",
       "      <td>1833</td>\n",
       "      <td>1</td>\n",
       "      <td>Steak Burrito</td>\n",
       "      <td>[Fresh Tomato Salsa, [Rice, Sour Cream, Cheese...</td>\n",
       "      <td>$11.75</td>\n",
       "    </tr>\n",
       "    <tr>\n",
       "      <th>4619</th>\n",
       "      <td>1834</td>\n",
       "      <td>1</td>\n",
       "      <td>Chicken Salad Bowl</td>\n",
       "      <td>[Fresh Tomato Salsa, [Fajita Vegetables, Pinto...</td>\n",
       "      <td>$11.25</td>\n",
       "    </tr>\n",
       "    <tr>\n",
       "      <th>4620</th>\n",
       "      <td>1834</td>\n",
       "      <td>1</td>\n",
       "      <td>Chicken Salad Bowl</td>\n",
       "      <td>[Fresh Tomato Salsa, [Fajita Vegetables, Lettu...</td>\n",
       "      <td>$8.75</td>\n",
       "    </tr>\n",
       "    <tr>\n",
       "      <th>4621</th>\n",
       "      <td>1834</td>\n",
       "      <td>1</td>\n",
       "      <td>Chicken Salad Bowl</td>\n",
       "      <td>[Fresh Tomato Salsa, [Fajita Vegetables, Pinto...</td>\n",
       "      <td>$8.75</td>\n",
       "    </tr>\n",
       "  </tbody>\n",
       "</table>\n",
       "</div>"
      ],
      "text/plain": [
       "      order_id  quantity           item_name  \\\n",
       "4617      1833         1       Steak Burrito   \n",
       "4618      1833         1       Steak Burrito   \n",
       "4619      1834         1  Chicken Salad Bowl   \n",
       "4620      1834         1  Chicken Salad Bowl   \n",
       "4621      1834         1  Chicken Salad Bowl   \n",
       "\n",
       "                                     choice_description item_price  \n",
       "4617  [Fresh Tomato Salsa, [Rice, Black Beans, Sour ...    $11.75   \n",
       "4618  [Fresh Tomato Salsa, [Rice, Sour Cream, Cheese...    $11.75   \n",
       "4619  [Fresh Tomato Salsa, [Fajita Vegetables, Pinto...    $11.25   \n",
       "4620  [Fresh Tomato Salsa, [Fajita Vegetables, Lettu...     $8.75   \n",
       "4621  [Fresh Tomato Salsa, [Fajita Vegetables, Pinto...     $8.75   "
      ]
     },
     "execution_count": 4,
     "metadata": {},
     "output_type": "execute_result"
    }
   ],
   "source": [
    "fr1.tail(5)"
   ]
  },
  {
   "cell_type": "code",
   "execution_count": 7,
   "id": "a79fac23",
   "metadata": {},
   "outputs": [
    {
     "data": {
      "text/plain": [
       "4622"
      ]
     },
     "execution_count": 7,
     "metadata": {},
     "output_type": "execute_result"
    }
   ],
   "source": [
    "fr1.shape[0]"
   ]
  },
  {
   "cell_type": "code",
   "execution_count": 8,
   "id": "c70bbe50",
   "metadata": {},
   "outputs": [
    {
     "data": {
      "text/plain": [
       "RangeIndex(start=0, stop=4622, step=1)"
      ]
     },
     "execution_count": 8,
     "metadata": {},
     "output_type": "execute_result"
    }
   ],
   "source": [
    "fr1.index"
   ]
  },
  {
   "cell_type": "code",
   "execution_count": null,
   "id": "1a06eaa9",
   "metadata": {},
   "outputs": [],
   "source": []
  }
 ],
 "metadata": {
  "kernelspec": {
   "display_name": "Python 3",
   "language": "python",
   "name": "python3"
  },
  "language_info": {
   "codemirror_mode": {
    "name": "ipython",
    "version": 3
   },
   "file_extension": ".py",
   "mimetype": "text/x-python",
   "name": "python",
   "nbconvert_exporter": "python",
   "pygments_lexer": "ipython3",
   "version": "3.8.8"
  }
 },
 "nbformat": 4,
 "nbformat_minor": 5
}
