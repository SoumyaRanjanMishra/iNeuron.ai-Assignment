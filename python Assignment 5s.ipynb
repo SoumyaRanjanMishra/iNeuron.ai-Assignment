{
 "cells": [
  {
   "cell_type": "code",
   "execution_count": 9,
   "metadata": {},
   "outputs": [
    {
     "name": "stdout",
     "output_type": "stream",
     "text": [
      "Exception raised and its description is can't divide with zero: division by zero\n"
     ]
    }
   ],
   "source": [
    "# Write a function to compute 5/0 and use try/except to catch the exceptions.\n",
    "def divide():\n",
    "    return 5/0\n",
    "try:\n",
    "    divide()\n",
    "except ZeroDivisionError as msg:\n",
    "    print(\"Exception raised and its description is can't divide with zero:\",msg)\n",
    "except ValueError :\n",
    "    print(\"Any other exception Error please provide int value only\")"
   ]
  },
  {
   "cell_type": "code",
   "execution_count": 12,
   "metadata": {},
   "outputs": [
    {
     "name": "stdout",
     "output_type": "stream",
     "text": [
      "Americans Play Baseball .\n",
      "Americans Play Cricket .\n",
      "Americans watch Baseball .\n",
      "Americans watch Cricket .\n",
      "Indians Play Baseball .\n",
      "Indians Play Cricket .\n",
      "Indians watch Baseball .\n",
      "Indians watch Cricket .\n"
     ]
    }
   ],
   "source": [
    "# Implement a Python program to generate all sentences where subject is in[\"Americans\", \"Indians\"] \n",
    "# and verb is in [\"Play\", \"watch\"] and the object is in [\"Baseball\",\"cricket\"].\n",
    "# Hint: Subject,Verb and Object should be declared in the program as shown below.\n",
    "# subjects=[\"Americans \",\"Indians\"],verbs=[\"play\",\"watch\"],objects=[\"Baseball\",\"Cricket\"]\n",
    "# Output should come as below:\n",
    "    # Americans play Baseball.\n",
    "    # Americans play Cricket.\n",
    "    # Americans watch Baseball.\n",
    "    # Americans watch Cricket.\n",
    "    # Indians play Baseball.\n",
    "    # Indians play Cricket.\n",
    "    # Indians watch Baseball.\n",
    "    # Indians watch Cricket.\n",
    "subjects=[\"Americans\",\"Indians\"]\n",
    "verbs=[\"Play\",\"watch\"]\n",
    "objects=[\"Baseball\",\"Cricket\"]\n",
    "comp_list=[(sub+' '+vrb+' '+obj+' '+'.')for sub in subjects for vrb in verbs for obj in objects]\n",
    "for i in comp_list:\n",
    "    print(i)"
   ]
  }
 ],
 "metadata": {
  "kernelspec": {
   "display_name": "Python 3",
   "language": "python",
   "name": "python3"
  },
  "language_info": {
   "codemirror_mode": {
    "name": "ipython",
    "version": 3
   },
   "file_extension": ".py",
   "mimetype": "text/x-python",
   "name": "python",
   "nbconvert_exporter": "python",
   "pygments_lexer": "ipython3",
   "version": "3.7.9"
  }
 },
 "nbformat": 4,
 "nbformat_minor": 4
}
