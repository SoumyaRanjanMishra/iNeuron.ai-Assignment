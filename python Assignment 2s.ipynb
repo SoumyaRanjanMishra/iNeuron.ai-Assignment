{
 "cells": [
  {
   "cell_type": "code",
   "execution_count": 4,
   "metadata": {},
   "outputs": [
    {
     "name": "stdout",
     "output_type": "stream",
     "text": [
      "Input Word:-ineuron\n",
      "output:- norueni \n"
     ]
    }
   ],
   "source": [
    "#Sample Output:-\n",
    "#1 Create the below pattern using nested for loop in Python.\n",
    "#2 Write a Python program to reverse a word after accepting the input from the user.\n",
    "#  Input word: ineuron\n",
    "#  Output: norueni\n",
    "word=input(\"Input Word:-\")\n",
    "word1=\" \"\n",
    "for i in word:\n",
    "    word1=i+word1\n",
    "print(\"output:-\",word1)"
   ]
  },
  {
   "cell_type": "code",
   "execution_count": 15,
   "metadata": {},
   "outputs": [
    {
     "name": "stdout",
     "output_type": "stream",
     "text": [
      "Enter the Number:-5\n",
      "* \n",
      "* * \n",
      "* * * \n",
      "* * * * \n",
      "* * * * *  \n",
      "* * * *  \n",
      "* * *  \n",
      "* *  \n",
      "*  \n",
      " \n"
     ]
    }
   ],
   "source": [
    "# star pattern programme:-\n",
    "n=int(input(\"Enter the Number:-\"))\n",
    "for i in range(1,n):\n",
    "    for j in range(1,i+1):\n",
    "        print(\"*\", end='')\n",
    "    print(\"\\r\")\n",
    "for i in range(n+1,0,-1):\n",
    "    for j in range(0,i-1):\n",
    "        print(\"*\", end=' ')\n",
    "    print(\" \")"
   ]
  }
 ],
 "metadata": {
  "kernelspec": {
   "display_name": "Python 3",
   "language": "python",
   "name": "python3"
  },
  "language_info": {
   "codemirror_mode": {
    "name": "ipython",
    "version": 3
   },
   "file_extension": ".py",
   "mimetype": "text/x-python",
   "name": "python",
   "nbconvert_exporter": "python",
   "pygments_lexer": "ipython3",
   "version": "3.7.9"
  }
 },
 "nbformat": 4,
 "nbformat_minor": 4
}
