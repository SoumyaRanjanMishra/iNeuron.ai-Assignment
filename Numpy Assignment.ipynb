{
 "cells": [
  {
   "cell_type": "raw",
   "id": "6eb9484e",
   "metadata": {},
   "source": [
    "*Problem Statement 1:\n",
    "     Write a function so that the columns of the output matrix are powers of the input_vector.The order of the powers is determined by the increasing boolean argument.Specifically,when_increasing is False, the i-th output column is the input vector raised element-wise to the power of N-i-1.HINT:_Such a matrix with a geometric progression in each row is named for Alexandre-Theophile Vandermonde."
   ]
  },
  {
   "cell_type": "code",
   "execution_count": 2,
   "id": "257d860c",
   "metadata": {
    "scrolled": true
   },
   "outputs": [
    {
     "data": {
      "text/plain": [
       "array([[ 1,  1,  1],\n",
       "       [ 4,  2,  1],\n",
       "       [ 9,  3,  1],\n",
       "       [16,  4,  1]])"
      ]
     },
     "execution_count": 2,
     "metadata": {},
     "output_type": "execute_result"
    }
   ],
   "source": [
    "#_Creating a matrix with output columns based on input vector(N):\n",
    "#_Note1_Vandermonde matrix. If increasing is False, the first column is x^(N-1), the second x^(N-2) and so forth.\n",
    "#_Note2_If increasing is True, the columns are x^0, x^1, ..., x^(N-1).\n",
    "#_Order of the powers of the columns.If True,the powers increase from left to right,if False (the default) they are reversed.\n",
    "#_x-array_like_1-D input array.\n",
    "#_N Number of columns in the output. If N is not specified, a square array is returned (N = len(x)).\n",
    "\n",
    "import numpy as np\n",
    "x=np.array([1,2,3,4])\n",
    "N=3\n",
    "np.vander(x,N)     #Generate a vandermode matrix function using np.vander from Numpy API reference ."
   ]
  },
  {
   "cell_type": "code",
   "execution_count": 3,
   "id": "06943e60",
   "metadata": {},
   "outputs": [
    {
     "data": {
      "text/plain": [
       "array([[ 1,  1,  1],\n",
       "       [ 4,  2,  1],\n",
       "       [ 9,  3,  1],\n",
       "       [16,  4,  1]], dtype=int32)"
      ]
     },
     "execution_count": 3,
     "metadata": {},
     "output_type": "execute_result"
    }
   ],
   "source": [
    "#_Apply the condition and logic Vandermode matrix:\n",
    "np.column_stack([x**(N-1-y) for y in range (N)])"
   ]
  },
  {
   "cell_type": "code",
   "execution_count": 4,
   "id": "eb36d708",
   "metadata": {},
   "outputs": [
    {
     "data": {
      "text/plain": [
       "array([[ 1,  1,  1,  1],\n",
       "       [ 8,  4,  2,  1],\n",
       "       [27,  9,  3,  1],\n",
       "       [64, 16,  4,  1]])"
      ]
     },
     "execution_count": 4,
     "metadata": {},
     "output_type": "execute_result"
    }
   ],
   "source": [
    "x=np.array([1,2,3,4])\n",
    "np.vander(x,increasing=False)"
   ]
  },
  {
   "cell_type": "code",
   "execution_count": 5,
   "id": "be2e6e6d",
   "metadata": {},
   "outputs": [
    {
     "data": {
      "text/plain": [
       "12.00000000000001"
      ]
     },
     "execution_count": 5,
     "metadata": {},
     "output_type": "execute_result"
    }
   ],
   "source": [
    "#_Find the Determinant of a square vandermodematrix is the product of the difference between the valueof the input vector:\n",
    "np.linalg.det(np.vander(x))"
   ]
  },
  {
   "cell_type": "raw",
   "id": "38975840",
   "metadata": {},
   "source": [
    "*Problem Statement 2:\n",
    "            Given a sequence of n values x1, x2, ..., xn and a window size k>0, the k-th moving average of\n",
    "the given sequence is defined as follows:The moving average sequence has n-k+1 elements as shown below.\n",
    "The moving averages with k=4 of a ten-value sequence (n=10) is shown below:-\n",
    "i 1 2 3 4 5 6 7 8 9 10\n",
    "===== == == == == == == == == == ==\n",
    "Input 10 20 30 40 50 60 70 80 90 100\n",
    "y1 25 = (10+20+30+40)/4\n",
    "y2 35 = (20+30+40+50)/4\n",
    "y3 45 = (30+40+50+60)/4\n",
    "y4 55 = (40+50+60+70)/4\n",
    "y5 65 = (50+60+70+80)/4\n",
    "y6 75 = (60+70+80+90)/4\n",
    "y7 85 = (70+80+90+100)/4\n",
    "Thus, the moving average sequence has n-k+1=10-4+1=7 values.\n",
    "Question: Write a function to find moving average in an array over a window:\n",
    "Test it over [3, 5, 7, 2, 8, 10, 11, 65, 72, 81, 99, 100, 150] and window of 3."
   ]
  },
  {
   "cell_type": "code",
   "execution_count": 6,
   "id": "3d2ce023",
   "metadata": {},
   "outputs": [
    {
     "name": "stdout",
     "output_type": "stream",
     "text": [
      "[  5.           4.66666667   5.66666667   6.66666667   9.66666667\n",
      "  28.66666667  49.33333333  72.66666667  84.          93.33333333\n",
      " 116.33333333]\n"
     ]
    }
   ],
   "source": [
    "# \"\"The moving_average function in an array,n-th over window where size=3 in a given sequence defined as n=3.\n",
    "#  where_cumulative sum of array element given over a matrix_func_defined_numpy.cumsum(arr,axis=None,dtype=None,out=None).\n",
    "#   arr:Array_containing numbers whose cumulative sum is desired & Axis along which the cumulative sum is computed.\"\"\n",
    "import numpy as np\n",
    "def moving_average(test,n=3):\n",
    "    value=np.cumsum(test,dtype=None)\n",
    "    value[n:]=value[n:]-value[:-n]\n",
    "    return value[n - 1:] / n\n",
    "test=[3, 5, 7, 2, 8, 10, 11, 65, 72, 81, 99, 100, 150]\n",
    "print(moving_average(test,n=3))"
   ]
  }
 ],
 "metadata": {
  "kernelspec": {
   "display_name": "Python 3",
   "language": "python",
   "name": "python3"
  },
  "language_info": {
   "codemirror_mode": {
    "name": "ipython",
    "version": 3
   },
   "file_extension": ".py",
   "mimetype": "text/x-python",
   "name": "python",
   "nbconvert_exporter": "python",
   "pygments_lexer": "ipython3",
   "version": "3.8.8"
  }
 },
 "nbformat": 4,
 "nbformat_minor": 5
}
