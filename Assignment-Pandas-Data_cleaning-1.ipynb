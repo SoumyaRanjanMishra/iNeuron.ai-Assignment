{
 "cells": [
  {
   "cell_type": "code",
   "execution_count": 1,
   "id": "e9f79491",
   "metadata": {},
   "outputs": [
    {
     "name": "stdout",
     "output_type": "stream",
     "text": [
      "\n",
      " Output:- \n",
      "             From_To  FlightNumber  RecentDelays              Airline\n",
      "0      LoNDon_paris       10045.0      [23, 47]               KLM(!)\n",
      "1      MAdrid_miLAN           NaN            []    <Air France> (12)\n",
      "2  londON_StockhOlm       10065.0  [24, 43, 87]  (British Airways. )\n",
      "3    Budapest_PaRis           NaN          [13]       12. Air France\n",
      "4   Brussels_londOn       10085.0      [67, 32]          \"Swiss Air\"\n"
     ]
    }
   ],
   "source": [
    "#Someone_giving_Data-containing_Malformed String's Python ,list and Missing Data:\n",
    "import pandas as pd\n",
    "import numpy as np\n",
    "df1 = pd.DataFrame({'From_To': ['LoNDon_paris', 'MAdrid_miLAN','londON_StockhOlm','Budapest_PaRis', 'Brussels_londOn'],\n",
    "                   'FlightNumber': [10045, np.nan, 10065, np.nan, 10085],\n",
    "                   'RecentDelays': [[23, 47], [], [24, 43, 87], [13], [67, 32]],\n",
    "                   'Airline': ['KLM(!)', '<Air France> (12)', '(British Airways. )','12. Air France', '\"Swiss Air\"']})\n",
    "print(\"\\n Output:- \\n\",df1)"
   ]
  },
  {
   "cell_type": "raw",
   "id": "a6bf6435",
   "metadata": {},
   "source": [
    "1.Some_values in the the FlightNumber column are missing.These numbers are meant to increase by 10 with each row so 10055 and    10075 need to be put in place.Fill in these missing numbers and make the column an integer column(instead of a float Column).   "
   ]
  },
  {
   "cell_type": "code",
   "execution_count": 2,
   "id": "3834703c",
   "metadata": {},
   "outputs": [
    {
     "name": "stdout",
     "output_type": "stream",
     "text": [
      "\n",
      "Output:-\n",
      "             From_To  FlightNumber  RecentDelays              Airline\n",
      "0      LoNDon_paris         10045      [23, 47]               KLM(!)\n",
      "1      MAdrid_miLAN         10055            []    <Air France> (12)\n",
      "2  londON_StockhOlm         10065  [24, 43, 87]  (British Airways. )\n",
      "3    Budapest_PaRis         10075          [13]       12. Air France\n",
      "4   Brussels_londOn         10085      [67, 32]          \"Swiss Air\"\n"
     ]
    },
    {
     "name": "stderr",
     "output_type": "stream",
     "text": [
      "C:\\Users\\Soumya\\anaconda3\\lib\\site-packages\\pandas\\core\\indexing.py:205: SettingWithCopyWarning: \n",
      "A value is trying to be set on a copy of a slice from a DataFrame\n",
      "\n",
      "See the caveats in the documentation: http://pandas.pydata.org/pandas-docs/stable/user_guide/indexing.html#returning-a-view-versus-a-copy\n",
      "  self._setitem_with_indexer(indexer, value)\n"
     ]
    }
   ],
   "source": [
    "x,y = df1.FlightNumber.loc[[0]].values[0]+10, df1.FlightNumber.loc[[4]].values[0]-10\n",
    "df1.FlightNumber.loc[[1]]=df1.FlightNumber.loc[[1]].fillna(x)\n",
    "df1.FlightNumber.loc[[3]]=df1.FlightNumber.loc[[3]].fillna(y)\n",
    "\n",
    "#_Now_Convert_float type to int type:-\n",
    "df1.FlightNumber = df1.FlightNumber.astype(int)\n",
    "print(\"\\nOutput:-\\n\",df1)"
   ]
  },
  {
   "cell_type": "raw",
   "id": "cfbc24c1",
   "metadata": {},
   "source": [
    "2.The From_To column would be better as two separate columns! Split each string on the underscore delimiter _ to give a new   temporary DataFrame with the correct values. Assign the correct column names to this temporary DataFrame."
   ]
  },
  {
   "cell_type": "code",
   "execution_count": 3,
   "id": "78521b5a",
   "metadata": {},
   "outputs": [
    {
     "data": {
      "text/plain": [
       "0        LoNDon_paris\n",
       "1        MAdrid_miLAN\n",
       "2    londON_StockhOlm\n",
       "3      Budapest_PaRis\n",
       "4     Brussels_londOn\n",
       "Name: From_To, dtype: object"
      ]
     },
     "execution_count": 3,
     "metadata": {},
     "output_type": "execute_result"
    }
   ],
   "source": [
    "df1['From_To']"
   ]
  },
  {
   "cell_type": "code",
   "execution_count": 4,
   "id": "cb12b69e",
   "metadata": {},
   "outputs": [
    {
     "name": "stdout",
     "output_type": "stream",
     "text": [
      "\n",
      "Output:-\n",
      "        From         To\n",
      "0    LoNDon      paris\n",
      "1    MAdrid      miLAN\n",
      "2    londON  StockhOlm\n",
      "3  Budapest      PaRis\n",
      "4  Brussels     londOn\n"
     ]
    }
   ],
   "source": [
    "df2=df1.From_To.str.split('_',expand=True)\n",
    "df2.columns=['From','To']\n",
    "print(\"\\nOutput:-\\n\",df2)"
   ]
  },
  {
   "cell_type": "raw",
   "id": "92e90d66",
   "metadata": {},
   "source": [
    "3. Notice how the capitalisation of the city names is all mixed up in this temporary DataFrame. Standardise the strings so that    only the first letter is uppercase (e.g. \"londON\" should become \"London\".)"
   ]
  },
  {
   "cell_type": "code",
   "execution_count": 6,
   "id": "d5c4cdc2",
   "metadata": {},
   "outputs": [
    {
     "name": "stdout",
     "output_type": "stream",
     "text": [
      "\n",
      "Output:-\n",
      "        From         To\n",
      "0    London      Paris\n",
      "1    Madrid      Milan\n",
      "2    London  Stockholm\n",
      "3  Budapest      Paris\n",
      "4  Brussels     London\n"
     ]
    }
   ],
   "source": [
    "#tittle_Parameter Standardise the String So,that only_First_letter is upper-case:-\n",
    "df2.From=df2.From.str.title()\n",
    "df2.To=df2.To.str.title()\n",
    "print(\"\\nOutput:-\\n\",df2)"
   ]
  },
  {
   "cell_type": "raw",
   "id": "77a3bbc0",
   "metadata": {},
   "source": [
    "4. Delete the From_To column from df and attach the temporary DataFrame from the previous questions."
   ]
  },
  {
   "cell_type": "code",
   "execution_count": 7,
   "id": "7bf1f5ec",
   "metadata": {},
   "outputs": [
    {
     "name": "stdout",
     "output_type": "stream",
     "text": [
      "            From_To  FlightNumber  RecentDelays              Airline\n",
      "0      LoNDon_paris         10045      [23, 47]               KLM(!)\n",
      "1      MAdrid_miLAN         10055            []    <Air France> (12)\n",
      "2  londON_StockhOlm         10065  [24, 43, 87]  (British Airways. )\n",
      "3    Budapest_PaRis         10075          [13]       12. Air France\n",
      "4   Brussels_londOn         10085      [67, 32]          \"Swiss Air\"\n"
     ]
    }
   ],
   "source": [
    "print(df1)"
   ]
  },
  {
   "cell_type": "code",
   "execution_count": 8,
   "id": "02ac54fc",
   "metadata": {},
   "outputs": [
    {
     "name": "stdout",
     "output_type": "stream",
     "text": [
      "\n",
      "output\n",
      "    FlightNumber  RecentDelays              Airline      From         To\n",
      "0         10045      [23, 47]               KLM(!)    London      Paris\n",
      "1         10055            []    <Air France> (12)    Madrid      Milan\n",
      "2         10065  [24, 43, 87]  (British Airways. )    London  Stockholm\n",
      "3         10075          [13]       12. Air France  Budapest      Paris\n",
      "4         10085      [67, 32]          \"Swiss Air\"  Brussels     London\n"
     ]
    }
   ],
   "source": [
    "df1=df1.drop(\"From_To\",axis=1).join(df2)\n",
    "print(\"\\noutput\\n\",df1)"
   ]
  },
  {
   "cell_type": "raw",
   "id": "dc73a3e9",
   "metadata": {},
   "source": [
    "5.In_the RecentDelays-column, the values have been entered into the DataFrame as a list. We would like each first value in its   own column, each second value in its own column, and so on. If there isn't an Nth value, the value should be NaN.\n",
    "  Expand the Series of lists into a DataFrame named delays, rename the columns delay_1, delay_2, etc. and replace the unwanted   RecentDelays column in df_with delays."
   ]
  },
  {
   "cell_type": "code",
   "execution_count": 9,
   "id": "081041ab",
   "metadata": {},
   "outputs": [
    {
     "name": "stdout",
     "output_type": "stream",
     "text": [
      "\n",
      "Output:-\n",
      "    delays_1  delays_2  delays_3\n",
      "0      23.0      47.0       NaN\n",
      "1       NaN       NaN       NaN\n",
      "2      24.0      43.0      87.0\n",
      "3      13.0       NaN       NaN\n",
      "4      67.0      32.0       NaN\n"
     ]
    }
   ],
   "source": [
    "delays=pd.DataFrame(df1[\"RecentDelays\"].values.tolist())\n",
    "delays.columns=['delays_{}'.format(i) for i in range(1,len(delays.columns)+1)]\n",
    "print(\"\\nOutput:-\\n\",delays)"
   ]
  },
  {
   "cell_type": "code",
   "execution_count": 10,
   "id": "46163abf",
   "metadata": {},
   "outputs": [
    {
     "name": "stdout",
     "output_type": "stream",
     "text": [
      "   FlightNumber  RecentDelays              Airline      From         To\n",
      "0         10045      [23, 47]               KLM(!)    London      Paris\n",
      "1         10055            []    <Air France> (12)    Madrid      Milan\n",
      "2         10065  [24, 43, 87]  (British Airways. )    London  Stockholm\n",
      "3         10075          [13]       12. Air France  Budapest      Paris\n",
      "4         10085      [67, 32]          \"Swiss Air\"  Brussels     London\n"
     ]
    }
   ],
   "source": [
    "print(df1)"
   ]
  },
  {
   "cell_type": "code",
   "execution_count": 11,
   "id": "7d3fb327",
   "metadata": {},
   "outputs": [
    {
     "name": "stdout",
     "output_type": "stream",
     "text": [
      "\n",
      " output:-\n",
      "    FlightNumber              Airline      From         To  delays_1  delays_2  \\\n",
      "0         10045               KLM(!)    London      Paris      23.0      47.0   \n",
      "1         10055    <Air France> (12)    Madrid      Milan       NaN       NaN   \n",
      "2         10065  (British Airways. )    London  Stockholm      24.0      43.0   \n",
      "3         10075       12. Air France  Budapest      Paris      13.0       NaN   \n",
      "4         10085          \"Swiss Air\"  Brussels     London      67.0      32.0   \n",
      "\n",
      "   delays_3  \n",
      "0       NaN  \n",
      "1       NaN  \n",
      "2      87.0  \n",
      "3       NaN  \n",
      "4       NaN  \n"
     ]
    }
   ],
   "source": [
    "df1=df1.drop(\"RecentDelays\",axis=1).join(delays)\n",
    "print(\"\\n output:-\\n\",df1)"
   ]
  }
 ],
 "metadata": {
  "kernelspec": {
   "display_name": "Python 3",
   "language": "python",
   "name": "python3"
  },
  "language_info": {
   "codemirror_mode": {
    "name": "ipython",
    "version": 3
   },
   "file_extension": ".py",
   "mimetype": "text/x-python",
   "name": "python",
   "nbconvert_exporter": "python",
   "pygments_lexer": "ipython3",
   "version": "3.8.8"
  }
 },
 "nbformat": 4,
 "nbformat_minor": 5
}
